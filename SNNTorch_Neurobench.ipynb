{
 "cells": [
  {
   "cell_type": "markdown",
   "id": "af092228",
   "metadata": {},
   "source": [
    "# The hands-on workflow\n",
    "\n",
    "The full development workflow we will follow is:\n",
    "\n",
    "![workflow](images/workflow.png)\n",
    "\n",
    "In this notebook:\n",
    " - From NIR, we will export the model to **snnTorch**\n",
    " - With the snnTorch model, we can make use of **NeuroBench** to obtain metrics related to the execution of the model."
   ]
  },
  {
   "cell_type": "markdown",
   "id": "9019057e",
   "metadata": {},
   "source": [
    "# Why NeuroBench?\n",
    "\n",
    "When improving the performance of SNNs execution on hardware you need 3 main components:\n",
    " 1. Information about your **hardware**: What are your bottlenecks? -> Done with hardware details or with **benchmarks**.\n",
    " 2. Information about your **network**: What is the layer that has more of X (input spikes, memory accesses etc)\n",
    " 3. A tool that uses this information to **inform** the **training** procedure and the **hardware deployment**\n",
    "\n",
    "**NeuroBench** covers the second point. It is a hardware agnostic tool to extract relevant metrics from your model.\n",
    "\n",
    "For example:\n",
    "\n",
    " - From your hardware, you know the main bottleneck is memory access (synaptic memory reads), in other words, reading the weights\n",
    " - From NeuroBench, you understand the layer that is performing the most memory accesses is layer 3\n",
    " - With this information you can:\n",
    "    - Tune your training procedure to reduce the activation on layer 2\n",
    "    - Prune weights in the layer 2 -> layer 3 matrix\n",
    "    - During deployment, assign more cores to layer 3, so that its computation can be speed up."
   ]
  },
  {
   "cell_type": "markdown",
   "id": "bb90a797",
   "metadata": {},
   "source": [
    "# Package installation \n",
    "\n",
    "Execute only if you are usng Goolge Colab. If you are using your own local environment make sure you installed the dependecies first"
   ]
  },
  {
   "cell_type": "code",
   "execution_count": 1,
   "id": "5b2b86b2",
   "metadata": {},
   "outputs": [
    {
     "name": "stdout",
     "output_type": "stream",
     "text": [
      "Requirement already satisfied: snntorch in /home/innuce-ws/miniforge3/envs/speck/lib/python3.12/site-packages (0.9.4)\n",
      "Requirement already satisfied: neurobench in /home/innuce-ws/miniforge3/envs/speck/lib/python3.12/site-packages (2.1.0)\n",
      "Requirement already satisfied: llvmlite>=0.40.1 in /home/innuce-ws/miniforge3/envs/speck/lib/python3.12/site-packages (from neurobench) (0.44.0)\n",
      "Requirement already satisfied: numba>=0.57.1 in /home/innuce-ws/miniforge3/envs/speck/lib/python3.12/site-packages (from neurobench) (0.61.2)\n",
      "Requirement already satisfied: numpy>=1.25.0 in /home/innuce-ws/miniforge3/envs/speck/lib/python3.12/site-packages (from neurobench) (2.3.2)\n",
      "Requirement already satisfied: snntorch>=0.7.0 in /home/innuce-ws/miniforge3/envs/speck/lib/python3.12/site-packages (from neurobench) (0.9.4)\n",
      "Requirement already satisfied: tonic<2.0.0,>=1.4.0 in /home/innuce-ws/miniforge3/envs/speck/lib/python3.12/site-packages (from neurobench) (1.6.0)\n",
      "Requirement already satisfied: torch>=2.0.1 in /home/innuce-ws/miniforge3/envs/speck/lib/python3.12/site-packages (from neurobench) (2.8.0)\n",
      "Requirement already satisfied: torchaudio>=2.0.2 in /home/innuce-ws/miniforge3/envs/speck/lib/python3.12/site-packages (from neurobench) (2.8.0)\n",
      "Requirement already satisfied: tqdm<5.0.0,>=4.63.3 in /home/innuce-ws/miniforge3/envs/speck/lib/python3.12/site-packages (from neurobench) (4.67.1)\n",
      "Collecting numpy>=1.25.0 (from neurobench)\n",
      "  Using cached numpy-1.26.4-cp312-cp312-manylinux_2_17_x86_64.manylinux2014_x86_64.whl.metadata (61 kB)\n",
      "Requirement already satisfied: h5py in /home/innuce-ws/miniforge3/envs/speck/lib/python3.12/site-packages (from tonic<2.0.0,>=1.4.0->neurobench) (3.14.0)\n",
      "Requirement already satisfied: importRosbag>=1.0.4 in /home/innuce-ws/miniforge3/envs/speck/lib/python3.12/site-packages (from tonic<2.0.0,>=1.4.0->neurobench) (1.0.4)\n",
      "Requirement already satisfied: scipy in /home/innuce-ws/miniforge3/envs/speck/lib/python3.12/site-packages (from tonic<2.0.0,>=1.4.0->neurobench) (1.16.1)\n",
      "Requirement already satisfied: typing-extensions in /home/innuce-ws/miniforge3/envs/speck/lib/python3.12/site-packages (from tonic<2.0.0,>=1.4.0->neurobench) (4.15.0)\n",
      "Requirement already satisfied: librosa in /home/innuce-ws/miniforge3/envs/speck/lib/python3.12/site-packages (from tonic<2.0.0,>=1.4.0->neurobench) (0.11.0)\n",
      "Requirement already satisfied: pbr in /home/innuce-ws/miniforge3/envs/speck/lib/python3.12/site-packages (from tonic<2.0.0,>=1.4.0->neurobench) (7.0.1)\n",
      "Requirement already satisfied: expelliarmus in /home/innuce-ws/miniforge3/envs/speck/lib/python3.12/site-packages (from tonic<2.0.0,>=1.4.0->neurobench) (1.1.12)\n",
      "Requirement already satisfied: setuptools in /home/innuce-ws/miniforge3/envs/speck/lib/python3.12/site-packages (from importRosbag>=1.0.4->tonic<2.0.0,>=1.4.0->neurobench) (80.9.0)\n",
      "Requirement already satisfied: filelock in /home/innuce-ws/miniforge3/envs/speck/lib/python3.12/site-packages (from torch>=2.0.1->neurobench) (3.19.1)\n",
      "Requirement already satisfied: sympy>=1.13.3 in /home/innuce-ws/miniforge3/envs/speck/lib/python3.12/site-packages (from torch>=2.0.1->neurobench) (1.14.0)\n",
      "Requirement already satisfied: networkx in /home/innuce-ws/miniforge3/envs/speck/lib/python3.12/site-packages (from torch>=2.0.1->neurobench) (3.5)\n",
      "Requirement already satisfied: jinja2 in /home/innuce-ws/miniforge3/envs/speck/lib/python3.12/site-packages (from torch>=2.0.1->neurobench) (3.1.6)\n",
      "Requirement already satisfied: fsspec in /home/innuce-ws/miniforge3/envs/speck/lib/python3.12/site-packages (from torch>=2.0.1->neurobench) (2025.7.0)\n",
      "Requirement already satisfied: nvidia-cuda-nvrtc-cu12==12.8.93 in /home/innuce-ws/miniforge3/envs/speck/lib/python3.12/site-packages (from torch>=2.0.1->neurobench) (12.8.93)\n",
      "Requirement already satisfied: nvidia-cuda-runtime-cu12==12.8.90 in /home/innuce-ws/miniforge3/envs/speck/lib/python3.12/site-packages (from torch>=2.0.1->neurobench) (12.8.90)\n",
      "Requirement already satisfied: nvidia-cuda-cupti-cu12==12.8.90 in /home/innuce-ws/miniforge3/envs/speck/lib/python3.12/site-packages (from torch>=2.0.1->neurobench) (12.8.90)\n",
      "Requirement already satisfied: nvidia-cudnn-cu12==9.10.2.21 in /home/innuce-ws/miniforge3/envs/speck/lib/python3.12/site-packages (from torch>=2.0.1->neurobench) (9.10.2.21)\n",
      "Requirement already satisfied: nvidia-cublas-cu12==12.8.4.1 in /home/innuce-ws/miniforge3/envs/speck/lib/python3.12/site-packages (from torch>=2.0.1->neurobench) (12.8.4.1)\n",
      "Requirement already satisfied: nvidia-cufft-cu12==11.3.3.83 in /home/innuce-ws/miniforge3/envs/speck/lib/python3.12/site-packages (from torch>=2.0.1->neurobench) (11.3.3.83)\n",
      "Requirement already satisfied: nvidia-curand-cu12==10.3.9.90 in /home/innuce-ws/miniforge3/envs/speck/lib/python3.12/site-packages (from torch>=2.0.1->neurobench) (10.3.9.90)\n",
      "Requirement already satisfied: nvidia-cusolver-cu12==11.7.3.90 in /home/innuce-ws/miniforge3/envs/speck/lib/python3.12/site-packages (from torch>=2.0.1->neurobench) (11.7.3.90)\n",
      "Requirement already satisfied: nvidia-cusparse-cu12==12.5.8.93 in /home/innuce-ws/miniforge3/envs/speck/lib/python3.12/site-packages (from torch>=2.0.1->neurobench) (12.5.8.93)\n",
      "Requirement already satisfied: nvidia-cusparselt-cu12==0.7.1 in /home/innuce-ws/miniforge3/envs/speck/lib/python3.12/site-packages (from torch>=2.0.1->neurobench) (0.7.1)\n",
      "Requirement already satisfied: nvidia-nccl-cu12==2.27.3 in /home/innuce-ws/miniforge3/envs/speck/lib/python3.12/site-packages (from torch>=2.0.1->neurobench) (2.27.3)\n",
      "Requirement already satisfied: nvidia-nvtx-cu12==12.8.90 in /home/innuce-ws/miniforge3/envs/speck/lib/python3.12/site-packages (from torch>=2.0.1->neurobench) (12.8.90)\n",
      "Requirement already satisfied: nvidia-nvjitlink-cu12==12.8.93 in /home/innuce-ws/miniforge3/envs/speck/lib/python3.12/site-packages (from torch>=2.0.1->neurobench) (12.8.93)\n",
      "Requirement already satisfied: nvidia-cufile-cu12==1.13.1.3 in /home/innuce-ws/miniforge3/envs/speck/lib/python3.12/site-packages (from torch>=2.0.1->neurobench) (1.13.1.3)\n",
      "Requirement already satisfied: triton==3.4.0 in /home/innuce-ws/miniforge3/envs/speck/lib/python3.12/site-packages (from torch>=2.0.1->neurobench) (3.4.0)\n",
      "Requirement already satisfied: mpmath<1.4,>=1.1.0 in /home/innuce-ws/miniforge3/envs/speck/lib/python3.12/site-packages (from sympy>=1.13.3->torch>=2.0.1->neurobench) (1.3.0)\n",
      "Requirement already satisfied: MarkupSafe>=2.0 in /home/innuce-ws/miniforge3/envs/speck/lib/python3.12/site-packages (from jinja2->torch>=2.0.1->neurobench) (3.0.2)\n",
      "Requirement already satisfied: audioread>=2.1.9 in /home/innuce-ws/miniforge3/envs/speck/lib/python3.12/site-packages (from librosa->tonic<2.0.0,>=1.4.0->neurobench) (3.0.1)\n",
      "Requirement already satisfied: scikit-learn>=1.1.0 in /home/innuce-ws/miniforge3/envs/speck/lib/python3.12/site-packages (from librosa->tonic<2.0.0,>=1.4.0->neurobench) (1.7.1)\n",
      "Requirement already satisfied: joblib>=1.0 in /home/innuce-ws/miniforge3/envs/speck/lib/python3.12/site-packages (from librosa->tonic<2.0.0,>=1.4.0->neurobench) (1.5.2)\n",
      "Requirement already satisfied: decorator>=4.3.0 in /home/innuce-ws/miniforge3/envs/speck/lib/python3.12/site-packages (from librosa->tonic<2.0.0,>=1.4.0->neurobench) (5.2.1)\n",
      "Requirement already satisfied: soundfile>=0.12.1 in /home/innuce-ws/miniforge3/envs/speck/lib/python3.12/site-packages (from librosa->tonic<2.0.0,>=1.4.0->neurobench) (0.13.1)\n",
      "Requirement already satisfied: pooch>=1.1 in /home/innuce-ws/miniforge3/envs/speck/lib/python3.12/site-packages (from librosa->tonic<2.0.0,>=1.4.0->neurobench) (1.8.2)\n",
      "Requirement already satisfied: soxr>=0.3.2 in /home/innuce-ws/miniforge3/envs/speck/lib/python3.12/site-packages (from librosa->tonic<2.0.0,>=1.4.0->neurobench) (0.5.0.post1)\n",
      "Requirement already satisfied: lazy_loader>=0.1 in /home/innuce-ws/miniforge3/envs/speck/lib/python3.12/site-packages (from librosa->tonic<2.0.0,>=1.4.0->neurobench) (0.4)\n",
      "Requirement already satisfied: msgpack>=1.0 in /home/innuce-ws/miniforge3/envs/speck/lib/python3.12/site-packages (from librosa->tonic<2.0.0,>=1.4.0->neurobench) (1.1.1)\n",
      "Requirement already satisfied: packaging in /home/innuce-ws/miniforge3/envs/speck/lib/python3.12/site-packages (from lazy_loader>=0.1->librosa->tonic<2.0.0,>=1.4.0->neurobench) (25.0)\n",
      "Requirement already satisfied: platformdirs>=2.5.0 in /home/innuce-ws/miniforge3/envs/speck/lib/python3.12/site-packages (from pooch>=1.1->librosa->tonic<2.0.0,>=1.4.0->neurobench) (4.4.0)\n",
      "Requirement already satisfied: requests>=2.19.0 in /home/innuce-ws/miniforge3/envs/speck/lib/python3.12/site-packages (from pooch>=1.1->librosa->tonic<2.0.0,>=1.4.0->neurobench) (2.32.5)\n",
      "Requirement already satisfied: charset_normalizer<4,>=2 in /home/innuce-ws/miniforge3/envs/speck/lib/python3.12/site-packages (from requests>=2.19.0->pooch>=1.1->librosa->tonic<2.0.0,>=1.4.0->neurobench) (3.4.3)\n",
      "Requirement already satisfied: idna<4,>=2.5 in /home/innuce-ws/miniforge3/envs/speck/lib/python3.12/site-packages (from requests>=2.19.0->pooch>=1.1->librosa->tonic<2.0.0,>=1.4.0->neurobench) (3.10)\n",
      "Requirement already satisfied: urllib3<3,>=1.21.1 in /home/innuce-ws/miniforge3/envs/speck/lib/python3.12/site-packages (from requests>=2.19.0->pooch>=1.1->librosa->tonic<2.0.0,>=1.4.0->neurobench) (2.5.0)\n",
      "Requirement already satisfied: certifi>=2017.4.17 in /home/innuce-ws/miniforge3/envs/speck/lib/python3.12/site-packages (from requests>=2.19.0->pooch>=1.1->librosa->tonic<2.0.0,>=1.4.0->neurobench) (2025.8.3)\n",
      "Requirement already satisfied: threadpoolctl>=3.1.0 in /home/innuce-ws/miniforge3/envs/speck/lib/python3.12/site-packages (from scikit-learn>=1.1.0->librosa->tonic<2.0.0,>=1.4.0->neurobench) (3.6.0)\n",
      "Requirement already satisfied: cffi>=1.0 in /home/innuce-ws/miniforge3/envs/speck/lib/python3.12/site-packages (from soundfile>=0.12.1->librosa->tonic<2.0.0,>=1.4.0->neurobench) (1.17.1)\n",
      "Requirement already satisfied: pycparser in /home/innuce-ws/miniforge3/envs/speck/lib/python3.12/site-packages (from cffi>=1.0->soundfile>=0.12.1->librosa->tonic<2.0.0,>=1.4.0->neurobench) (2.22)\n",
      "Using cached numpy-1.26.4-cp312-cp312-manylinux_2_17_x86_64.manylinux2014_x86_64.whl (18.0 MB)\n",
      "Installing collected packages: numpy\n",
      "  Attempting uninstall: numpy\n",
      "    Found existing installation: numpy 2.3.2\n",
      "    Uninstalling numpy-2.3.2:\n",
      "      Successfully uninstalled numpy-2.3.2\n",
      "Successfully installed numpy-1.26.4\n",
      "Requirement already satisfied: tonic in /home/innuce-ws/miniforge3/envs/speck/lib/python3.12/site-packages (1.6.0)\n",
      "Requirement already satisfied: numpy<2.0.0 in /home/innuce-ws/miniforge3/envs/speck/lib/python3.12/site-packages (from tonic) (1.26.4)\n",
      "Requirement already satisfied: h5py in /home/innuce-ws/miniforge3/envs/speck/lib/python3.12/site-packages (from tonic) (3.14.0)\n",
      "Requirement already satisfied: importRosbag>=1.0.4 in /home/innuce-ws/miniforge3/envs/speck/lib/python3.12/site-packages (from tonic) (1.0.4)\n",
      "Requirement already satisfied: scipy in /home/innuce-ws/miniforge3/envs/speck/lib/python3.12/site-packages (from tonic) (1.16.1)\n",
      "Requirement already satisfied: tqdm in /home/innuce-ws/miniforge3/envs/speck/lib/python3.12/site-packages (from tonic) (4.67.1)\n",
      "Requirement already satisfied: typing-extensions in /home/innuce-ws/miniforge3/envs/speck/lib/python3.12/site-packages (from tonic) (4.15.0)\n",
      "Requirement already satisfied: librosa in /home/innuce-ws/miniforge3/envs/speck/lib/python3.12/site-packages (from tonic) (0.11.0)\n",
      "Requirement already satisfied: pbr in /home/innuce-ws/miniforge3/envs/speck/lib/python3.12/site-packages (from tonic) (7.0.1)\n",
      "Requirement already satisfied: expelliarmus in /home/innuce-ws/miniforge3/envs/speck/lib/python3.12/site-packages (from tonic) (1.1.12)\n",
      "Requirement already satisfied: setuptools in /home/innuce-ws/miniforge3/envs/speck/lib/python3.12/site-packages (from importRosbag>=1.0.4->tonic) (80.9.0)\n",
      "Requirement already satisfied: audioread>=2.1.9 in /home/innuce-ws/miniforge3/envs/speck/lib/python3.12/site-packages (from librosa->tonic) (3.0.1)\n",
      "Requirement already satisfied: numba>=0.51.0 in /home/innuce-ws/miniforge3/envs/speck/lib/python3.12/site-packages (from librosa->tonic) (0.61.2)\n",
      "Requirement already satisfied: scikit-learn>=1.1.0 in /home/innuce-ws/miniforge3/envs/speck/lib/python3.12/site-packages (from librosa->tonic) (1.7.1)\n",
      "Requirement already satisfied: joblib>=1.0 in /home/innuce-ws/miniforge3/envs/speck/lib/python3.12/site-packages (from librosa->tonic) (1.5.2)\n",
      "Requirement already satisfied: decorator>=4.3.0 in /home/innuce-ws/miniforge3/envs/speck/lib/python3.12/site-packages (from librosa->tonic) (5.2.1)\n",
      "Requirement already satisfied: soundfile>=0.12.1 in /home/innuce-ws/miniforge3/envs/speck/lib/python3.12/site-packages (from librosa->tonic) (0.13.1)\n",
      "Requirement already satisfied: pooch>=1.1 in /home/innuce-ws/miniforge3/envs/speck/lib/python3.12/site-packages (from librosa->tonic) (1.8.2)\n",
      "Requirement already satisfied: soxr>=0.3.2 in /home/innuce-ws/miniforge3/envs/speck/lib/python3.12/site-packages (from librosa->tonic) (0.5.0.post1)\n",
      "Requirement already satisfied: lazy_loader>=0.1 in /home/innuce-ws/miniforge3/envs/speck/lib/python3.12/site-packages (from librosa->tonic) (0.4)\n",
      "Requirement already satisfied: msgpack>=1.0 in /home/innuce-ws/miniforge3/envs/speck/lib/python3.12/site-packages (from librosa->tonic) (1.1.1)\n",
      "Requirement already satisfied: packaging in /home/innuce-ws/miniforge3/envs/speck/lib/python3.12/site-packages (from lazy_loader>=0.1->librosa->tonic) (25.0)\n",
      "Requirement already satisfied: llvmlite<0.45,>=0.44.0dev0 in /home/innuce-ws/miniforge3/envs/speck/lib/python3.12/site-packages (from numba>=0.51.0->librosa->tonic) (0.44.0)\n",
      "Requirement already satisfied: platformdirs>=2.5.0 in /home/innuce-ws/miniforge3/envs/speck/lib/python3.12/site-packages (from pooch>=1.1->librosa->tonic) (4.4.0)\n",
      "Requirement already satisfied: requests>=2.19.0 in /home/innuce-ws/miniforge3/envs/speck/lib/python3.12/site-packages (from pooch>=1.1->librosa->tonic) (2.32.5)\n",
      "Requirement already satisfied: charset_normalizer<4,>=2 in /home/innuce-ws/miniforge3/envs/speck/lib/python3.12/site-packages (from requests>=2.19.0->pooch>=1.1->librosa->tonic) (3.4.3)\n",
      "Requirement already satisfied: idna<4,>=2.5 in /home/innuce-ws/miniforge3/envs/speck/lib/python3.12/site-packages (from requests>=2.19.0->pooch>=1.1->librosa->tonic) (3.10)\n",
      "Requirement already satisfied: urllib3<3,>=1.21.1 in /home/innuce-ws/miniforge3/envs/speck/lib/python3.12/site-packages (from requests>=2.19.0->pooch>=1.1->librosa->tonic) (2.5.0)\n",
      "Requirement already satisfied: certifi>=2017.4.17 in /home/innuce-ws/miniforge3/envs/speck/lib/python3.12/site-packages (from requests>=2.19.0->pooch>=1.1->librosa->tonic) (2025.8.3)\n",
      "Requirement already satisfied: threadpoolctl>=3.1.0 in /home/innuce-ws/miniforge3/envs/speck/lib/python3.12/site-packages (from scikit-learn>=1.1.0->librosa->tonic) (3.6.0)\n",
      "Requirement already satisfied: cffi>=1.0 in /home/innuce-ws/miniforge3/envs/speck/lib/python3.12/site-packages (from soundfile>=0.12.1->librosa->tonic) (1.17.1)\n",
      "Requirement already satisfied: pycparser in /home/innuce-ws/miniforge3/envs/speck/lib/python3.12/site-packages (from cffi>=1.0->soundfile>=0.12.1->librosa->tonic) (2.22)\n",
      "Requirement already satisfied: nir==1.0.4 in /home/innuce-ws/miniforge3/envs/speck/lib/python3.12/site-packages (1.0.4)\n",
      "Requirement already satisfied: numpy in /home/innuce-ws/miniforge3/envs/speck/lib/python3.12/site-packages (from nir==1.0.4) (1.26.4)\n",
      "Requirement already satisfied: h5py in /home/innuce-ws/miniforge3/envs/speck/lib/python3.12/site-packages (from nir==1.0.4) (3.14.0)\n",
      "Requirement already satisfied: numpy in /home/innuce-ws/miniforge3/envs/speck/lib/python3.12/site-packages (1.26.4)\n",
      "Collecting numpy\n",
      "  Using cached numpy-2.3.2-cp312-cp312-manylinux_2_27_x86_64.manylinux_2_28_x86_64.whl.metadata (62 kB)\n",
      "Using cached numpy-2.3.2-cp312-cp312-manylinux_2_27_x86_64.manylinux_2_28_x86_64.whl (16.6 MB)\n",
      "Installing collected packages: numpy\n",
      "  Attempting uninstall: numpy\n",
      "    Found existing installation: numpy 1.26.4\n",
      "    Uninstalling numpy-1.26.4:\n",
      "      Successfully uninstalled numpy-1.26.4\n",
      "\u001b[31mERROR: pip's dependency resolver does not currently take into account all the packages that are installed. This behaviour is the source of the following dependency conflicts.\n",
      "tonic 1.6.0 requires numpy<2.0.0, but you have numpy 2.3.2 which is incompatible.\n",
      "numba 0.61.2 requires numpy<2.3,>=1.24, but you have numpy 2.3.2 which is incompatible.\u001b[0m\u001b[31m\n",
      "\u001b[0mSuccessfully installed numpy-2.3.2\n"
     ]
    }
   ],
   "source": [
    "! pip install snntorch\n",
    "! pip install neurobench\n",
    "! pip install tonic\n",
    "! pip install nir==1.0.4\n",
    "! pip install numpy --upgrade"
   ]
  },
  {
   "cell_type": "markdown",
   "id": "38341a56",
   "metadata": {},
   "source": [
    "# Import packages"
   ]
  },
  {
   "cell_type": "code",
   "execution_count": 2,
   "id": "20411488",
   "metadata": {},
   "outputs": [],
   "source": [
    "import torch\n",
    "import torch.nn as nn\n",
    "import snntorch as snn\n",
    "import numpy as np\n",
    "from snntorch.import_nir import import_from_nir\n",
    "import nir"
   ]
  },
  {
   "cell_type": "markdown",
   "id": "9f2f77a8",
   "metadata": {},
   "source": [
    "# Dataset definition"
   ]
  },
  {
   "cell_type": "code",
   "execution_count": 3,
   "id": "8b70a0ce",
   "metadata": {},
   "outputs": [
    {
     "name": "stderr",
     "output_type": "stream",
     "text": [
      "/home/innuce-ws/miniforge3/envs/speck/lib/python3.12/site-packages/tqdm/auto.py:21: TqdmWarning: IProgress not found. Please update jupyter and ipywidgets. See https://ipywidgets.readthedocs.io/en/stable/user_install.html\n",
      "  from .autonotebook import tqdm as notebook_tqdm\n"
     ]
    }
   ],
   "source": [
    "from tonic import datasets, transforms\n",
    "\n",
    "def get_data_loaders(batch_size):\n",
    "\n",
    "    transform = transforms.Compose([\n",
    "        transforms.ToFrame(sensor_size=(34, 34, 2), n_time_bins=30, include_incomplete=True),\n",
    "        lambda x: torch.from_numpy(x.astype(np.float32)),\n",
    "    ])\n",
    "\n",
    "    trainset = datasets.NMNIST('./data', train=True, transform=transform)\n",
    "    testset = datasets.NMNIST('./data', train=False, transform=transform)\n",
    "\n",
    "    trainloader = torch.utils.data.DataLoader(\n",
    "        trainset, batch_size=batch_size, shuffle=True, num_workers=0,\n",
    "        drop_last=True, pin_memory=True\n",
    "    )\n",
    "    testloader = torch.utils.data.DataLoader(\n",
    "        testset, batch_size=batch_size, num_workers=0,\n",
    "        drop_last=True, pin_memory=True\n",
    "    )\n",
    "\n",
    "    return trainloader, testloader"
   ]
  },
  {
   "cell_type": "markdown",
   "id": "45cd49c8",
   "metadata": {},
   "source": [
    "# NIR\n",
    "\n",
    "Import model using NIR and convert the model into a torch based Neural Network using snnTorch"
   ]
  },
  {
   "cell_type": "code",
   "execution_count": 14,
   "id": "8314de73",
   "metadata": {},
   "outputs": [],
   "source": [
    "def get_nir_net (model):\n",
    "    graph = nir.read(model)\n",
    "    graph.nodes.keys()\n",
    "    net = import_from_nir(graph)\n",
    "    print(net)\n",
    "    return net"
   ]
  },
  {
   "cell_type": "markdown",
   "id": "190eda7f",
   "metadata": {},
   "source": [
    "Once the model has been converted in snnTorch inizialize the neurons membrane potential "
   ]
  },
  {
   "cell_type": "code",
   "execution_count": 15,
   "id": "699f905b",
   "metadata": {},
   "outputs": [],
   "source": [
    "def init_mem_pot(net):\n",
    "  modules = [e.elem for e in net.get_execution_order()]\n",
    "\n",
    "  # init all I&F neurons\n",
    "  mem_dict = {}\n",
    "  for idx, module in enumerate(modules):\n",
    "    if isinstance(module, snn.Leaky):\n",
    "      module.mem = module.init_leaky()"
   ]
  },
  {
   "cell_type": "markdown",
   "id": "8b1b2ca1",
   "metadata": {},
   "source": [
    "# NeuroBench\n",
    "\n",
    "Benchmarking using this tool to extract useful statistics from our model"
   ]
  },
  {
   "cell_type": "code",
   "execution_count": 16,
   "id": "961757dc",
   "metadata": {},
   "outputs": [],
   "source": [
    "from neurobench.processors.postprocessors import ChooseMaxCount\n",
    "from neurobench.benchmarks import Benchmark\n",
    "from neurobench.models import SNNTorchModel\n",
    "\n",
    "from neurobench.metrics.workload import (\n",
    "    ActivationSparsity,\n",
    "    MembraneUpdates,\n",
    "    SynapticOperations,\n",
    "    ActivationSparsityByLayer,\n",
    ")\n",
    "from neurobench.metrics.static import (\n",
    "    ParameterCount,\n",
    "    Footprint,\n",
    "    ConnectionSparsity,\n",
    ")\n",
    "\n",
    "def run_neuro_bench(net):\n",
    "    _, testloader = get_data_loaders(batch_size=32)\n",
    "\n",
    "\n",
    "    model = SNNTorchModel(net, custom_forward=False)\n",
    "\n",
    "    static_metrics = [ParameterCount, Footprint, ConnectionSparsity]\n",
    "    workload_metrics = [ActivationSparsity, ActivationSparsityByLayer,MembraneUpdates, SynapticOperations]\n",
    "\n",
    "    benchmark = Benchmark(\n",
    "        model, testloader, [], [], [static_metrics, workload_metrics]\n",
    "    )\n",
    "    return benchmark.run(verbose=False)"
   ]
  },
  {
   "cell_type": "code",
   "execution_count": 21,
   "id": "19e3dfa6",
   "metadata": {},
   "outputs": [
    {
     "name": "stdout",
     "output_type": "stream",
     "text": [
      "replace rnn subgraph with nirgraph\n",
      "GraphExecutor(\n",
      "  (1): Conv2d(2, 8, kernel_size=(3, 3), stride=(np.int64(2), np.int64(2)), padding=(np.int64(1), np.int64(1)))\n",
      "  (10): Leaky()\n",
      "  (11): Flatten(start_dim=0, end_dim=-1)\n",
      "  (2): Leaky()\n",
      "  (3): Conv2d(8, 16, kernel_size=(3, 3), stride=(np.int64(2), np.int64(2)), padding=(np.int64(1), np.int64(1)))\n",
      "  (4): Leaky()\n",
      "  (5): Conv2d(16, 32, kernel_size=(3, 3), stride=(np.int64(2), np.int64(2)), padding=(np.int64(1), np.int64(1)))\n",
      "  (6): Leaky()\n",
      "  (7): Conv2d(32, 64, kernel_size=(3, 3), stride=(np.int64(2), np.int64(2)), padding=(np.int64(1), np.int64(1)))\n",
      "  (8): Leaky()\n",
      "  (9): Conv2d(64, 10, kernel_size=(3, 3), stride=(np.int64(1), np.int64(1)))\n",
      "  (input): Identity()\n",
      "  (output): Identity()\n",
      ")\n",
      "Running benchmark\n"
     ]
    },
    {
     "name": "stderr",
     "output_type": "stream",
     "text": [
      "  0%|          | 0/312 [00:00<?, ?it/s]/home/innuce-ws/miniforge3/envs/speck/lib/python3.12/site-packages/torch/utils/data/dataloader.py:666: UserWarning: 'pin_memory' argument is set as true but no accelerator is found, then device pinned memory won't be used.\n",
      "  warnings.warn(warn_msg)\n",
      "100%|██████████| 312/312 [02:07<00:00,  2.44it/s]\n"
     ]
    }
   ],
   "source": [
    "net_100 = get_nir_net('exported_models/100.nir')\n",
    "init_mem_pot(net_100)\n",
    "results_100 = run_neuro_bench(net_100)"
   ]
  },
  {
   "cell_type": "code",
   "execution_count": 22,
   "id": "abdf59c5",
   "metadata": {},
   "outputs": [
    {
     "name": "stdout",
     "output_type": "stream",
     "text": [
      "ParameterCount 30226\n",
      "Footprint 121004\n",
      "ConnectionSparsity 0.0\n",
      "ActivationSparsity 0.9408151254839145\n",
      "ActivationSparsityByLayer {'10': 0.9924626068376068, '2': 0.9240374189244891, '4': 0.9288202404711736, '6': 0.9781831263354701, '8': 0.9954229197271189}\n",
      "MembraneUpdates 90419.66095753205\n",
      "SynapticOperations {'Effective_MACs': 49208.41586538462, 'Effective_ACs': 469565.2640224359, 'Dense': 9379200.0}\n"
     ]
    }
   ],
   "source": [
    "for key, value in results_100.items():\n",
    "    print(key, value)"
   ]
  },
  {
   "cell_type": "code",
   "execution_count": 19,
   "id": "f19c3f18",
   "metadata": {},
   "outputs": [
    {
     "name": "stdout",
     "output_type": "stream",
     "text": [
      "replace rnn subgraph with nirgraph\n",
      "GraphExecutor(\n",
      "  (1): Conv2d(2, 8, kernel_size=(3, 3), stride=(np.int64(2), np.int64(2)), padding=(np.int64(1), np.int64(1)))\n",
      "  (10): Leaky()\n",
      "  (11): Flatten(start_dim=0, end_dim=-1)\n",
      "  (2): Leaky()\n",
      "  (3): Conv2d(8, 16, kernel_size=(3, 3), stride=(np.int64(2), np.int64(2)), padding=(np.int64(1), np.int64(1)))\n",
      "  (4): Leaky()\n",
      "  (5): Conv2d(16, 32, kernel_size=(3, 3), stride=(np.int64(2), np.int64(2)), padding=(np.int64(1), np.int64(1)))\n",
      "  (6): Leaky()\n",
      "  (7): Conv2d(32, 64, kernel_size=(3, 3), stride=(np.int64(2), np.int64(2)), padding=(np.int64(1), np.int64(1)))\n",
      "  (8): Leaky()\n",
      "  (9): Conv2d(64, 10, kernel_size=(3, 3), stride=(np.int64(1), np.int64(1)))\n",
      "  (input): Identity()\n",
      "  (output): Identity()\n",
      ")\n",
      "Running benchmark\n"
     ]
    },
    {
     "name": "stderr",
     "output_type": "stream",
     "text": [
      "  0%|          | 0/312 [00:00<?, ?it/s]/home/innuce-ws/miniforge3/envs/speck/lib/python3.12/site-packages/torch/utils/data/dataloader.py:666: UserWarning: 'pin_memory' argument is set as true but no accelerator is found, then device pinned memory won't be used.\n",
      "  warnings.warn(warn_msg)\n",
      " 44%|████▍     | 138/312 [01:05<01:38,  1.77it/s]"
     ]
    }
   ],
   "source": [
    "net_3 = get_nir_net('exported_models/3.nir')\n",
    "init_mem_pot(net_3)\n",
    "results_3 = run_neuro_bench(net_3)"
   ]
  },
  {
   "cell_type": "code",
   "execution_count": 23,
   "id": "be770e7a",
   "metadata": {},
   "outputs": [
    {
     "name": "stdout",
     "output_type": "stream",
     "text": [
      "ParameterCount 30226\n",
      "Footprint 121004\n",
      "ConnectionSparsity 0.0\n",
      "ActivationSparsity 0.9937927292751302\n",
      "ActivationSparsityByLayer {'10': 1.0, '2': 0.9939435897320372, '4': 0.9930222512398438, '6': 1.0, '8': 1.0}\n",
      "MembraneUpdates 95410.69941907052\n",
      "SynapticOperations {'Effective_MACs': 49208.41586538462, 'Effective_ACs': 35062.0016025641, 'Dense': 9379200.0}\n"
     ]
    }
   ],
   "source": [
    "for key, value in results_3.items():\n",
    "    print(key, value)"
   ]
  }
 ],
 "metadata": {
  "kernelspec": {
   "display_name": "speck",
   "language": "python",
   "name": "python3"
  },
  "language_info": {
   "codemirror_mode": {
    "name": "ipython",
    "version": 3
   },
   "file_extension": ".py",
   "mimetype": "text/x-python",
   "name": "python",
   "nbconvert_exporter": "python",
   "pygments_lexer": "ipython3",
   "version": "3.12.0"
  }
 },
 "nbformat": 4,
 "nbformat_minor": 5
}
