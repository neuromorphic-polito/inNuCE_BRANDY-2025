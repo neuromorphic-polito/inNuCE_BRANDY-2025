{
 "cells": [
  {
   "cell_type": "code",
   "execution_count": null,
   "id": "20411488",
   "metadata": {},
   "outputs": [],
   "source": [
    "import torch\n",
    "import torch.nn as nn\n",
    "import snntorch as snn\n",
    "import numpy as np\n",
    "from snntorch.import_nir import import_from_nir\n",
    "import nir"
   ]
  },
  {
   "cell_type": "code",
   "execution_count": null,
   "id": "8b70a0ce",
   "metadata": {},
   "outputs": [],
   "source": [
    "from tonic import datasets, transforms\n",
    "\n",
    "def get_data_loaders(batch_size):\n",
    "    \"\"\"Create data loaders\"\"\"\n",
    "    transform = transforms.Compose([\n",
    "        transforms.ToFrame(sensor_size=(34, 34, 2), n_time_bins=30, include_incomplete=True),\n",
    "        lambda x: torch.from_numpy(x.astype(np.float32)),\n",
    "    ])\n",
    "\n",
    "    trainset = datasets.NMNIST('./data', train=True, transform=transform)\n",
    "    testset = datasets.NMNIST('./data', train=False, transform=transform)\n",
    "\n",
    "    trainloader = torch.utils.data.DataLoader(\n",
    "        trainset, batch_size=batch_size, shuffle=True, num_workers=0,\n",
    "        drop_last=True, pin_memory=True\n",
    "    )\n",
    "    testloader = torch.utils.data.DataLoader(\n",
    "        testset, batch_size=batch_size, num_workers=0,\n",
    "        drop_last=True, pin_memory=True\n",
    "    )\n",
    "\n",
    "    return trainloader, testloader"
   ]
  },
  {
   "cell_type": "code",
   "execution_count": null,
   "id": "8314de73",
   "metadata": {},
   "outputs": [],
   "source": [
    "graph = nir.read(\"cnn_sinabs.nir\")\n",
    "graph.nodes.keys()\n",
    "net = import_from_nir(graph)\n",
    "print(net)"
   ]
  },
  {
   "cell_type": "code",
   "execution_count": null,
   "id": "699f905b",
   "metadata": {},
   "outputs": [],
   "source": [
    "modules = [e.elem for e in net.get_execution_order()]\n",
    "\n",
    "# init all I&F neurons\n",
    "mem_dict = {}\n",
    "for idx, module in enumerate(modules):\n",
    "  if isinstance(module, snn.Leaky):\n",
    "    module.mem = module.init_leaky()"
   ]
  },
  {
   "cell_type": "code",
   "execution_count": null,
   "id": "961757dc",
   "metadata": {},
   "outputs": [],
   "source": [
    "from neurobench.processors.postprocessors import ChooseMaxCount\n",
    "from neurobench.benchmarks import Benchmark\n",
    "from neurobench.models import SNNTorchModel\n",
    "\n",
    "from neurobench.metrics.workload import (\n",
    "    ActivationSparsity,\n",
    "    MembraneUpdates,\n",
    "    SynapticOperations,\n",
    "    ActivationSparsityByLayer,\n",
    ")\n",
    "from neurobench.metrics.static import (\n",
    "    ParameterCount,\n",
    "    Footprint,\n",
    "    ConnectionSparsity,\n",
    ")\n",
    "\n",
    "_, testloader = get_data_loaders(batch_size=1)\n",
    "\n",
    "\n",
    "model = SNNTorchModel(net, custom_forward=False)\n",
    "\n",
    "static_metrics = [ParameterCount, Footprint, ConnectionSparsity]\n",
    "workload_metrics = [ActivationSparsity, ActivationSparsityByLayer,MembraneUpdates, SynapticOperations]\n",
    "\n",
    "benchmark = Benchmark(\n",
    "    model, testloader, [], [], [static_metrics, workload_metrics]\n",
    ")\n",
    "results = benchmark.run(verbose=False)\n",
    "\n",
    "print(results)"
   ]
  }
 ],
 "metadata": {
  "language_info": {
   "name": "python"
  }
 },
 "nbformat": 4,
 "nbformat_minor": 5
}
