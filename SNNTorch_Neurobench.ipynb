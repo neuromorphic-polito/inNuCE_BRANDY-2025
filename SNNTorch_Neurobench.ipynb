{
 "cells": [
  {
   "cell_type": "markdown",
   "id": "bb90a797",
   "metadata": {},
   "source": [
    "# Package installation \n",
    "\n",
    "Execute only if you are usng Goolge Colab. If you are using your own local environment make sure you installed the dependecies first"
   ]
  },
  {
   "cell_type": "code",
   "execution_count": null,
   "id": "5b2b86b2",
   "metadata": {},
   "outputs": [],
   "source": [
    "! pip install snntorch\n",
    "! pip install neurobench\n",
    "! pip install tonic\n",
    "! pip install nir==1.0.4\n",
    "! pip install numpy --upgrade"
   ]
  },
  {
   "cell_type": "markdown",
   "id": "38341a56",
   "metadata": {},
   "source": [
    "# Import packages"
   ]
  },
  {
   "cell_type": "code",
   "execution_count": 1,
   "id": "20411488",
   "metadata": {},
   "outputs": [],
   "source": [
    "import torch\n",
    "import torch.nn as nn\n",
    "import snntorch as snn\n",
    "import numpy as np\n",
    "from snntorch.import_nir import import_from_nir\n",
    "import nir"
   ]
  },
  {
   "cell_type": "markdown",
   "id": "9f2f77a8",
   "metadata": {},
   "source": [
    "# Datased definition"
   ]
  },
  {
   "cell_type": "code",
   "execution_count": null,
   "id": "8b70a0ce",
   "metadata": {},
   "outputs": [
    {
     "name": "stderr",
     "output_type": "stream",
     "text": [
      "/Users/benedettoleto/PycharmProjects/inNuCE_BRANDY-2025/.conda/lib/python3.12/site-packages/tqdm/auto.py:21: TqdmWarning: IProgress not found. Please update jupyter and ipywidgets. See https://ipywidgets.readthedocs.io/en/stable/user_install.html\n",
      "  from .autonotebook import tqdm as notebook_tqdm\n"
     ]
    }
   ],
   "source": [
    "from tonic import datasets, transforms\n",
    "\n",
    "def get_data_loaders(batch_size):\n",
    "    \n",
    "    transform = transforms.Compose([\n",
    "        transforms.ToFrame(sensor_size=(34, 34, 2), n_time_bins=30, include_incomplete=True),\n",
    "        lambda x: torch.from_numpy(x.astype(np.float32)),\n",
    "    ])\n",
    "\n",
    "    trainset = datasets.NMNIST('./data', train=True, transform=transform)\n",
    "    testset = datasets.NMNIST('./data', train=False, transform=transform)\n",
    "\n",
    "    trainloader = torch.utils.data.DataLoader(\n",
    "        trainset, batch_size=batch_size, shuffle=True, num_workers=0,\n",
    "        drop_last=True, pin_memory=True\n",
    "    )\n",
    "    testloader = torch.utils.data.DataLoader(\n",
    "        testset, batch_size=batch_size, num_workers=0,\n",
    "        drop_last=True, pin_memory=True\n",
    "    )\n",
    "\n",
    "    return trainloader, testloader"
   ]
  },
  {
   "cell_type": "markdown",
   "id": "45cd49c8",
   "metadata": {},
   "source": [
    "# NIR\n",
    "\n",
    "Import model using NIR and convert the model into a torch based Neural Network using snnTorch"
   ]
  },
  {
   "cell_type": "code",
   "execution_count": 3,
   "id": "8314de73",
   "metadata": {},
   "outputs": [
    {
     "name": "stdout",
     "output_type": "stream",
     "text": [
      "replace rnn subgraph with nirgraph\n",
      "GraphExecutor(\n",
      "  (1): Conv2d(2, 8, kernel_size=(3, 3), stride=(np.int64(2), np.int64(2)), padding=(np.int64(1), np.int64(1)))\n",
      "  (10): Leaky()\n",
      "  (11): Flatten(start_dim=0, end_dim=-1)\n",
      "  (2): Leaky()\n",
      "  (3): Conv2d(8, 16, kernel_size=(3, 3), stride=(np.int64(2), np.int64(2)), padding=(np.int64(1), np.int64(1)))\n",
      "  (4): Leaky()\n",
      "  (5): Conv2d(16, 32, kernel_size=(3, 3), stride=(np.int64(2), np.int64(2)), padding=(np.int64(1), np.int64(1)))\n",
      "  (6): Leaky()\n",
      "  (7): Conv2d(32, 64, kernel_size=(3, 3), stride=(np.int64(2), np.int64(2)), padding=(np.int64(1), np.int64(1)))\n",
      "  (8): Leaky()\n",
      "  (9): Conv2d(64, 10, kernel_size=(3, 3), stride=(np.int64(1), np.int64(1)))\n",
      "  (input): Identity()\n",
      "  (output): Identity()\n",
      ")\n"
     ]
    }
   ],
   "source": [
    "graph = nir.read(\"cnn_sinabs.nir\")\n",
    "graph.nodes.keys()\n",
    "net = import_from_nir(graph)\n",
    "print(net)"
   ]
  },
  {
   "cell_type": "markdown",
   "id": "190eda7f",
   "metadata": {},
   "source": [
    "Once the model has benn converted in snnTorch inizialize the neurons membrane potential "
   ]
  },
  {
   "cell_type": "code",
   "execution_count": 4,
   "id": "699f905b",
   "metadata": {},
   "outputs": [],
   "source": [
    "modules = [e.elem for e in net.get_execution_order()]\n",
    "\n",
    "# init all I&F neurons\n",
    "mem_dict = {}\n",
    "for idx, module in enumerate(modules):\n",
    "  if isinstance(module, snn.Leaky):\n",
    "    module.mem = module.init_leaky()"
   ]
  },
  {
   "cell_type": "markdown",
   "id": "8b1b2ca1",
   "metadata": {},
   "source": [
    "# NeuroBench\n",
    "\n",
    "Benchmarking using this tool to extract useful statistics from our model"
   ]
  },
  {
   "cell_type": "code",
   "execution_count": 7,
   "id": "961757dc",
   "metadata": {},
   "outputs": [
    {
     "name": "stdout",
     "output_type": "stream",
     "text": [
      "Running benchmark\n"
     ]
    },
    {
     "name": "stderr",
     "output_type": "stream",
     "text": [
      "  0%|          | 1/312 [00:00<01:00,  5.17it/s]"
     ]
    },
    {
     "name": "stdout",
     "output_type": "stream",
     "text": [
      "Error running workload metric 'SynapticOperations': Only Tensors created explicitly by the user (graph leaves) support the deepcopy protocol at the moment.  If you were attempting to deepcopy a module, this may be because of a torch.nn.utils.weight_norm usage, see https://github.com/pytorch/pytorch/pull/103001\n"
     ]
    },
    {
     "name": "stderr",
     "output_type": "stream",
     "text": [
      "100%|██████████| 312/312 [01:43<00:00,  3.00it/s]"
     ]
    },
    {
     "name": "stdout",
     "output_type": "stream",
     "text": [
      "{'ParameterCount': 30226, 'Footprint': 760236, 'ConnectionSparsity': 0.0, 'ActivationSparsity': 0.931641162728608, 'ActivationSparsityByLayer': {'10': 0.992018563034188, '2': 0.912668631979564, '4': 0.9143628313532104, '6': 0.9769774055154915, '8': 0.9956004607371794}, 'MembraneUpdates': 89915.54477163461, 'SynapticOperations': {'Effective_MACs': 49366.6422829582, 'Effective_ACs': 325954.966840836, 'Dense': 6983059.458400321}}\n"
     ]
    },
    {
     "name": "stderr",
     "output_type": "stream",
     "text": [
      "\n"
     ]
    }
   ],
   "source": [
    "from neurobench.processors.postprocessors import ChooseMaxCount\n",
    "from neurobench.benchmarks import Benchmark\n",
    "from neurobench.models import SNNTorchModel\n",
    "\n",
    "from neurobench.metrics.workload import (\n",
    "    ActivationSparsity,\n",
    "    MembraneUpdates,\n",
    "    SynapticOperations,\n",
    "    ActivationSparsityByLayer,\n",
    ")\n",
    "from neurobench.metrics.static import (\n",
    "    ParameterCount,\n",
    "    Footprint,\n",
    "    ConnectionSparsity,\n",
    ")\n",
    "\n",
    "_, testloader = get_data_loaders(batch_size=32)\n",
    "\n",
    "\n",
    "model = SNNTorchModel(net, custom_forward=False)\n",
    "\n",
    "static_metrics = [ParameterCount, Footprint, ConnectionSparsity]\n",
    "workload_metrics = [ActivationSparsity, ActivationSparsityByLayer,MembraneUpdates, SynapticOperations]\n",
    "\n",
    "benchmark = Benchmark(\n",
    "    model, testloader, [], [], [static_metrics, workload_metrics]\n",
    ")\n",
    "results = benchmark.run(verbose=False)\n",
    "\n",
    "print(results)"
   ]
  },
  {
   "cell_type": "code",
   "execution_count": null,
   "id": "13e77cd5",
   "metadata": {},
   "outputs": [],
   "source": []
  }
 ],
 "metadata": {
  "kernelspec": {
   "display_name": "Python 3",
   "language": "python",
   "name": "python3"
  },
  "language_info": {
   "codemirror_mode": {
    "name": "ipython",
    "version": 3
   },
   "file_extension": ".py",
   "mimetype": "text/x-python",
   "name": "python",
   "nbconvert_exporter": "python",
   "pygments_lexer": "ipython3",
   "version": "3.12.11"
  }
 },
 "nbformat": 4,
 "nbformat_minor": 5
}
