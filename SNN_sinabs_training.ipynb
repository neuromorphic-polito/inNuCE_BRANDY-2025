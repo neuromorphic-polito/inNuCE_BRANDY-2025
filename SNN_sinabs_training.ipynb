{
  "cells": [
    {
      "cell_type": "markdown",
      "id": "6w8ThNNEYn5i",
      "metadata": {
        "id": "6w8ThNNEYn5i"
      },
      "source": [
        "# Package installation \n",
        "\n",
        "Execute only if you are usng Goolge Colab. If you are using your own local environment make sure you installed the dependecies first\n"
      ]
    },
    {
      "cell_type": "code",
      "execution_count": null,
      "id": "hDnIEHOKB8LD",
      "metadata": {
        "colab": {
          "base_uri": "https://localhost:8080/",
          "height": 1000
        },
        "id": "hDnIEHOKB8LD",
        "outputId": "767904b3-037d-4b64-eb05-f7ec13b0ab95"
      },
      "outputs": [],
      "source": [
        "!pip install tonic\n",
        "!pip install sinabs\n",
        "!pip install torchmetrics\n",
        "!pip install neurobench\n",
        "!pip install snntorch\n",
        "!pip install pandas\n",
        "!pip install numpy --upgrade # make sure you have the last version of numpy, this could require to restart the session on Google Colab\n"
      ]
    },
    {
      "cell_type": "markdown",
      "id": "d1cb8fa3",
      "metadata": {},
      "source": [
        "# Import packages"
      ]
    },
    {
      "cell_type": "code",
      "execution_count": 10,
      "id": "TkiuutyRP1ip",
      "metadata": {
        "id": "TkiuutyRP1ip"
      },
      "outputs": [],
      "source": [
        "import numpy as np\n",
        "import torch\n",
        "import torch.nn as nn\n",
        "import torchmetrics\n",
        "import os\n",
        "import sinabs\n",
        "import sinabs.layers as sl\n",
        "from tqdm import tqdm\n",
        "\n",
        "from sinabs.hooks import register_synops_hooks"
      ]
    },
    {
      "cell_type": "markdown",
      "id": "a22efef5",
      "metadata": {},
      "source": [
        "# Device setting\n",
        "\n",
        "Set the availble device to train the model"
      ]
    },
    {
      "cell_type": "code",
      "execution_count": 12,
      "id": "mGg8pEeXL48l",
      "metadata": {
        "colab": {
          "base_uri": "https://localhost:8080/"
        },
        "id": "mGg8pEeXL48l",
        "outputId": "b2dceea6-dd16-422b-c2aa-c9a0840ba450"
      },
      "outputs": [
        {
          "name": "stdout",
          "output_type": "stream",
          "text": [
            "Using MPS (Apple Silicon GPU)\n"
          ]
        }
      ],
      "source": [
        "if torch.backends.mps.is_available():\n",
        "    device = torch.device(\"mps\")\n",
        "    print(\"Using MPS (Apple Silicon GPU)\")\n",
        "elif torch.cuda.is_available():\n",
        "    device = torch.device(\"cuda\")\n",
        "    print(\"Using CUDA GPU\")\n",
        "    torch.backends.cudnn.benchmark = True\n",
        "else:\n",
        "    device = torch.device(\"cpu\")\n",
        "    print(\"Using CPU\")"
      ]
    },
    {
      "cell_type": "markdown",
      "id": "150d99af",
      "metadata": {},
      "source": [
        "# Model definition\n",
        "\n",
        "Define a SNN model made of convolutional layers and LIF neurons"
      ]
    },
    {
      "cell_type": "code",
      "execution_count": null,
      "id": "WL487gZW1Agy",
      "metadata": {
        "id": "WL487gZW1Agy"
      },
      "outputs": [],
      "source": [
        "def create_model(batch_size):\n",
        "   \n",
        "    backend = sl\n",
        "    min_v_mem = -1.\n",
        "\n",
        "    model = nn.Sequential(\n",
        "        sl.FlattenTime(), \n",
        "\n",
        "        nn.Conv2d(2, 8, kernel_size=3, stride=2, padding=1, bias=False),   \n",
        "        backend.IAFSqueeze(batch_size=batch_size, min_v_mem=min_v_mem),\n",
        "\n",
        "        nn.Conv2d(8, 16, kernel_size=3, stride=2, padding=1, bias=False),  \n",
        "        backend.IAFSqueeze(batch_size=batch_size, min_v_mem=min_v_mem),\n",
        "\n",
        "        nn.Conv2d(16, 32, kernel_size=3, stride=2, padding=1, bias=False), \n",
        "        backend.IAFSqueeze(batch_size=batch_size, min_v_mem=min_v_mem),\n",
        "\n",
        "        nn.Conv2d(32, 64, kernel_size=3, stride=2, padding=1, bias=False),\n",
        "        backend.IAFSqueeze(batch_size=batch_size, min_v_mem=min_v_mem),\n",
        "\n",
        "        nn.Conv2d(64, 10, kernel_size=3, stride=1, padding=0, bias=False),\n",
        "        backend.IAFSqueeze(batch_size=batch_size, min_v_mem=min_v_mem),\n",
        "\n",
        "        nn.Flatten(),\n",
        "        sl.UnflattenTime(batch_size=batch_size),\n",
        "    )\n",
        "    return model\n"
      ]
    },
    {
      "cell_type": "markdown",
      "id": "G8p23tpMF57t",
      "metadata": {
        "id": "G8p23tpMF57t"
      },
      "source": [
        "Bias are set to False to avoid chip running at fixed frequency on the chip: https://sinabs.readthedocs.io/v3.0.3/speck/notebooks/leak_neuron.html"
      ]
    },
    {
      "cell_type": "markdown",
      "id": "EYf13Gtx1OCj",
      "metadata": {
        "id": "EYf13Gtx1OCj"
      },
      "source": [
        "# Dataset Definition"
      ]
    },
    {
      "cell_type": "code",
      "execution_count": null,
      "id": "ZU72n-SQVb4Q",
      "metadata": {
        "id": "ZU72n-SQVb4Q"
      },
      "outputs": [
        {
          "name": "stderr",
          "output_type": "stream",
          "text": [
            "/Users/benedettoleto/PycharmProjects/inNuCE_BRANDY-2025/.conda/lib/python3.12/site-packages/tqdm/auto.py:21: TqdmWarning: IProgress not found. Please update jupyter and ipywidgets. See https://ipywidgets.readthedocs.io/en/stable/user_install.html\n",
            "  from .autonotebook import tqdm as notebook_tqdm\n"
          ]
        }
      ],
      "source": [
        "from tonic import datasets, transforms\n",
        "\n",
        "def get_data_loaders(batch_size):\n",
        "    \n",
        "    transform = transforms.Compose([\n",
        "        transforms.ToFrame(sensor_size=(34, 34, 2), n_time_bins=30, include_incomplete=True),\n",
        "        lambda x: torch.from_numpy(x.astype(np.float32)),\n",
        "    ])\n",
        "\n",
        "    trainset = datasets.NMNIST('./data', train=True, transform=transform)\n",
        "    testset = datasets.NMNIST('./data', train=False, transform=transform)\n",
        "\n",
        "    trainloader = torch.utils.data.DataLoader(\n",
        "        trainset, batch_size=batch_size, shuffle=True, num_workers=0,\n",
        "        drop_last=True, pin_memory=True\n",
        "    )\n",
        "    testloader = torch.utils.data.DataLoader(\n",
        "        testset, batch_size=batch_size, num_workers=0,\n",
        "        drop_last=True, pin_memory=True\n",
        "    )\n",
        "\n",
        "    return trainloader, testloader"
      ]
    },
    {
      "cell_type": "markdown",
      "id": "ac146dba",
      "metadata": {},
      "source": [
        "# Training Process"
      ]
    },
    {
      "cell_type": "code",
      "execution_count": null,
      "id": "E6gC5ivtVm_E",
      "metadata": {
        "id": "E6gC5ivtVm_E"
      },
      "outputs": [],
      "source": [
        "def evaluate_model(model, testloader, device):\n",
        "    \n",
        "    acc = torchmetrics.Accuracy('multiclass', num_classes=10).to(device)\n",
        "    model.eval()\n",
        "\n",
        "    total_loss = 0\n",
        "    num_batches = 0\n",
        "\n",
        "    with torch.no_grad():\n",
        "        for data, targets in tqdm(testloader, desc=\"Evaluating\"):\n",
        "            data, targets = data.to(device, non_blocking=True), targets.to(device, non_blocking=True)\n",
        "            sinabs.reset_states(model)\n",
        "\n",
        "            y_hat = model(data)\n",
        "            pred = y_hat.sum(1)\n",
        "            loss = nn.functional.cross_entropy(pred, targets)\n",
        "\n",
        "            acc(pred, targets)\n",
        "            total_loss += loss.item()\n",
        "            num_batches += 1\n",
        "\n",
        "    accuracy = acc.compute().item()\n",
        "    avg_loss = total_loss / num_batches\n",
        "\n",
        "    return accuracy, avg_loss"
      ]
    },
    {
      "cell_type": "code",
      "execution_count": null,
      "id": "3GdglZjK04cb",
      "metadata": {
        "id": "3GdglZjK04cb"
      },
      "outputs": [],
      "source": [
        "def train_and_evaluate(lr, batch_size, epochs, target_synops):\n",
        "\n",
        "    learning_rate = lr\n",
        "    batch_size = batch_size\n",
        "    n_epochs = epochs\n",
        "\n",
        "    acc = torchmetrics.Accuracy('multiclass', num_classes=10).to(device)\n",
        "\n",
        "    # Create model and move to device\n",
        "    model = create_model(batch_size)\n",
        "    model = model.to(device)\n",
        "\n",
        "    if target_synops:\n",
        "        # Register synops hooks\n",
        "        register_synops_hooks(model)\n",
        "\n",
        "\n",
        "    # Create data loaders\n",
        "    trainloader, testloader = get_data_loaders(batch_size)\n",
        "\n",
        "    # Create optimizer\n",
        "    optimizer = torch.optim.Adam(model.parameters(), lr=learning_rate)\n",
        "\n",
        "    for epoch in range(n_epochs):\n",
        "        model.train()\n",
        "\n",
        "        pbar = tqdm(trainloader, desc=f'Epoch {epoch+1}/{n_epochs}')\n",
        "        sinabs.reset_states(model)\n",
        "        sinabs.zero_grad(model)\n",
        "        optimizer.zero_grad()\n",
        "\n",
        "        for data, targets in pbar:\n",
        "            sinabs.reset_states(model)\n",
        "            optimizer.zero_grad()\n",
        "\n",
        "            data, targets = data.to(device, non_blocking=True), targets.to(device, non_blocking=True)\n",
        "            output = model(data).sum(1)\n",
        "\n",
        "            target_loss = nn.functional.cross_entropy(output, targets)\n",
        "            if target_synops:\n",
        "                synops = model.hook_data['total_synops_per_timestep'].item()\n",
        "                synops_loss = ((synops - target_synops) / target_synops) ** 2\n",
        "                loss = target_loss + synops_loss\n",
        "            else:\n",
        "                loss = target_loss\n",
        "\n",
        "            accuracy = acc(output, targets)\n",
        "            loss.backward()\n",
        "            optimizer.step()\n",
        "\n",
        "            current_loss = loss.item()\n",
        "\n",
        "            # Update progress bar\n",
        "            pbar.set_postfix({\n",
        "                'train_loss': f'{current_loss:.4f}',\n",
        "                'train_acc': f'{accuracy.item():.2%}',\n",
        "            })\n",
        "\n",
        "        # Evaluate on test set\n",
        "        test_acc, test_loss = evaluate_model(model, testloader, device)\n",
        "\n",
        "        pbar.set_postfix({\n",
        "            'train_loss': f'{current_loss:.4f}',\n",
        "            'train_acc': f'{accuracy:.2%}',\n",
        "            'test_loss': f'{test_loss:.4f}',\n",
        "            'test_acc': f'{test_acc:.4f}',\n",
        "            \n",
        "        })\n",
        "\n",
        "\n",
        "    final_accuracy, final_loss = evaluate_model(model, testloader, device)\n",
        "\n",
        "\n",
        "    print(\"\\nTraining complete.\")\n",
        "    print(f\"Final accuracy: {final_accuracy:.2%}\")\n",
        "    print(f\"Final loss: {final_loss:.4f}\")\n",
        "\n",
        "    os.makedirs('saved_models_2', exist_ok=True)\n",
        "    torch.save(model.cpu(), 'saved_models_2/'+f\"{final_accuracy:.4f}_{target_synops if target_synops else 'inf'}.pth\")"
      ]
    },
    {
      "cell_type": "markdown",
      "id": "17805d37",
      "metadata": {},
      "source": [
        "### Train with no synops regulation"
      ]
    },
    {
      "cell_type": "code",
      "execution_count": 18,
      "id": "8ipqtuRsgCmJ",
      "metadata": {
        "colab": {
          "base_uri": "https://localhost:8080/",
          "height": 485,
          "referenced_widgets": [
            "5a20fcf5dcf44b35844bb6ad9d014f9e",
            "a418ded64a424d9282876372af8ce201",
            "06bf80762c3d450682336f640da8672d",
            "353a89aa4d784c35a256a2f1007dcf48",
            "3f6df7f6c95c4e60936743aa9bee7b6f",
            "da3c8c5800f24ad58b4850163daed107",
            "65604addc8b84ce29289e1a3513694ae",
            "09119f1048434819a218906ff85a6f48",
            "a293e070392048bcb744b3a077deef58",
            "b5b5c515ef6a4afc9fde61c9225cef3c",
            "5e00c88fc93e45689ea894c99e14fdee",
            "f48a3b65324044489649ea786b83d836",
            "17224702e3084664a5184203d00a510c",
            "1cad9fa518f94bdca1f43a929546ca8d",
            "db3dc0d4cf4645a49e6f272908f52580",
            "bfd0bb43d61342fe8ee3f206197a5e26",
            "ab26bba891574a89a50503ff77597917",
            "20a455df0cd3431c8a1c26e3453cdef9",
            "a5de5239e6e942dba535fbda5a09399e",
            "fee525a22d5e472289b9eb3014d70fb4",
            "6ddd0da9d19b4280869fe4e826462c30",
            "1d0cf7f0c9bc4a65bf99e87973c3a19c"
          ]
        },
        "id": "8ipqtuRsgCmJ",
        "outputId": "b52e047a-f075-479c-a95a-ac3b18727156"
      },
      "outputs": [
        {
          "name": "stderr",
          "output_type": "stream",
          "text": [
            "Epoch 1/2:   0%|          | 0/1875 [00:00<?, ?it/s]/Users/benedettoleto/PycharmProjects/inNuCE_BRANDY-2025/.conda/lib/python3.12/site-packages/torch/utils/data/dataloader.py:684: UserWarning: 'pin_memory' argument is set as true but not supported on MPS now, then device pinned memory won't be used.\n",
            "  warnings.warn(warn_msg)\n",
            "Epoch 1/2: 100%|██████████| 1875/1875 [03:53<00:00,  8.05it/s, train_loss=0.1316, train_acc=93.75%] \n",
            "Evaluating: 100%|██████████| 312/312 [00:13<00:00, 23.50it/s]\n",
            "Epoch 2/2: 100%|██████████| 1875/1875 [03:27<00:00,  9.06it/s, train_loss=0.0038, train_acc=100.00%]\n",
            "Evaluating: 100%|██████████| 312/312 [00:13<00:00, 23.69it/s]\n",
            "Evaluating: 100%|██████████| 312/312 [00:13<00:00, 23.85it/s]"
          ]
        },
        {
          "name": "stdout",
          "output_type": "stream",
          "text": [
            "\n",
            "Training complete.\n",
            "Final accuracy: 97.51%\n",
            "Final loss: 0.0721\n"
          ]
        },
        {
          "name": "stderr",
          "output_type": "stream",
          "text": [
            "\n"
          ]
        }
      ],
      "source": [
        "lr = 1e-3\n",
        "batch_size = 32\n",
        "epochs = 2\n",
        "train_and_evaluate(lr, batch_size, epochs, target_synops=False)"
      ]
    },
    {
      "cell_type": "markdown",
      "id": "99298345",
      "metadata": {},
      "source": [
        "### Train with synops regulation"
      ]
    },
    {
      "cell_type": "code",
      "execution_count": 19,
      "id": "6c3d97cf",
      "metadata": {},
      "outputs": [
        {
          "name": "stderr",
          "output_type": "stream",
          "text": [
            "Epoch 1/2: 100%|██████████| 1875/1875 [03:36<00:00,  8.64it/s, train_loss=2.2441, train_acc=100.00%]\n",
            "Evaluating: 100%|██████████| 312/312 [00:14<00:00, 22.17it/s]\n",
            "Epoch 2/2: 100%|██████████| 1875/1875 [03:55<00:00,  7.97it/s, train_loss=3.7563, train_acc=100.00%]\n",
            "Evaluating: 100%|██████████| 312/312 [00:13<00:00, 22.42it/s]\n",
            "Evaluating: 100%|██████████| 312/312 [00:14<00:00, 21.82it/s]"
          ]
        },
        {
          "name": "stdout",
          "output_type": "stream",
          "text": [
            "\n",
            "Training complete.\n",
            "Final accuracy: 97.50%\n",
            "Final loss: 0.0759\n"
          ]
        },
        {
          "name": "stderr",
          "output_type": "stream",
          "text": [
            "\n"
          ]
        }
      ],
      "source": [
        "lr = 1e-3\n",
        "batch_size = 32\n",
        "epochs = 2\n",
        "target_synops = 12000\n",
        "train_and_evaluate(lr, batch_size, epochs, target_synops=target_synops)"
      ]
    },
    {
      "cell_type": "code",
      "execution_count": 20,
      "id": "2f0f4652",
      "metadata": {},
      "outputs": [
        {
          "name": "stderr",
          "output_type": "stream",
          "text": [
            "Epoch 1/2: 100%|██████████| 1875/1875 [03:04<00:00, 10.18it/s, train_loss=57.1127, train_acc=87.50%] \n",
            "Evaluating: 100%|██████████| 312/312 [00:14<00:00, 21.72it/s]\n",
            "Epoch 2/2: 100%|██████████| 1875/1875 [03:49<00:00,  8.16it/s, train_loss=58.2897, train_acc=100.00%]\n",
            "Evaluating: 100%|██████████| 312/312 [00:13<00:00, 22.36it/s]\n",
            "Evaluating: 100%|██████████| 312/312 [00:14<00:00, 21.82it/s]"
          ]
        },
        {
          "name": "stdout",
          "output_type": "stream",
          "text": [
            "\n",
            "Training complete.\n",
            "Final accuracy: 97.78%\n",
            "Final loss: 0.0669\n"
          ]
        },
        {
          "name": "stderr",
          "output_type": "stream",
          "text": [
            "\n"
          ]
        }
      ],
      "source": [
        "lr = 1e-3\n",
        "batch_size = 32\n",
        "epochs = 2\n",
        "target_synops = 5000\n",
        "train_and_evaluate(lr, batch_size, epochs, target_synops=target_synops)"
      ]
    },
    {
      "cell_type": "markdown",
      "id": "e6e3db66",
      "metadata": {},
      "source": [
        "# Model statistics on Simulation"
      ]
    },
    {
      "cell_type": "code",
      "execution_count": null,
      "id": "ZVWT8kCue6oQ",
      "metadata": {
        "id": "ZVWT8kCue6oQ"
      },
      "outputs": [],
      "source": [
        "import sinabs.layers as sl\n",
        "\n",
        "from sinabs.hooks import register_synops_hooks, firing_rate_hook, get_hook_data_dict\n",
        "\n",
        "def record_output_hook(module, input, output):\n",
        "    data = get_hook_data_dict(module)\n",
        "    data[\"output\"] = output\n",
        "\n",
        "def register_hooks(model):\n",
        "    register_synops_hooks(model)\n",
        "    for layer in model:\n",
        "        if isinstance(layer, sl.StatefulLayer) and layer.does_spike:\n",
        "            layer.register_forward_hook(firing_rate_hook)\n",
        "            layer.register_forward_hook(record_output_hook)\n",
        "\n",
        "def sinabs_total_syn_ops(model):\n",
        "    \n",
        "    return model.hook_data['total_synops_per_timestep'].item()\n",
        "\n",
        "def sinabs_syn_ops_by_layer(model):\n",
        "    \n",
        "    counts = [x.item() for x in model.hook_data['synops_per_timestep'].values()]\n",
        "    return counts\n",
        "\n",
        "def sinabs_firing_rate_by_layer(model):\n",
        "    \n",
        "    rates = []\n",
        "    for layer in model:\n",
        "        if isinstance(layer, sl.StatefulLayer) and layer.does_spike:\n",
        "            rates.append(layer.hook_data['firing_rate'].item())\n",
        "\n",
        "    return rates\n",
        "\n",
        "def activation_sparsity(model):\n",
        "    total_spike_num = 0  # Count of non-zero activations\n",
        "    total_neuro_num = 0  # Count of all activations\n",
        "\n",
        "    sparsity_by_layer = []\n",
        "\n",
        "    for layer in model:\n",
        "            if isinstance(layer, sl.StatefulLayer) and layer.does_spike:\n",
        "                total_spike_num += layer.hook_data['output'].gt(0).sum().item()\n",
        "                total_neuro_num += layer.hook_data['output'].numel()\n",
        "\n",
        "                sparsity_by_layer.append((layer.hook_data['output'].numel() - layer.hook_data['output'].gt(0).sum().item())/layer.hook_data['output'].numel())\n",
        "\n",
        "    sparsity = (total_neuro_num - total_spike_num) / total_neuro_num\n",
        "    return sparsity, sparsity_by_layer"
      ]
    },
    {
      "cell_type": "code",
      "execution_count": 5,
      "id": "jxoEiPttfDmS",
      "metadata": {
        "colab": {
          "base_uri": "https://localhost:8080/"
        },
        "id": "jxoEiPttfDmS",
        "outputId": "b9894b88-ab2b-4f80-8d1c-1f8d061a89e4"
      },
      "outputs": [
        {
          "name": "stderr",
          "output_type": "stream",
          "text": [
            "/Users/benedettoleto/PycharmProjects/inNuCE_BRANDY-2025/.conda/lib/python3.12/site-packages/torch/utils/data/dataloader.py:684: UserWarning: 'pin_memory' argument is set as true but not supported on MPS now, then device pinned memory won't be used.\n",
            "  warnings.warn(warn_msg)\n"
          ]
        }
      ],
      "source": [
        "trainloader, testloader = get_data_loaders(32)\n",
        "loader_data = next(iter(trainloader))"
      ]
    },
    {
      "cell_type": "code",
      "execution_count": 8,
      "id": "SMCUP8iggDOS",
      "metadata": {
        "colab": {
          "base_uri": "https://localhost:8080/"
        },
        "id": "SMCUP8iggDOS",
        "outputId": "ec5fc7e2-332e-4709-90e9-0046e2c74c99"
      },
      "outputs": [
        {
          "name": "stdout",
          "output_type": "stream",
          "text": [
            "37129.36328125 0.9750_12000.pth\n",
            "38482.10546875 0.9751_inf.pth\n",
            "43100.9609375 0.9778_5000.pth\n"
          ]
        }
      ],
      "source": [
        "data = loader_data[0]\n",
        "\n",
        "results_list = []\n",
        "\n",
        "for path in os.listdir(\"./saved_models_2/\"):\n",
        "  if not path.endswith(\".pth\"):\n",
        "      continue\n",
        "  \n",
        "  model = torch.load(\"./saved_models_2/\"+path, weights_only=False)\n",
        "  register_hooks(model)\n",
        "  sinabs.reset_states(model)\n",
        "  model(data)\n",
        "  tot_syn_ops = sinabs_total_syn_ops(model) \n",
        "  print(tot_syn_ops, path)\n",
        "  synops_by_layer = sinabs_syn_ops_by_layer(model) \n",
        "  firing_rate_by_layer = sinabs_firing_rate_by_layer(model)\n",
        "  tot_act_sparsity, act_sparsity_by_layer = activation_sparsity(model)\n",
        "  results_list.append((path, tot_syn_ops, synops_by_layer, firing_rate_by_layer, tot_act_sparsity, act_sparsity_by_layer))"
      ]
    },
    {
      "cell_type": "code",
      "execution_count": 26,
      "id": "637ed06b",
      "metadata": {},
      "outputs": [
        {
          "data": {
            "image/png": "[encoded data removed]",
            "text/plain": [
              "<Figure size 1800x500 with 4 Axes>"
            ]
          },
          "metadata": {},
          "output_type": "display_data"
        }
      ],
      "source": [
        "import numpy as np\n",
        "import pandas as pd\n",
        "import matplotlib.pyplot as plt\n",
        "\n",
        "# Convert to DataFrame\n",
        "df = pd.DataFrame(results_list, columns=[\n",
        "    \"model\", \"total_synops\", \"synops\", \"fire_rate\", \"act_sparsity\", \"act_sparsity_by_layer\"\n",
        "])\n",
        "\n",
        "# Sort by model name (optional)\n",
        "df.sort_values(\"model\", inplace=True)\n",
        "\n",
        "# Plot\n",
        "fig, axs = plt.subplots(1, 4, figsize=(18, 5))\n",
        "fig.suptitle(\"Model Metrics across Saved Models\", fontsize=14)\n",
        "\n",
        "x_positions = np.arange(len(df[\"model\"]))  # numeric positions for scatter\n",
        "x_labels = df[\"model\"]\n",
        "\n",
        "# Scatter SynOps by Layer\n",
        "for i, layer in enumerate(np.stack(df['synops'].to_numpy()).T):\n",
        "    axs[0].scatter(x_positions, layer, label=f\"Layer {i}\")\n",
        "axs[0].set_title(\"SynOps by Layer\")\n",
        "axs[0].set_xticks(x_positions)\n",
        "axs[0].set_xticklabels(x_labels, rotation=45, ha='right')\n",
        "axs[0].legend()\n",
        "\n",
        "# Scatter Firing Rate by Layer\n",
        "for i, layer in enumerate(np.stack(df['fire_rate'].to_numpy()).T):\n",
        "    axs[1].scatter(x_positions, layer, label=f\"Layer {i}\")\n",
        "axs[1].set_title(\"Firing Rates by Layer\")\n",
        "axs[1].set_xticks(x_positions)\n",
        "axs[1].set_xticklabels(x_labels, rotation=45, ha='right')\n",
        "axs[1].legend()\n",
        "\n",
        "# Scatter Activation Sparsity by Layer\n",
        "for i, layer in enumerate(np.stack(df['act_sparsity_by_layer'].to_numpy()).T):\n",
        "    axs[2].scatter(x_positions, layer, label=f\"Layer {i}\")\n",
        "axs[2].set_title(\"Activation Sparsity by Layer\")\n",
        "axs[2].set_xticks(x_positions)\n",
        "axs[2].set_xticklabels(x_labels, rotation=45, ha='right')\n",
        "axs[2].legend()\n",
        "\n",
        "# Scatter Global Activation Sparsity\n",
        "axs[3].scatter(x_positions, df['act_sparsity'], color='tab:red')\n",
        "axs[3].set_title(\"Global Activation Sparsity\")\n",
        "axs[3].set_xticks(x_positions)\n",
        "axs[3].set_xticklabels(x_labels, rotation=45, ha='right')\n",
        "\n",
        "plt.tight_layout()\n",
        "plt.show()"
      ]
    },
    {
      "cell_type": "markdown",
      "id": "338f6252",
      "metadata": {},
      "source": [
        "# Model deployment on Speck"
      ]
    },
    {
      "cell_type": "code",
      "execution_count": null,
      "id": "921c0c1e",
      "metadata": {},
      "outputs": [
        {
          "name": "stdout",
          "output_type": "stream",
          "text": [
            "Starting main execution.\n",
            "Model name: 0.9778_5000.pth\n",
            "Initialized SpeckModel.\n",
            "Data prepared with shape: [100, 30, 2, 34, 34]\n",
            "Initialized DynapcnnNetwork.\n",
            "Network is valid\n",
            "Model transferred to device.\n",
            "Data converted to events.\n",
            "Processed all data samples in 121.60556387901306 seconds.\n",
            "Closed device.\n",
            "FPS: 0.8223307948268821\n",
            "Total spikes: 1020091\n",
            "Total neurons: 14375151\n",
            "Tot. Dynamic Power: 0.7765969297939672 mW\n",
            "Activation sparsity: 0.9290378932367389\n",
            "Results completed for model 0.9778_5000.pth\n",
            "Starting main execution.\n",
            "Model name: 0.9750_12000.pth\n",
            "Initialized SpeckModel.\n",
            "Data prepared with shape: [100, 30, 2, 34, 34]\n",
            "Initialized DynapcnnNetwork.\n",
            "Network is valid\n",
            "Model transferred to device.\n",
            "Data converted to events.\n",
            "Processed all data samples in 121.04535818099976 seconds.\n",
            "Closed device.\n",
            "FPS: 0.8261365946017482\n",
            "Total spikes: 784313\n",
            "Total neurons: 14321621\n",
            "Tot. Dynamic Power: 0.7150377806851439 mW\n",
            "Activation sparsity: 0.9452357383287827\n",
            "Results completed for model 0.9750_12000.pth\n",
            "Starting main execution.\n",
            "Model name: 0.9751_inf.pth\n",
            "Initialized SpeckModel.\n",
            "Data prepared with shape: [100, 30, 2, 34, 34]\n",
            "Initialized DynapcnnNetwork.\n",
            "Network is valid\n",
            "Model transferred to device.\n",
            "Data converted to events.\n",
            "Processed all data samples in 121.32211256027222 seconds.\n",
            "Closed device.\n",
            "FPS: 0.8242520500977965\n",
            "Total spikes: 932968\n",
            "Total neurons: 14372557\n",
            "Tot. Dynamic Power: 0.7482712656592216 mW\n",
            "Activation sparsity: 0.9350868464115327\n",
            "Results completed for model 0.9751_inf.pth\n"
          ]
        }
      ],
      "source": [
        "import time\n",
        "import torch\n",
        "import numpy as np\n",
        "import pandas as pd\n",
        "from collections import defaultdict\n",
        "\n",
        "import samna\n",
        "from sinabs.backend.dynapcnn import DynapcnnNetwork\n",
        "from sinabs.backend.dynapcnn.chip_factory import ChipFactory\n",
        "from sinabs.backend.dynapcnn.dynapcnn_visualizer import DynapcnnVisualizer\n",
        "from tonic import datasets, transforms\n",
        "import os\n",
        "import pandas as pd\n",
        "\n",
        "\n",
        "transform = transforms.Compose([\n",
        "        transforms.ToFrame(sensor_size=(34, 34, 2), n_time_bins=30, include_incomplete=True),\n",
        "        lambda x: torch.from_numpy(x.astype(np.float32)),\n",
        "    ])\n",
        "\n",
        "def run_hw(model_path, monitor_layers='all'):\n",
        "\n",
        "    testset = datasets.NMNIST('./data', train=False, transform=transform)\n",
        "    class_samples = {i: [] for i in range(10)}  # Dictionary to store samples for each class\n",
        "    \n",
        "    for data, label in testset:\n",
        "        if len(class_samples[label]) < 10:\n",
        "            class_samples[label].append(data)\n",
        "        if all(len(samples) == 10 for samples in class_samples.values()):\n",
        "            break\n",
        "    \n",
        "    data = torch.stack([torch.stack(samples) for samples in class_samples.values()]).numpy()\n",
        "    data = data.reshape(-1, 30, 2, 34, 34)  # Reshape to [batch_size, time_bins, channels, height, width]\n",
        "\n",
        "\n",
        "    devices = samna.device.get_unopened_devices()\n",
        "    speck = samna.device.open_device(devices[0])\n",
        "    device_id = 'speck2fdevkit'\n",
        "\n",
        "    try:\n",
        "\n",
        "        cnn = torch.load(model_path, weights_only=False, map_location='cpu')\n",
        "\n",
        "        print(\"Initialized SpeckModel.\")\n",
        "\n",
        "        data_shape = [100] + [30,2,34,34]\n",
        "        \n",
        "        print(f\"Data prepared with shape: {data_shape}\")\n",
        "\n",
        "        dynapcnn_model = DynapcnnNetwork(cnn[0:-1], input_shape=[2, 34, 34], dvs_input=False, discretize=True)\n",
        "        print(\"Initialized DynapcnnNetwork.\")\n",
        "        dynapcnn_model.to(device_id, chip_layers_ordering=\"auto\", monitor_layers='all', slow_clk_frequency=None)\n",
        "        print(\"Model transferred to device.\")\n",
        "        layer_in = dynapcnn_model.chip_layers_ordering[0]\n",
        "\n",
        "\n",
        "        chip_factory = ChipFactory(device_id)\n",
        "        data = [chip_factory.raster_to_events(torch.from_numpy(x), layer=layer_in, dt=1/(data_shape[1]-1)) for x in data]\n",
        "        print(\"Data converted to events.\")\n",
        "\n",
        "        pwr_mon = speck.get_power_monitor()\n",
        "        source = pwr_mon.get_source_node()\n",
        "        sink = samna.graph.sink_from(source)\n",
        "        pwr_mon.start_auto_power_measurement(100.0)\n",
        "        \n",
        "        \n",
        "        total_spike_num = 0\n",
        "        total_neuro_num = 0\n",
        "        layer_neuro_num = defaultdict(int)\n",
        "        layer_spike_num = defaultdict(int)\n",
        "        layer_sparsity = defaultdict(float)\n",
        "        layer_outputs = defaultdict(list)\n",
        "\n",
        "        start_ts = time.time()\n",
        "        for sample in data:\n",
        "            output_events = dynapcnn_model(sample)\n",
        "            \n",
        "            if monitor_layers is None:\n",
        "                continue\n",
        "            \n",
        "            for id, layer in enumerate(dynapcnn_model.chip_layers_ordering):\n",
        "\n",
        "                output_events_layer = [each for each in output_events if each.layer == layer]\n",
        "\n",
        "                if len(output_events_layer) == 0:\n",
        "                    layer_neuro_num[id] += 0\n",
        "                    layer_spike_num[id] += 0\n",
        "                    continue\n",
        "                layer_outputs[id].append(output_events_layer)\n",
        "\n",
        "        end_ts = time.time()\n",
        "        print(f\"Processed all data samples in {end_ts - start_ts} seconds.\")\n",
        "\n",
        "        pwr_mon.stop_auto_power_measurement()\n",
        "        powers = pd.DataFrame([(x.channel, x.value) for x in sink.get_events()], columns=[\"ch\", \"pwr\"])\n",
        "\n",
        "    finally:\n",
        "    \n",
        "        samna.device.close_device(speck)\n",
        "        print(\"Closed device.\")\n",
        "\n",
        "        powers = powers.groupby('ch').mean()['pwr'].to_list()\n",
        "        fps = len(data) / (end_ts - start_ts)\n",
        "        print(f\"FPS: {fps}\")\n",
        "\n",
        "        dt= 1 / (data_shape[1] - 1)  \n",
        "\n",
        "        for layer in layer_outputs.keys():\n",
        "            for i in range(len(layer_outputs[layer])):\n",
        "                layer_n_spks = chip_factory.events_to_raster(layer_outputs[layer][i], dt=dt)\n",
        "\n",
        "                tot_neurons = layer_n_spks.numel()\n",
        "                tot_spikes = layer_n_spks.gt(0.0).sum().item()\n",
        "\n",
        "                layer_neuro_num[layer] += tot_neurons\n",
        "                layer_spike_num[layer] += tot_spikes\n",
        "                \n",
        "                total_spike_num += tot_spikes\n",
        "                total_neuro_num += tot_neurons\n",
        "\n",
        "\n",
        "        for key in layer_neuro_num:\n",
        "                sparsity = (\n",
        "                    (layer_neuro_num[key] - layer_spike_num[key])\n",
        "                    / layer_neuro_num[key]\n",
        "                    if layer_neuro_num[key] != 0\n",
        "                    else 0.0\n",
        "                )\n",
        "                layer_sparsity[key] = sparsity\n",
        "\n",
        "        activation_sparsity = ((total_neuro_num - total_spike_num) / total_neuro_num) if total_neuro_num != 0 else 0.0\n",
        "\n",
        "        print(f\"Total spikes: {total_spike_num}\")\n",
        "        print(f\"Total neurons: {total_neuro_num}\")\n",
        "        print(f\"Tot. Dynamic Power: {(powers[1]+ powers[2])*1e3} mW\")\n",
        "\n",
        "        print(f\"Activation sparsity: {activation_sparsity}\")\n",
        "\n",
        "        return powers, fps, activation_sparsity, dict(layer_sparsity), total_spike_num\n",
        "\n",
        "\n",
        "if __name__ == \"__main__\":\n",
        "\n",
        "\n",
        "    results = []\n",
        "\n",
        "    model_files = [f for f in os.listdir(\"./saved_models_2/\") if f.endswith('.pth')]\n",
        "    for model_file in model_files:\n",
        "        model_path = os.path.join(\"./saved_models_2\", model_file)\n",
        "        \n",
        "        print(\"Starting main execution.\")\n",
        "        print(f\"Model name: {model_file}\")\n",
        "        power, fps, act_sparsity, act_sp_by_layer, tot_spikes = run_hw(model_path)\n",
        "        print(f\"Results completed for model {model_file}\")\n",
        "        results.append((model_file, power, fps, act_sparsity, act_sp_by_layer, tot_spikes))\n",
        "        df = pd.DataFrame(results, columns=[\"model_name\", \"power\", \"fps\", \"act_sparsity\", \"act_sp_by_layer\", \"tot_spikes\"])\n"
      ]
    },
    {
      "cell_type": "markdown",
      "id": "004e3432",
      "metadata": {},
      "source": [
        "# Model statistics on Hardware"
      ]
    },
    {
      "cell_type": "code",
      "execution_count": 8,
      "id": "de5a3175",
      "metadata": {},
      "outputs": [
        {
          "data": {
            "image/png": "[encoded data removed]",
            "text/plain": [
              "<Figure size 1800x500 with 5 Axes>"
            ]
          },
          "metadata": {},
          "output_type": "display_data"
        }
      ],
      "source": [
        "import numpy as np\n",
        "import pandas as pd\n",
        "import matplotlib.pyplot as plt\n",
        "\n",
        "pwr_chan_label = [\"io\", \"ram\", \"logic\", \"vddd\", \"vdda\"]\n",
        "\n",
        "# Sort by model name (optional)\n",
        "df.sort_values(\"model_name\", inplace=True)\n",
        "\n",
        "# Create x-axis positions\n",
        "x_positions = np.arange(len(df[\"model_name\"]))\n",
        "x_labels = df[\"model_name\"]\n",
        "\n",
        "# Create subplots\n",
        "fig, axs = plt.subplots(1, 5, figsize=(18, 5))\n",
        "fig.suptitle(\"Model Metrics on Hardware\", fontsize=14)\n",
        "\n",
        "\n",
        "for i, ch in enumerate(np.stack(df['power'].to_numpy()).T):\n",
        "    axs[0].plot(x_positions, ch, '-o', label=f\"{pwr_chan_label[i]}\")\n",
        "axs[0].set_title(\"Power Consumption\")\n",
        "axs[0].set_ylabel(\"Power (µW)\")\n",
        "axs[0].set_xticks(x_positions)\n",
        "axs[0].set_xticklabels(x_labels, rotation=45, ha=\"right\")\n",
        "axs[0].legend()\n",
        "\n",
        "axs[1].plot(x_positions, df['fps'], '-o')\n",
        "axs[1].set_title(\"FPS\")\n",
        "axs[1].set_xticks(x_positions)\n",
        "axs[1].set_xticklabels(x_labels, rotation=45, ha=\"right\")\n",
        "\n",
        "axs[2].plot(x_positions, df['act_sparsity'], '-o')\n",
        "axs[2].set_title(\"Activation Sparsity\")\n",
        "axs[2].set_xticks(x_positions)\n",
        "axs[2].set_xticklabels(x_labels, rotation=45, ha=\"right\")\n",
        "\n",
        "layer_sparsities = np.stack(df['act_sp_by_layer'].to_numpy()).T\n",
        "sparsity_vectors = np.array([list(d.values()) for d in layer_sparsities])\n",
        "\n",
        "for i in range(sparsity_vectors.shape[1]):\n",
        "    axs[3].plot(x_positions, sparsity_vectors[:, i], '-o', label=f\"Layer {i}\")\n",
        "axs[3].set_title(\"Act. Sparsity by Layer\")\n",
        "axs[3].set_xticks(x_positions)\n",
        "axs[3].set_xticklabels(x_labels, rotation=45, ha=\"right\")\n",
        "axs[3].legend()\n",
        "\n",
        "axs[4].plot(x_positions, df['tot_spikes'], '-o')\n",
        "axs[4].set_title(\"Total Spikes\")\n",
        "axs[4].set_xticks(x_positions)\n",
        "axs[4].set_xticklabels(x_labels, rotation=45, ha=\"right\")\n",
        "\n",
        "plt.tight_layout()\n",
        "plt.show()"
      ]
    },
    {
      "cell_type": "markdown",
      "id": "0463b285",
      "metadata": {},
      "source": [
        "# NIR\n",
        "\n",
        "Export model using Neuromorphic Intermediate Representation"
      ]
    },
    {
      "cell_type": "code",
      "execution_count": null,
      "id": "333ff622",
      "metadata": {},
      "outputs": [
        {
          "name": "stdout",
          "output_type": "stream",
          "text": [
            "[warning] 1.input_type undefined, set to input.output_type\n",
            "[warning] 3.input_type undefined, set to 2.output_type\n",
            "[warning] 5.input_type undefined, set to 4.output_type\n",
            "[warning] 7.input_type undefined, set to 6.output_type\n",
            "[warning] 9.input_type undefined, set to 8.output_type\n",
            "[warning] 11.input_type undefined, set to 10.output_type\n",
            "updateing flatten output\n"
          ]
        }
      ],
      "source": [
        "from sinabs.nir import to_nir\n",
        "import nir\n",
        "\n",
        "model = create_model(batch_size=1)\n",
        "model = model[1:-1]\n",
        "\n",
        "checkpoint = torch.load(\"./saved_models_2/0.9751_inf.pth\", weights_only=False, map_location='cpu')\n",
        "filtered_state_dict = {\n",
        "    k: v for k, v in checkpoint.state_dict().items() if \"v_mem\" not in k\n",
        "}\n",
        "\n",
        "model.load_state_dict(filtered_state_dict, strict=False)\n",
        "\n",
        "nir_graph = to_nir(model, sample_data=torch.rand((1, 2, 34, 34)))\n",
        "nir_graph.infer_types()\n",
        "nir.write(\"cnn_sinabs.nir\", nir_graph)"
      ]
    },
    {
      "cell_type": "code",
      "execution_count": 13,
      "id": "99eb8e4c",
      "metadata": {},
      "outputs": [],
      "source": [
        "import torch\n",
        "import torch.nn as nn\n",
        "import snntorch as snn\n",
        "import numpy as np\n",
        "from snntorch.import_nir import import_from_nir\n",
        "import nir"
      ]
    },
    {
      "cell_type": "code",
      "execution_count": 14,
      "id": "2e41248b",
      "metadata": {},
      "outputs": [
        {
          "name": "stdout",
          "output_type": "stream",
          "text": [
            "replace rnn subgraph with nirgraph\n"
          ]
        }
      ],
      "source": [
        "graph = nir.read(\"cnn_sinabs.nir\")\n",
        "graph.nodes.keys()\n",
        "net = import_from_nir(graph)"
      ]
    },
    {
      "cell_type": "code",
      "execution_count": 15,
      "id": "6257880c",
      "metadata": {},
      "outputs": [
        {
          "name": "stdout",
          "output_type": "stream",
          "text": [
            "GraphExecutor(\n",
            "  (1): Conv2d(2, 8, kernel_size=(3, 3), stride=(np.int64(2), np.int64(2)), padding=(np.int64(1), np.int64(1)))\n",
            "  (10): Leaky()\n",
            "  (11): Flatten(start_dim=0, end_dim=-1)\n",
            "  (2): Leaky()\n",
            "  (3): Conv2d(8, 16, kernel_size=(3, 3), stride=(np.int64(2), np.int64(2)), padding=(np.int64(1), np.int64(1)))\n",
            "  (4): Leaky()\n",
            "  (5): Conv2d(16, 32, kernel_size=(3, 3), stride=(np.int64(2), np.int64(2)), padding=(np.int64(1), np.int64(1)))\n",
            "  (6): Leaky()\n",
            "  (7): Conv2d(32, 64, kernel_size=(3, 3), stride=(np.int64(2), np.int64(2)), padding=(np.int64(1), np.int64(1)))\n",
            "  (8): Leaky()\n",
            "  (9): Conv2d(64, 10, kernel_size=(3, 3), stride=(np.int64(1), np.int64(1)))\n",
            "  (input): Identity()\n",
            "  (output): Identity()\n",
            ")\n"
          ]
        }
      ],
      "source": [
        "print(net)"
      ]
    },
    {
      "cell_type": "code",
      "execution_count": 16,
      "id": "29a17691",
      "metadata": {},
      "outputs": [],
      "source": [
        "modules = [e.elem for e in net.get_execution_order()]\n",
        "\n",
        "# init all I&F neurons\n",
        "mem_dict = {}\n",
        "for idx, module in enumerate(modules):\n",
        "  if isinstance(module, snn.Leaky):\n",
        "    module.mem = module.init_leaky()"
      ]
    },
    {
      "cell_type": "code",
      "execution_count": 17,
      "id": "615f3b7a",
      "metadata": {},
      "outputs": [
        {
          "name": "stdout",
          "output_type": "stream",
          "text": [
            "GraphExecutor(\n",
            "  (1): Conv2d(2, 8, kernel_size=(3, 3), stride=(np.int64(2), np.int64(2)), padding=(np.int64(1), np.int64(1)))\n",
            "  (10): Leaky()\n",
            "  (11): Flatten(start_dim=0, end_dim=-1)\n",
            "  (2): Leaky()\n",
            "  (3): Conv2d(8, 16, kernel_size=(3, 3), stride=(np.int64(2), np.int64(2)), padding=(np.int64(1), np.int64(1)))\n",
            "  (4): Leaky()\n",
            "  (5): Conv2d(16, 32, kernel_size=(3, 3), stride=(np.int64(2), np.int64(2)), padding=(np.int64(1), np.int64(1)))\n",
            "  (6): Leaky()\n",
            "  (7): Conv2d(32, 64, kernel_size=(3, 3), stride=(np.int64(2), np.int64(2)), padding=(np.int64(1), np.int64(1)))\n",
            "  (8): Leaky()\n",
            "  (9): Conv2d(64, 10, kernel_size=(3, 3), stride=(np.int64(1), np.int64(1)))\n",
            "  (input): Identity()\n",
            "  (output): Identity()\n",
            ")\n"
          ]
        }
      ],
      "source": [
        "print(net)"
      ]
    },
    {
      "cell_type": "code",
      "execution_count": 18,
      "id": "a5c638b7",
      "metadata": {},
      "outputs": [],
      "source": [
        "_, testloader = get_data_loaders(batch_size=32)"
      ]
    },
    {
      "cell_type": "code",
      "execution_count": 19,
      "id": "a9b50e6a",
      "metadata": {},
      "outputs": [
        {
          "name": "stdout",
          "output_type": "stream",
          "text": [
            "Running benchmark\n"
          ]
        },
        {
          "name": "stderr",
          "output_type": "stream",
          "text": [
            "  0%|          | 0/312 [00:00<?, ?it/s]/Users/benedettoleto/PycharmProjects/inNuCE_BRANDY-2025/.conda/lib/python3.12/site-packages/torch/utils/data/dataloader.py:684: UserWarning: 'pin_memory' argument is set as true but not supported on MPS now, then device pinned memory won't be used.\n",
            "  warnings.warn(warn_msg)\n",
            "100%|██████████| 312/312 [01:58<00:00,  2.63it/s]"
          ]
        },
        {
          "name": "stdout",
          "output_type": "stream",
          "text": [
            "{'ParameterCount': 30226, 'Footprint': 121004, 'ConnectionSparsity': 0.0, 'ActivationSparsity': 0.9395761086637302, 'ActivationSparsityByLayer': {'10': 0.9940658386752137, '2': 0.9119895278235257, '4': 0.9410138371600322, '6': 0.9842994123931624, '8': 0.9970638843909514}, 'MembraneUpdates': 91439.49649439103, 'SynapticOperations': {'Effective_MACs': 49208.41586538462, 'Effective_ACs': 442318.9283854167, 'Dense': 9379200.9375}}\n"
          ]
        },
        {
          "name": "stderr",
          "output_type": "stream",
          "text": [
            "\n"
          ]
        }
      ],
      "source": [
        "import os\n",
        "from neurobench.processors.postprocessors import ChooseMaxCount\n",
        "from neurobench.benchmarks import Benchmark\n",
        "from neurobench.models import SNNTorchModel\n",
        "import torch\n",
        "from neurobench.metrics.workload import (\n",
        "    ActivationSparsity,\n",
        "    MembraneUpdates,\n",
        "    SynapticOperations,\n",
        "    ClassificationAccuracy,\n",
        "    ActivationSparsityByLayer,\n",
        ")\n",
        "from neurobench.metrics.static import (\n",
        "    ParameterCount,\n",
        "    Footprint,\n",
        "    ConnectionSparsity,\n",
        ")\n",
        "\n",
        "\n",
        "model = SNNTorchModel(net, custom_forward=False)\n",
        "\n",
        "postprocessors = []\n",
        "\n",
        "    # #\n",
        "static_metrics = [ParameterCount, Footprint, ConnectionSparsity]\n",
        "workload_metrics = [ActivationSparsity, ActivationSparsityByLayer,MembraneUpdates, SynapticOperations]\n",
        "# #\n",
        "benchmark = Benchmark(\n",
        "    model, testloader, [], postprocessors, [static_metrics, workload_metrics]\n",
        ")\n",
        "results = benchmark.run(verbose=False)\n",
        "print(results)"
      ]
    }
  ],
  "metadata": {
    "accelerator": "GPU",
    "colab": {
      "gpuType": "T4",
      "provenance": []
    },
    "kernelspec": {
      "display_name": "Python 3",
      "language": "python",
      "name": "python3"
    },
    "language_info": {
      "codemirror_mode": {
        "name": "ipython",
        "version": 3
      },
      "file_extension": ".py",
      "mimetype": "text/x-python",
      "name": "python",
      "nbconvert_exporter": "python",
      "pygments_lexer": "ipython3",
      "version": "3.12.11"
    },
    "widgets": {
      "application/vnd.jupyter.widget-state+json": {
        "06bf80762c3d450682336f640da8672d": {
          "model_module": "@jupyter-widgets/controls",
          "model_module_version": "1.5.0",
          "model_name": "FloatProgressModel",
          "state": {
            "_dom_classes": [],
            "_model_module": "@jupyter-widgets/controls",
            "_model_module_version": "1.5.0",
            "_model_name": "FloatProgressModel",
            "_view_count": null,
            "_view_module": "@jupyter-widgets/controls",
            "_view_module_version": "1.5.0",
            "_view_name": "ProgressView",
            "bar_style": "success",
            "description": "",
            "description_tooltip": null,
            "layout": "IPY_MODEL_09119f1048434819a218906ff85a6f48",
            "max": 1011893601,
            "min": 0,
            "orientation": "horizontal",
            "style": "IPY_MODEL_a293e070392048bcb744b3a077deef58",
            "value": 1011893601
          }
        },
        "09119f1048434819a218906ff85a6f48": {
          "model_module": "@jupyter-widgets/base",
          "model_module_version": "1.2.0",
          "model_name": "LayoutModel",
          "state": {
            "_model_module": "@jupyter-widgets/base",
            "_model_module_version": "1.2.0",
            "_model_name": "LayoutModel",
            "_view_count": null,
            "_view_module": "@jupyter-widgets/base",
            "_view_module_version": "1.2.0",
            "_view_name": "LayoutView",
            "align_content": null,
            "align_items": null,
            "align_self": null,
            "border": null,
            "bottom": null,
            "display": null,
            "flex": null,
            "flex_flow": null,
            "grid_area": null,
            "grid_auto_columns": null,
            "grid_auto_flow": null,
            "grid_auto_rows": null,
            "grid_column": null,
            "grid_gap": null,
            "grid_row": null,
            "grid_template_areas": null,
            "grid_template_columns": null,
            "grid_template_rows": null,
            "height": null,
            "justify_content": null,
            "justify_items": null,
            "left": null,
            "margin": null,
            "max_height": null,
            "max_width": null,
            "min_height": null,
            "min_width": null,
            "object_fit": null,
            "object_position": null,
            "order": null,
            "overflow": null,
            "overflow_x": null,
            "overflow_y": null,
            "padding": null,
            "right": null,
            "top": null,
            "visibility": null,
            "width": null
          }
        },
        "17224702e3084664a5184203d00a510c": {
          "model_module": "@jupyter-widgets/controls",
          "model_module_version": "1.5.0",
          "model_name": "HTMLModel",
          "state": {
            "_dom_classes": [],
            "_model_module": "@jupyter-widgets/controls",
            "_model_module_version": "1.5.0",
            "_model_name": "HTMLModel",
            "_view_count": null,
            "_view_module": "@jupyter-widgets/controls",
            "_view_module_version": "1.5.0",
            "_view_name": "HTMLView",
            "description": "",
            "description_tooltip": null,
            "layout": "IPY_MODEL_ab26bba891574a89a50503ff77597917",
            "placeholder": "​",
            "style": "IPY_MODEL_20a455df0cd3431c8a1c26e3453cdef9",
            "value": ""
          }
        },
        "1cad9fa518f94bdca1f43a929546ca8d": {
          "model_module": "@jupyter-widgets/controls",
          "model_module_version": "1.5.0",
          "model_name": "FloatProgressModel",
          "state": {
            "_dom_classes": [],
            "_model_module": "@jupyter-widgets/controls",
            "_model_module_version": "1.5.0",
            "_model_name": "FloatProgressModel",
            "_view_count": null,
            "_view_module": "@jupyter-widgets/controls",
            "_view_module_version": "1.5.0",
            "_view_name": "ProgressView",
            "bar_style": "success",
            "description": "",
            "description_tooltip": null,
            "layout": "IPY_MODEL_a5de5239e6e942dba535fbda5a09399e",
            "max": 169674850,
            "min": 0,
            "orientation": "horizontal",
            "style": "IPY_MODEL_fee525a22d5e472289b9eb3014d70fb4",
            "value": 169674850
          }
        },
        "1d0cf7f0c9bc4a65bf99e87973c3a19c": {
          "model_module": "@jupyter-widgets/controls",
          "model_module_version": "1.5.0",
          "model_name": "DescriptionStyleModel",
          "state": {
            "_model_module": "@jupyter-widgets/controls",
            "_model_module_version": "1.5.0",
            "_model_name": "DescriptionStyleModel",
            "_view_count": null,
            "_view_module": "@jupyter-widgets/base",
            "_view_module_version": "1.2.0",
            "_view_name": "StyleView",
            "description_width": ""
          }
        },
        "20a455df0cd3431c8a1c26e3453cdef9": {
          "model_module": "@jupyter-widgets/controls",
          "model_module_version": "1.5.0",
          "model_name": "DescriptionStyleModel",
          "state": {
            "_model_module": "@jupyter-widgets/controls",
            "_model_module_version": "1.5.0",
            "_model_name": "DescriptionStyleModel",
            "_view_count": null,
            "_view_module": "@jupyter-widgets/base",
            "_view_module_version": "1.2.0",
            "_view_name": "StyleView",
            "description_width": ""
          }
        },
        "353a89aa4d784c35a256a2f1007dcf48": {
          "model_module": "@jupyter-widgets/controls",
          "model_module_version": "1.5.0",
          "model_name": "HTMLModel",
          "state": {
            "_dom_classes": [],
            "_model_module": "@jupyter-widgets/controls",
            "_model_module_version": "1.5.0",
            "_model_name": "HTMLModel",
            "_view_count": null,
            "_view_module": "@jupyter-widgets/controls",
            "_view_module_version": "1.5.0",
            "_view_name": "HTMLView",
            "description": "",
            "description_tooltip": null,
            "layout": "IPY_MODEL_b5b5c515ef6a4afc9fde61c9225cef3c",
            "placeholder": "​",
            "style": "IPY_MODEL_5e00c88fc93e45689ea894c99e14fdee",
            "value": " 1011894272/? [00:30&lt;00:00, 33901446.27it/s]"
          }
        },
        "3f6df7f6c95c4e60936743aa9bee7b6f": {
          "model_module": "@jupyter-widgets/base",
          "model_module_version": "1.2.0",
          "model_name": "LayoutModel",
          "state": {
            "_model_module": "@jupyter-widgets/base",
            "_model_module_version": "1.2.0",
            "_model_name": "LayoutModel",
            "_view_count": null,
            "_view_module": "@jupyter-widgets/base",
            "_view_module_version": "1.2.0",
            "_view_name": "LayoutView",
            "align_content": null,
            "align_items": null,
            "align_self": null,
            "border": null,
            "bottom": null,
            "display": null,
            "flex": null,
            "flex_flow": null,
            "grid_area": null,
            "grid_auto_columns": null,
            "grid_auto_flow": null,
            "grid_auto_rows": null,
            "grid_column": null,
            "grid_gap": null,
            "grid_row": null,
            "grid_template_areas": null,
            "grid_template_columns": null,
            "grid_template_rows": null,
            "height": null,
            "justify_content": null,
            "justify_items": null,
            "left": null,
            "margin": null,
            "max_height": null,
            "max_width": null,
            "min_height": null,
            "min_width": null,
            "object_fit": null,
            "object_position": null,
            "order": null,
            "overflow": null,
            "overflow_x": null,
            "overflow_y": null,
            "padding": null,
            "right": null,
            "top": null,
            "visibility": null,
            "width": null
          }
        },
        "5a20fcf5dcf44b35844bb6ad9d014f9e": {
          "model_module": "@jupyter-widgets/controls",
          "model_module_version": "1.5.0",
          "model_name": "HBoxModel",
          "state": {
            "_dom_classes": [],
            "_model_module": "@jupyter-widgets/controls",
            "_model_module_version": "1.5.0",
            "_model_name": "HBoxModel",
            "_view_count": null,
            "_view_module": "@jupyter-widgets/controls",
            "_view_module_version": "1.5.0",
            "_view_name": "HBoxView",
            "box_style": "",
            "children": [
              "IPY_MODEL_a418ded64a424d9282876372af8ce201",
              "IPY_MODEL_06bf80762c3d450682336f640da8672d",
              "IPY_MODEL_353a89aa4d784c35a256a2f1007dcf48"
            ],
            "layout": "IPY_MODEL_3f6df7f6c95c4e60936743aa9bee7b6f"
          }
        },
        "5e00c88fc93e45689ea894c99e14fdee": {
          "model_module": "@jupyter-widgets/controls",
          "model_module_version": "1.5.0",
          "model_name": "DescriptionStyleModel",
          "state": {
            "_model_module": "@jupyter-widgets/controls",
            "_model_module_version": "1.5.0",
            "_model_name": "DescriptionStyleModel",
            "_view_count": null,
            "_view_module": "@jupyter-widgets/base",
            "_view_module_version": "1.2.0",
            "_view_name": "StyleView",
            "description_width": ""
          }
        },
        "65604addc8b84ce29289e1a3513694ae": {
          "model_module": "@jupyter-widgets/controls",
          "model_module_version": "1.5.0",
          "model_name": "DescriptionStyleModel",
          "state": {
            "_model_module": "@jupyter-widgets/controls",
            "_model_module_version": "1.5.0",
            "_model_name": "DescriptionStyleModel",
            "_view_count": null,
            "_view_module": "@jupyter-widgets/base",
            "_view_module_version": "1.2.0",
            "_view_name": "StyleView",
            "description_width": ""
          }
        },
        "6ddd0da9d19b4280869fe4e826462c30": {
          "model_module": "@jupyter-widgets/base",
          "model_module_version": "1.2.0",
          "model_name": "LayoutModel",
          "state": {
            "_model_module": "@jupyter-widgets/base",
            "_model_module_version": "1.2.0",
            "_model_name": "LayoutModel",
            "_view_count": null,
            "_view_module": "@jupyter-widgets/base",
            "_view_module_version": "1.2.0",
            "_view_name": "LayoutView",
            "align_content": null,
            "align_items": null,
            "align_self": null,
            "border": null,
            "bottom": null,
            "display": null,
            "flex": null,
            "flex_flow": null,
            "grid_area": null,
            "grid_auto_columns": null,
            "grid_auto_flow": null,
            "grid_auto_rows": null,
            "grid_column": null,
            "grid_gap": null,
            "grid_row": null,
            "grid_template_areas": null,
            "grid_template_columns": null,
            "grid_template_rows": null,
            "height": null,
            "justify_content": null,
            "justify_items": null,
            "left": null,
            "margin": null,
            "max_height": null,
            "max_width": null,
            "min_height": null,
            "min_width": null,
            "object_fit": null,
            "object_position": null,
            "order": null,
            "overflow": null,
            "overflow_x": null,
            "overflow_y": null,
            "padding": null,
            "right": null,
            "top": null,
            "visibility": null,
            "width": null
          }
        },
        "a293e070392048bcb744b3a077deef58": {
          "model_module": "@jupyter-widgets/controls",
          "model_module_version": "1.5.0",
          "model_name": "ProgressStyleModel",
          "state": {
            "_model_module": "@jupyter-widgets/controls",
            "_model_module_version": "1.5.0",
            "_model_name": "ProgressStyleModel",
            "_view_count": null,
            "_view_module": "@jupyter-widgets/base",
            "_view_module_version": "1.2.0",
            "_view_name": "StyleView",
            "bar_color": null,
            "description_width": ""
          }
        },
        "a418ded64a424d9282876372af8ce201": {
          "model_module": "@jupyter-widgets/controls",
          "model_module_version": "1.5.0",
          "model_name": "HTMLModel",
          "state": {
            "_dom_classes": [],
            "_model_module": "@jupyter-widgets/controls",
            "_model_module_version": "1.5.0",
            "_model_name": "HTMLModel",
            "_view_count": null,
            "_view_module": "@jupyter-widgets/controls",
            "_view_module_version": "1.5.0",
            "_view_name": "HTMLView",
            "description": "",
            "description_tooltip": null,
            "layout": "IPY_MODEL_da3c8c5800f24ad58b4850163daed107",
            "placeholder": "​",
            "style": "IPY_MODEL_65604addc8b84ce29289e1a3513694ae",
            "value": ""
          }
        },
        "a5de5239e6e942dba535fbda5a09399e": {
          "model_module": "@jupyter-widgets/base",
          "model_module_version": "1.2.0",
          "model_name": "LayoutModel",
          "state": {
            "_model_module": "@jupyter-widgets/base",
            "_model_module_version": "1.2.0",
            "_model_name": "LayoutModel",
            "_view_count": null,
            "_view_module": "@jupyter-widgets/base",
            "_view_module_version": "1.2.0",
            "_view_name": "LayoutView",
            "align_content": null,
            "align_items": null,
            "align_self": null,
            "border": null,
            "bottom": null,
            "display": null,
            "flex": null,
            "flex_flow": null,
            "grid_area": null,
            "grid_auto_columns": null,
            "grid_auto_flow": null,
            "grid_auto_rows": null,
            "grid_column": null,
            "grid_gap": null,
            "grid_row": null,
            "grid_template_areas": null,
            "grid_template_columns": null,
            "grid_template_rows": null,
            "height": null,
            "justify_content": null,
            "justify_items": null,
            "left": null,
            "margin": null,
            "max_height": null,
            "max_width": null,
            "min_height": null,
            "min_width": null,
            "object_fit": null,
            "object_position": null,
            "order": null,
            "overflow": null,
            "overflow_x": null,
            "overflow_y": null,
            "padding": null,
            "right": null,
            "top": null,
            "visibility": null,
            "width": null
          }
        },
        "ab26bba891574a89a50503ff77597917": {
          "model_module": "@jupyter-widgets/base",
          "model_module_version": "1.2.0",
          "model_name": "LayoutModel",
          "state": {
            "_model_module": "@jupyter-widgets/base",
            "_model_module_version": "1.2.0",
            "_model_name": "LayoutModel",
            "_view_count": null,
            "_view_module": "@jupyter-widgets/base",
            "_view_module_version": "1.2.0",
            "_view_name": "LayoutView",
            "align_content": null,
            "align_items": null,
            "align_self": null,
            "border": null,
            "bottom": null,
            "display": null,
            "flex": null,
            "flex_flow": null,
            "grid_area": null,
            "grid_auto_columns": null,
            "grid_auto_flow": null,
            "grid_auto_rows": null,
            "grid_column": null,
            "grid_gap": null,
            "grid_row": null,
            "grid_template_areas": null,
            "grid_template_columns": null,
            "grid_template_rows": null,
            "height": null,
            "justify_content": null,
            "justify_items": null,
            "left": null,
            "margin": null,
            "max_height": null,
            "max_width": null,
            "min_height": null,
            "min_width": null,
            "object_fit": null,
            "object_position": null,
            "order": null,
            "overflow": null,
            "overflow_x": null,
            "overflow_y": null,
            "padding": null,
            "right": null,
            "top": null,
            "visibility": null,
            "width": null
          }
        },
        "b5b5c515ef6a4afc9fde61c9225cef3c": {
          "model_module": "@jupyter-widgets/base",
          "model_module_version": "1.2.0",
          "model_name": "LayoutModel",
          "state": {
            "_model_module": "@jupyter-widgets/base",
            "_model_module_version": "1.2.0",
            "_model_name": "LayoutModel",
            "_view_count": null,
            "_view_module": "@jupyter-widgets/base",
            "_view_module_version": "1.2.0",
            "_view_name": "LayoutView",
            "align_content": null,
            "align_items": null,
            "align_self": null,
            "border": null,
            "bottom": null,
            "display": null,
            "flex": null,
            "flex_flow": null,
            "grid_area": null,
            "grid_auto_columns": null,
            "grid_auto_flow": null,
            "grid_auto_rows": null,
            "grid_column": null,
            "grid_gap": null,
            "grid_row": null,
            "grid_template_areas": null,
            "grid_template_columns": null,
            "grid_template_rows": null,
            "height": null,
            "justify_content": null,
            "justify_items": null,
            "left": null,
            "margin": null,
            "max_height": null,
            "max_width": null,
            "min_height": null,
            "min_width": null,
            "object_fit": null,
            "object_position": null,
            "order": null,
            "overflow": null,
            "overflow_x": null,
            "overflow_y": null,
            "padding": null,
            "right": null,
            "top": null,
            "visibility": null,
            "width": null
          }
        },
        "bfd0bb43d61342fe8ee3f206197a5e26": {
          "model_module": "@jupyter-widgets/base",
          "model_module_version": "1.2.0",
          "model_name": "LayoutModel",
          "state": {
            "_model_module": "@jupyter-widgets/base",
            "_model_module_version": "1.2.0",
            "_model_name": "LayoutModel",
            "_view_count": null,
            "_view_module": "@jupyter-widgets/base",
            "_view_module_version": "1.2.0",
            "_view_name": "LayoutView",
            "align_content": null,
            "align_items": null,
            "align_self": null,
            "border": null,
            "bottom": null,
            "display": null,
            "flex": null,
            "flex_flow": null,
            "grid_area": null,
            "grid_auto_columns": null,
            "grid_auto_flow": null,
            "grid_auto_rows": null,
            "grid_column": null,
            "grid_gap": null,
            "grid_row": null,
            "grid_template_areas": null,
            "grid_template_columns": null,
            "grid_template_rows": null,
            "height": null,
            "justify_content": null,
            "justify_items": null,
            "left": null,
            "margin": null,
            "max_height": null,
            "max_width": null,
            "min_height": null,
            "min_width": null,
            "object_fit": null,
            "object_position": null,
            "order": null,
            "overflow": null,
            "overflow_x": null,
            "overflow_y": null,
            "padding": null,
            "right": null,
            "top": null,
            "visibility": null,
            "width": null
          }
        },
        "da3c8c5800f24ad58b4850163daed107": {
          "model_module": "@jupyter-widgets/base",
          "model_module_version": "1.2.0",
          "model_name": "LayoutModel",
          "state": {
            "_model_module": "@jupyter-widgets/base",
            "_model_module_version": "1.2.0",
            "_model_name": "LayoutModel",
            "_view_count": null,
            "_view_module": "@jupyter-widgets/base",
            "_view_module_version": "1.2.0",
            "_view_name": "LayoutView",
            "align_content": null,
            "align_items": null,
            "align_self": null,
            "border": null,
            "bottom": null,
            "display": null,
            "flex": null,
            "flex_flow": null,
            "grid_area": null,
            "grid_auto_columns": null,
            "grid_auto_flow": null,
            "grid_auto_rows": null,
            "grid_column": null,
            "grid_gap": null,
            "grid_row": null,
            "grid_template_areas": null,
            "grid_template_columns": null,
            "grid_template_rows": null,
            "height": null,
            "justify_content": null,
            "justify_items": null,
            "left": null,
            "margin": null,
            "max_height": null,
            "max_width": null,
            "min_height": null,
            "min_width": null,
            "object_fit": null,
            "object_position": null,
            "order": null,
            "overflow": null,
            "overflow_x": null,
            "overflow_y": null,
            "padding": null,
            "right": null,
            "top": null,
            "visibility": null,
            "width": null
          }
        },
        "db3dc0d4cf4645a49e6f272908f52580": {
          "model_module": "@jupyter-widgets/controls",
          "model_module_version": "1.5.0",
          "model_name": "HTMLModel",
          "state": {
            "_dom_classes": [],
            "_model_module": "@jupyter-widgets/controls",
            "_model_module_version": "1.5.0",
            "_model_name": "HTMLModel",
            "_view_count": null,
            "_view_module": "@jupyter-widgets/controls",
            "_view_module_version": "1.5.0",
            "_view_name": "HTMLView",
            "description": "",
            "description_tooltip": null,
            "layout": "IPY_MODEL_6ddd0da9d19b4280869fe4e826462c30",
            "placeholder": "​",
            "style": "IPY_MODEL_1d0cf7f0c9bc4a65bf99e87973c3a19c",
            "value": " 169675776/? [00:06&lt;00:00, 31202727.35it/s]"
          }
        },
        "f48a3b65324044489649ea786b83d836": {
          "model_module": "@jupyter-widgets/controls",
          "model_module_version": "1.5.0",
          "model_name": "HBoxModel",
          "state": {
            "_dom_classes": [],
            "_model_module": "@jupyter-widgets/controls",
            "_model_module_version": "1.5.0",
            "_model_name": "HBoxModel",
            "_view_count": null,
            "_view_module": "@jupyter-widgets/controls",
            "_view_module_version": "1.5.0",
            "_view_name": "HBoxView",
            "box_style": "",
            "children": [
              "IPY_MODEL_17224702e3084664a5184203d00a510c",
              "IPY_MODEL_1cad9fa518f94bdca1f43a929546ca8d",
              "IPY_MODEL_db3dc0d4cf4645a49e6f272908f52580"
            ],
            "layout": "IPY_MODEL_bfd0bb43d61342fe8ee3f206197a5e26"
          }
        },
        "fee525a22d5e472289b9eb3014d70fb4": {
          "model_module": "@jupyter-widgets/controls",
          "model_module_version": "1.5.0",
          "model_name": "ProgressStyleModel",
          "state": {
            "_model_module": "@jupyter-widgets/controls",
            "_model_module_version": "1.5.0",
            "_model_name": "ProgressStyleModel",
            "_view_count": null,
            "_view_module": "@jupyter-widgets/base",
            "_view_module_version": "1.2.0",
            "_view_name": "StyleView",
            "bar_color": null,
            "description_width": ""
          }
        }
      }
    }
  },
  "nbformat": 4,
  "nbformat_minor": 5
}
