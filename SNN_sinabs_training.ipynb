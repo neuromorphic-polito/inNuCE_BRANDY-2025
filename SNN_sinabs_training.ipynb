{
  "cells": [
    {
      "cell_type": "markdown",
      "id": "f11b0249",
      "metadata": {
        "id": "f11b0249"
      },
      "source": [
        "# The hands-on workflow\n",
        "\n",
        "The full development workflow we will follow is:\n",
        "\n",
        "![workflow](https://github.com/neuromorphic-polito/inNuCE_BRANDY-2025/blob/main/images/workflow.png?raw=1)\n",
        "\n",
        "In this notebook:\n",
        " - We will use **sinabs** to define and train our network\n",
        " - The network will be run using the sinabs \"simulator\" to obtain **sparsity** and **accuracy** metrics\n",
        " - The network will be deployed to **speck**, to obtain the **inference speed** as well. **NOTE:** For this step you need the hardware chip and you need to run the notebooks locally instead of on colab. If you want to try this out you can ask to the presenters for more information.\n",
        " - We will then do some basic analysis of how sparsity affects accuracy and speed.\n",
        " - Finally, we export the model to **NIR**.\n",
        "\n",
        "This notebook has been adapted from https://sinabs.readthedocs.io/v3.0.3/tutorials/nmnist.html\n",
        "\n",
        "See also https://www.youtube.com/watch?v=kOiyRtvPO2Q for more in-depth details of sinabs.  "
      ]
    },
    {
      "cell_type": "markdown",
      "id": "6w8ThNNEYn5i",
      "metadata": {
        "id": "6w8ThNNEYn5i"
      },
      "source": [
        "# Package installation\n",
        "\n",
        "Execute only if you are usng Goolge Colab. If you are using your own local environment make sure you installed the dependecies first\n"
      ]
    },
    {
      "cell_type": "code",
      "execution_count": 1,
      "id": "hDnIEHOKB8LD",
      "metadata": {
        "colab": {
          "base_uri": "https://localhost:8080/",
          "height": 1000
        },
        "id": "hDnIEHOKB8LD",
        "outputId": "16644892-ec19-4cfa-9e65-599933cd0690"
      },
      "outputs": [
        {
          "name": "stdout",
          "output_type": "stream",
          "text": [
            "Collecting tonic\n",
            "  Downloading tonic-1.6.0-py3-none-any.whl.metadata (5.4 kB)\n",
            "Collecting numpy<2.0.0 (from tonic)\n",
            "  Downloading numpy-1.26.4-cp312-cp312-manylinux_2_17_x86_64.manylinux2014_x86_64.whl.metadata (61 kB)\n",
            "\u001b[2K     \u001b[90m━━━━━━━━━━━━━━━━━━━━━━━━━━━━━━━━━━━━━━━━\u001b[0m \u001b[32m61.0/61.0 kB\u001b[0m \u001b[31m4.3 MB/s\u001b[0m eta \u001b[36m0:00:00\u001b[0m\n",
            "\u001b[?25hRequirement already satisfied: h5py in /usr/local/lib/python3.12/dist-packages (from tonic) (3.14.0)\n",
            "Collecting importRosbag>=1.0.4 (from tonic)\n",
            "  Downloading importRosbag-1.0.4-py3-none-any.whl.metadata (4.3 kB)\n",
            "Requirement already satisfied: scipy in /usr/local/lib/python3.12/dist-packages (from tonic) (1.16.1)\n",
            "Requirement already satisfied: tqdm in /usr/local/lib/python3.12/dist-packages (from tonic) (4.67.1)\n",
            "Requirement already satisfied: typing-extensions in /usr/local/lib/python3.12/dist-packages (from tonic) (4.15.0)\n",
            "Requirement already satisfied: librosa in /usr/local/lib/python3.12/dist-packages (from tonic) (0.11.0)\n",
            "Collecting pbr (from tonic)\n",
            "  Downloading pbr-7.0.1-py2.py3-none-any.whl.metadata (1.4 kB)\n",
            "Collecting expelliarmus (from tonic)\n",
            "  Downloading expelliarmus-1.1.12.tar.gz (28 kB)\n",
            "  Preparing metadata (setup.py) ... \u001b[?25l\u001b[?25hdone\n",
            "Requirement already satisfied: setuptools in /usr/local/lib/python3.12/dist-packages (from importRosbag>=1.0.4->tonic) (75.2.0)\n",
            "Requirement already satisfied: audioread>=2.1.9 in /usr/local/lib/python3.12/dist-packages (from librosa->tonic) (3.0.1)\n",
            "Requirement already satisfied: numba>=0.51.0 in /usr/local/lib/python3.12/dist-packages (from librosa->tonic) (0.60.0)\n",
            "Requirement already satisfied: scikit-learn>=1.1.0 in /usr/local/lib/python3.12/dist-packages (from librosa->tonic) (1.6.1)\n",
            "Requirement already satisfied: joblib>=1.0 in /usr/local/lib/python3.12/dist-packages (from librosa->tonic) (1.5.2)\n",
            "Requirement already satisfied: decorator>=4.3.0 in /usr/local/lib/python3.12/dist-packages (from librosa->tonic) (4.4.2)\n",
            "Requirement already satisfied: soundfile>=0.12.1 in /usr/local/lib/python3.12/dist-packages (from librosa->tonic) (0.13.1)\n",
            "Requirement already satisfied: pooch>=1.1 in /usr/local/lib/python3.12/dist-packages (from librosa->tonic) (1.8.2)\n",
            "Requirement already satisfied: soxr>=0.3.2 in /usr/local/lib/python3.12/dist-packages (from librosa->tonic) (0.5.0.post1)\n",
            "Requirement already satisfied: lazy_loader>=0.1 in /usr/local/lib/python3.12/dist-packages (from librosa->tonic) (0.4)\n",
            "Requirement already satisfied: msgpack>=1.0 in /usr/local/lib/python3.12/dist-packages (from librosa->tonic) (1.1.1)\n",
            "Requirement already satisfied: packaging in /usr/local/lib/python3.12/dist-packages (from lazy_loader>=0.1->librosa->tonic) (25.0)\n",
            "Requirement already satisfied: llvmlite<0.44,>=0.43.0dev0 in /usr/local/lib/python3.12/dist-packages (from numba>=0.51.0->librosa->tonic) (0.43.0)\n",
            "Requirement already satisfied: platformdirs>=2.5.0 in /usr/local/lib/python3.12/dist-packages (from pooch>=1.1->librosa->tonic) (4.4.0)\n",
            "Requirement already satisfied: requests>=2.19.0 in /usr/local/lib/python3.12/dist-packages (from pooch>=1.1->librosa->tonic) (2.32.4)\n",
            "Requirement already satisfied: threadpoolctl>=3.1.0 in /usr/local/lib/python3.12/dist-packages (from scikit-learn>=1.1.0->librosa->tonic) (3.6.0)\n",
            "Requirement already satisfied: cffi>=1.0 in /usr/local/lib/python3.12/dist-packages (from soundfile>=0.12.1->librosa->tonic) (1.17.1)\n",
            "Requirement already satisfied: pycparser in /usr/local/lib/python3.12/dist-packages (from cffi>=1.0->soundfile>=0.12.1->librosa->tonic) (2.22)\n",
            "Requirement already satisfied: charset_normalizer<4,>=2 in /usr/local/lib/python3.12/dist-packages (from requests>=2.19.0->pooch>=1.1->librosa->tonic) (3.4.3)\n",
            "Requirement already satisfied: idna<4,>=2.5 in /usr/local/lib/python3.12/dist-packages (from requests>=2.19.0->pooch>=1.1->librosa->tonic) (3.10)\n",
            "Requirement already satisfied: urllib3<3,>=1.21.1 in /usr/local/lib/python3.12/dist-packages (from requests>=2.19.0->pooch>=1.1->librosa->tonic) (2.5.0)\n",
            "Requirement already satisfied: certifi>=2017.4.17 in /usr/local/lib/python3.12/dist-packages (from requests>=2.19.0->pooch>=1.1->librosa->tonic) (2025.8.3)\n",
            "Downloading tonic-1.6.0-py3-none-any.whl (106 kB)\n",
            "\u001b[2K   \u001b[90m━━━━━━━━━━━━━━━━━━━━━━━━━━━━━━━━━━━━━━━━\u001b[0m \u001b[32m106.2/106.2 kB\u001b[0m \u001b[31m11.1 MB/s\u001b[0m eta \u001b[36m0:00:00\u001b[0m\n",
            "\u001b[?25hDownloading importRosbag-1.0.4-py3-none-any.whl (28 kB)\n",
            "Downloading numpy-1.26.4-cp312-cp312-manylinux_2_17_x86_64.manylinux2014_x86_64.whl (18.0 MB)\n",
            "\u001b[2K   \u001b[90m━━━━━━━━━━━━━━━━━━━━━━━━━━━━━━━━━━━━━━━━\u001b[0m \u001b[32m18.0/18.0 MB\u001b[0m \u001b[31m70.4 MB/s\u001b[0m eta \u001b[36m0:00:00\u001b[0m\n",
            "\u001b[?25hDownloading pbr-7.0.1-py2.py3-none-any.whl (126 kB)\n",
            "\u001b[2K   \u001b[90m━━━━━━━━━━━━━━━━━━━━━━━━━━━━━━━━━━━━━━━━\u001b[0m \u001b[32m126.1/126.1 kB\u001b[0m \u001b[31m10.9 MB/s\u001b[0m eta \u001b[36m0:00:00\u001b[0m\n",
            "\u001b[?25hBuilding wheels for collected packages: expelliarmus\n",
            "  Building wheel for expelliarmus (setup.py) ... \u001b[?25l\u001b[?25hdone\n",
            "  Created wheel for expelliarmus: filename=expelliarmus-1.1.12-cp312-cp312-linux_x86_64.whl size=56409 sha256=0081b3e7b950e60c6022bba40c5498e805bf2de6a1c7abfe33c6ca79293d428d\n",
            "  Stored in directory: /root/.cache/pip/wheels/9a/9e/4b/f96da4dab397e63f90078766122e078e4ba82b2b48e07ee644\n",
            "Successfully built expelliarmus\n",
            "Installing collected packages: pbr, numpy, importRosbag, expelliarmus, tonic\n",
            "  Attempting uninstall: numpy\n",
            "    Found existing installation: numpy 2.0.2\n",
            "    Uninstalling numpy-2.0.2:\n",
            "      Successfully uninstalled numpy-2.0.2\n",
            "\u001b[31mERROR: pip's dependency resolver does not currently take into account all the packages that are installed. This behaviour is the source of the following dependency conflicts.\n",
            "thinc 8.3.6 requires numpy<3.0.0,>=2.0.0, but you have numpy 1.26.4 which is incompatible.\n",
            "opencv-python-headless 4.12.0.88 requires numpy<2.3.0,>=2; python_version >= \"3.9\", but you have numpy 1.26.4 which is incompatible.\n",
            "opencv-contrib-python 4.12.0.88 requires numpy<2.3.0,>=2; python_version >= \"3.9\", but you have numpy 1.26.4 which is incompatible.\n",
            "opencv-python 4.12.0.88 requires numpy<2.3.0,>=2; python_version >= \"3.9\", but you have numpy 1.26.4 which is incompatible.\u001b[0m\u001b[31m\n",
            "\u001b[0mSuccessfully installed expelliarmus-1.1.12 importRosbag-1.0.4 numpy-1.26.4 pbr-7.0.1 tonic-1.6.0\n"
          ]
        },
        {
          "data": {
            "application/vnd.colab-display-data+json": {
              "id": "bdb8a2bbc217496a9b702c70c30b3bb5",
              "pip_warning": {
                "packages": [
                  "numpy"
                ]
              }
            }
          },
          "metadata": {},
          "output_type": "display_data"
        },
        {
          "name": "stdout",
          "output_type": "stream",
          "text": [
            "Collecting sinabs\n",
            "  Downloading sinabs-3.0.3-py3-none-any.whl.metadata (3.7 kB)\n",
            "Requirement already satisfied: pbr in /usr/local/lib/python3.12/dist-packages (from sinabs) (7.0.1)\n",
            "Requirement already satisfied: numpy in /usr/local/lib/python3.12/dist-packages (from sinabs) (1.26.4)\n",
            "Requirement already satisfied: torch>=1.8 in /usr/local/lib/python3.12/dist-packages (from sinabs) (2.8.0+cu126)\n",
            "Collecting nir<=1.0.4 (from sinabs)\n",
            "  Downloading nir-1.0.4-py3-none-any.whl.metadata (5.8 kB)\n",
            "Collecting nirtorch (from sinabs)\n",
            "  Downloading nirtorch-2.0.5-py3-none-any.whl.metadata (6.4 kB)\n",
            "Collecting samna>=0.33 (from sinabs)\n",
            "  Downloading samna-0.47.1-py3-none-any.whl.metadata (375 bytes)\n",
            "Requirement already satisfied: h5py in /usr/local/lib/python3.12/dist-packages (from nir<=1.0.4->sinabs) (3.14.0)\n",
            "Requirement already satisfied: filelock in /usr/local/lib/python3.12/dist-packages (from torch>=1.8->sinabs) (3.19.1)\n",
            "Requirement already satisfied: typing-extensions>=4.10.0 in /usr/local/lib/python3.12/dist-packages (from torch>=1.8->sinabs) (4.15.0)\n",
            "Requirement already satisfied: setuptools in /usr/local/lib/python3.12/dist-packages (from torch>=1.8->sinabs) (75.2.0)\n",
            "Requirement already satisfied: sympy>=1.13.3 in /usr/local/lib/python3.12/dist-packages (from torch>=1.8->sinabs) (1.13.3)\n",
            "Requirement already satisfied: networkx in /usr/local/lib/python3.12/dist-packages (from torch>=1.8->sinabs) (3.5)\n",
            "Requirement already satisfied: jinja2 in /usr/local/lib/python3.12/dist-packages (from torch>=1.8->sinabs) (3.1.6)\n",
            "Requirement already satisfied: fsspec in /usr/local/lib/python3.12/dist-packages (from torch>=1.8->sinabs) (2025.3.0)\n",
            "Requirement already satisfied: nvidia-cuda-nvrtc-cu12==12.6.77 in /usr/local/lib/python3.12/dist-packages (from torch>=1.8->sinabs) (12.6.77)\n",
            "Requirement already satisfied: nvidia-cuda-runtime-cu12==12.6.77 in /usr/local/lib/python3.12/dist-packages (from torch>=1.8->sinabs) (12.6.77)\n",
            "Requirement already satisfied: nvidia-cuda-cupti-cu12==12.6.80 in /usr/local/lib/python3.12/dist-packages (from torch>=1.8->sinabs) (12.6.80)\n",
            "Requirement already satisfied: nvidia-cudnn-cu12==9.10.2.21 in /usr/local/lib/python3.12/dist-packages (from torch>=1.8->sinabs) (9.10.2.21)\n",
            "Requirement already satisfied: nvidia-cublas-cu12==12.6.4.1 in /usr/local/lib/python3.12/dist-packages (from torch>=1.8->sinabs) (12.6.4.1)\n",
            "Requirement already satisfied: nvidia-cufft-cu12==11.3.0.4 in /usr/local/lib/python3.12/dist-packages (from torch>=1.8->sinabs) (11.3.0.4)\n",
            "Requirement already satisfied: nvidia-curand-cu12==10.3.7.77 in /usr/local/lib/python3.12/dist-packages (from torch>=1.8->sinabs) (10.3.7.77)\n",
            "Requirement already satisfied: nvidia-cusolver-cu12==11.7.1.2 in /usr/local/lib/python3.12/dist-packages (from torch>=1.8->sinabs) (11.7.1.2)\n",
            "Requirement already satisfied: nvidia-cusparse-cu12==12.5.4.2 in /usr/local/lib/python3.12/dist-packages (from torch>=1.8->sinabs) (12.5.4.2)\n",
            "Requirement already satisfied: nvidia-cusparselt-cu12==0.7.1 in /usr/local/lib/python3.12/dist-packages (from torch>=1.8->sinabs) (0.7.1)\n",
            "Requirement already satisfied: nvidia-nccl-cu12==2.27.3 in /usr/local/lib/python3.12/dist-packages (from torch>=1.8->sinabs) (2.27.3)\n",
            "Requirement already satisfied: nvidia-nvtx-cu12==12.6.77 in /usr/local/lib/python3.12/dist-packages (from torch>=1.8->sinabs) (12.6.77)\n",
            "Requirement already satisfied: nvidia-nvjitlink-cu12==12.6.85 in /usr/local/lib/python3.12/dist-packages (from torch>=1.8->sinabs) (12.6.85)\n",
            "Requirement already satisfied: nvidia-cufile-cu12==1.11.1.6 in /usr/local/lib/python3.12/dist-packages (from torch>=1.8->sinabs) (1.11.1.6)\n",
            "Requirement already satisfied: triton==3.4.0 in /usr/local/lib/python3.12/dist-packages (from torch>=1.8->sinabs) (3.4.0)\n",
            "INFO: pip is looking at multiple versions of nirtorch to determine which version is compatible with other requirements. This could take a while.\n",
            "Collecting nirtorch (from sinabs)\n",
            "  Downloading nirtorch-2.0.4-py3-none-any.whl.metadata (6.4 kB)\n",
            "  Downloading nirtorch-2.0.3-py3-none-any.whl.metadata (6.4 kB)\n",
            "  Downloading nirtorch-2.0.2-py3-none-any.whl.metadata (6.4 kB)\n",
            "Requirement already satisfied: mpmath<1.4,>=1.1.0 in /usr/local/lib/python3.12/dist-packages (from sympy>=1.13.3->torch>=1.8->sinabs) (1.3.0)\n",
            "Requirement already satisfied: MarkupSafe>=2.0 in /usr/local/lib/python3.12/dist-packages (from jinja2->torch>=1.8->sinabs) (3.0.2)\n",
            "Downloading sinabs-3.0.3-py3-none-any.whl (98 kB)\n",
            "\u001b[2K   \u001b[90m━━━━━━━━━━━━━━━━━━━━━━━━━━━━━━━━━━━━━━━━\u001b[0m \u001b[32m99.0/99.0 kB\u001b[0m \u001b[31m10.1 MB/s\u001b[0m eta \u001b[36m0:00:00\u001b[0m\n",
            "\u001b[?25hDownloading nir-1.0.4-py3-none-any.whl (18 kB)\n",
            "Downloading samna-0.47.1-py3-none-any.whl (6.8 kB)\n",
            "Downloading nirtorch-2.0.2-py3-none-any.whl (23 kB)\n",
            "Installing collected packages: samna, nir, nirtorch, sinabs\n",
            "Successfully installed nir-1.0.4 nirtorch-2.0.2 samna-0.47.1 sinabs-3.0.3\n",
            "Collecting torchmetrics\n",
            "  Downloading torchmetrics-1.8.2-py3-none-any.whl.metadata (22 kB)\n",
            "Requirement already satisfied: numpy>1.20.0 in /usr/local/lib/python3.12/dist-packages (from torchmetrics) (1.26.4)\n",
            "Requirement already satisfied: packaging>17.1 in /usr/local/lib/python3.12/dist-packages (from torchmetrics) (25.0)\n",
            "Requirement already satisfied: torch>=2.0.0 in /usr/local/lib/python3.12/dist-packages (from torchmetrics) (2.8.0+cu126)\n",
            "Collecting lightning-utilities>=0.8.0 (from torchmetrics)\n",
            "  Downloading lightning_utilities-0.15.2-py3-none-any.whl.metadata (5.7 kB)\n",
            "Requirement already satisfied: setuptools in /usr/local/lib/python3.12/dist-packages (from lightning-utilities>=0.8.0->torchmetrics) (75.2.0)\n",
            "Requirement already satisfied: typing_extensions in /usr/local/lib/python3.12/dist-packages (from lightning-utilities>=0.8.0->torchmetrics) (4.15.0)\n",
            "Requirement already satisfied: filelock in /usr/local/lib/python3.12/dist-packages (from torch>=2.0.0->torchmetrics) (3.19.1)\n",
            "Requirement already satisfied: sympy>=1.13.3 in /usr/local/lib/python3.12/dist-packages (from torch>=2.0.0->torchmetrics) (1.13.3)\n",
            "Requirement already satisfied: networkx in /usr/local/lib/python3.12/dist-packages (from torch>=2.0.0->torchmetrics) (3.5)\n",
            "Requirement already satisfied: jinja2 in /usr/local/lib/python3.12/dist-packages (from torch>=2.0.0->torchmetrics) (3.1.6)\n",
            "Requirement already satisfied: fsspec in /usr/local/lib/python3.12/dist-packages (from torch>=2.0.0->torchmetrics) (2025.3.0)\n",
            "Requirement already satisfied: nvidia-cuda-nvrtc-cu12==12.6.77 in /usr/local/lib/python3.12/dist-packages (from torch>=2.0.0->torchmetrics) (12.6.77)\n",
            "Requirement already satisfied: nvidia-cuda-runtime-cu12==12.6.77 in /usr/local/lib/python3.12/dist-packages (from torch>=2.0.0->torchmetrics) (12.6.77)\n",
            "Requirement already satisfied: nvidia-cuda-cupti-cu12==12.6.80 in /usr/local/lib/python3.12/dist-packages (from torch>=2.0.0->torchmetrics) (12.6.80)\n",
            "Requirement already satisfied: nvidia-cudnn-cu12==9.10.2.21 in /usr/local/lib/python3.12/dist-packages (from torch>=2.0.0->torchmetrics) (9.10.2.21)\n",
            "Requirement already satisfied: nvidia-cublas-cu12==12.6.4.1 in /usr/local/lib/python3.12/dist-packages (from torch>=2.0.0->torchmetrics) (12.6.4.1)\n",
            "Requirement already satisfied: nvidia-cufft-cu12==11.3.0.4 in /usr/local/lib/python3.12/dist-packages (from torch>=2.0.0->torchmetrics) (11.3.0.4)\n",
            "Requirement already satisfied: nvidia-curand-cu12==10.3.7.77 in /usr/local/lib/python3.12/dist-packages (from torch>=2.0.0->torchmetrics) (10.3.7.77)\n",
            "Requirement already satisfied: nvidia-cusolver-cu12==11.7.1.2 in /usr/local/lib/python3.12/dist-packages (from torch>=2.0.0->torchmetrics) (11.7.1.2)\n",
            "Requirement already satisfied: nvidia-cusparse-cu12==12.5.4.2 in /usr/local/lib/python3.12/dist-packages (from torch>=2.0.0->torchmetrics) (12.5.4.2)\n",
            "Requirement already satisfied: nvidia-cusparselt-cu12==0.7.1 in /usr/local/lib/python3.12/dist-packages (from torch>=2.0.0->torchmetrics) (0.7.1)\n",
            "Requirement already satisfied: nvidia-nccl-cu12==2.27.3 in /usr/local/lib/python3.12/dist-packages (from torch>=2.0.0->torchmetrics) (2.27.3)\n",
            "Requirement already satisfied: nvidia-nvtx-cu12==12.6.77 in /usr/local/lib/python3.12/dist-packages (from torch>=2.0.0->torchmetrics) (12.6.77)\n",
            "Requirement already satisfied: nvidia-nvjitlink-cu12==12.6.85 in /usr/local/lib/python3.12/dist-packages (from torch>=2.0.0->torchmetrics) (12.6.85)\n",
            "Requirement already satisfied: nvidia-cufile-cu12==1.11.1.6 in /usr/local/lib/python3.12/dist-packages (from torch>=2.0.0->torchmetrics) (1.11.1.6)\n",
            "Requirement already satisfied: triton==3.4.0 in /usr/local/lib/python3.12/dist-packages (from torch>=2.0.0->torchmetrics) (3.4.0)\n",
            "Requirement already satisfied: mpmath<1.4,>=1.1.0 in /usr/local/lib/python3.12/dist-packages (from sympy>=1.13.3->torch>=2.0.0->torchmetrics) (1.3.0)\n",
            "Requirement already satisfied: MarkupSafe>=2.0 in /usr/local/lib/python3.12/dist-packages (from jinja2->torch>=2.0.0->torchmetrics) (3.0.2)\n",
            "Downloading torchmetrics-1.8.2-py3-none-any.whl (983 kB)\n",
            "\u001b[2K   \u001b[90m━━━━━━━━━━━━━━━━━━━━━━━━━━━━━━━━━━━━━━━━\u001b[0m \u001b[32m983.2/983.2 kB\u001b[0m \u001b[31m44.3 MB/s\u001b[0m eta \u001b[36m0:00:00\u001b[0m\n",
            "\u001b[?25hDownloading lightning_utilities-0.15.2-py3-none-any.whl (29 kB)\n",
            "Installing collected packages: lightning-utilities, torchmetrics\n",
            "Successfully installed lightning-utilities-0.15.2 torchmetrics-1.8.2\n",
            "Collecting neurobench\n",
            "  Downloading neurobench-2.1.0-py3-none-any.whl.metadata (9.5 kB)\n",
            "Requirement already satisfied: llvmlite>=0.40.1 in /usr/local/lib/python3.12/dist-packages (from neurobench) (0.43.0)\n",
            "Requirement already satisfied: numba>=0.57.1 in /usr/local/lib/python3.12/dist-packages (from neurobench) (0.60.0)\n",
            "Requirement already satisfied: numpy>=1.25.0 in /usr/local/lib/python3.12/dist-packages (from neurobench) (1.26.4)\n",
            "Collecting snntorch>=0.7.0 (from neurobench)\n",
            "  Downloading snntorch-0.9.4-py2.py3-none-any.whl.metadata (15 kB)\n",
            "Requirement already satisfied: tonic<2.0.0,>=1.4.0 in /usr/local/lib/python3.12/dist-packages (from neurobench) (1.6.0)\n",
            "Requirement already satisfied: torch>=2.0.1 in /usr/local/lib/python3.12/dist-packages (from neurobench) (2.8.0+cu126)\n",
            "Requirement already satisfied: torchaudio>=2.0.2 in /usr/local/lib/python3.12/dist-packages (from neurobench) (2.8.0+cu126)\n",
            "Requirement already satisfied: tqdm<5.0.0,>=4.63.3 in /usr/local/lib/python3.12/dist-packages (from neurobench) (4.67.1)\n",
            "Requirement already satisfied: h5py in /usr/local/lib/python3.12/dist-packages (from tonic<2.0.0,>=1.4.0->neurobench) (3.14.0)\n",
            "Requirement already satisfied: importRosbag>=1.0.4 in /usr/local/lib/python3.12/dist-packages (from tonic<2.0.0,>=1.4.0->neurobench) (1.0.4)\n",
            "Requirement already satisfied: scipy in /usr/local/lib/python3.12/dist-packages (from tonic<2.0.0,>=1.4.0->neurobench) (1.16.1)\n",
            "Requirement already satisfied: typing-extensions in /usr/local/lib/python3.12/dist-packages (from tonic<2.0.0,>=1.4.0->neurobench) (4.15.0)\n",
            "Requirement already satisfied: librosa in /usr/local/lib/python3.12/dist-packages (from tonic<2.0.0,>=1.4.0->neurobench) (0.11.0)\n",
            "Requirement already satisfied: pbr in /usr/local/lib/python3.12/dist-packages (from tonic<2.0.0,>=1.4.0->neurobench) (7.0.1)\n",
            "Requirement already satisfied: expelliarmus in /usr/local/lib/python3.12/dist-packages (from tonic<2.0.0,>=1.4.0->neurobench) (1.1.12)\n",
            "Requirement already satisfied: filelock in /usr/local/lib/python3.12/dist-packages (from torch>=2.0.1->neurobench) (3.19.1)\n",
            "Requirement already satisfied: setuptools in /usr/local/lib/python3.12/dist-packages (from torch>=2.0.1->neurobench) (75.2.0)\n",
            "Requirement already satisfied: sympy>=1.13.3 in /usr/local/lib/python3.12/dist-packages (from torch>=2.0.1->neurobench) (1.13.3)\n",
            "Requirement already satisfied: networkx in /usr/local/lib/python3.12/dist-packages (from torch>=2.0.1->neurobench) (3.5)\n",
            "Requirement already satisfied: jinja2 in /usr/local/lib/python3.12/dist-packages (from torch>=2.0.1->neurobench) (3.1.6)\n",
            "Requirement already satisfied: fsspec in /usr/local/lib/python3.12/dist-packages (from torch>=2.0.1->neurobench) (2025.3.0)\n",
            "Requirement already satisfied: nvidia-cuda-nvrtc-cu12==12.6.77 in /usr/local/lib/python3.12/dist-packages (from torch>=2.0.1->neurobench) (12.6.77)\n",
            "Requirement already satisfied: nvidia-cuda-runtime-cu12==12.6.77 in /usr/local/lib/python3.12/dist-packages (from torch>=2.0.1->neurobench) (12.6.77)\n",
            "Requirement already satisfied: nvidia-cuda-cupti-cu12==12.6.80 in /usr/local/lib/python3.12/dist-packages (from torch>=2.0.1->neurobench) (12.6.80)\n",
            "Requirement already satisfied: nvidia-cudnn-cu12==9.10.2.21 in /usr/local/lib/python3.12/dist-packages (from torch>=2.0.1->neurobench) (9.10.2.21)\n",
            "Requirement already satisfied: nvidia-cublas-cu12==12.6.4.1 in /usr/local/lib/python3.12/dist-packages (from torch>=2.0.1->neurobench) (12.6.4.1)\n",
            "Requirement already satisfied: nvidia-cufft-cu12==11.3.0.4 in /usr/local/lib/python3.12/dist-packages (from torch>=2.0.1->neurobench) (11.3.0.4)\n",
            "Requirement already satisfied: nvidia-curand-cu12==10.3.7.77 in /usr/local/lib/python3.12/dist-packages (from torch>=2.0.1->neurobench) (10.3.7.77)\n",
            "Requirement already satisfied: nvidia-cusolver-cu12==11.7.1.2 in /usr/local/lib/python3.12/dist-packages (from torch>=2.0.1->neurobench) (11.7.1.2)\n",
            "Requirement already satisfied: nvidia-cusparse-cu12==12.5.4.2 in /usr/local/lib/python3.12/dist-packages (from torch>=2.0.1->neurobench) (12.5.4.2)\n",
            "Requirement already satisfied: nvidia-cusparselt-cu12==0.7.1 in /usr/local/lib/python3.12/dist-packages (from torch>=2.0.1->neurobench) (0.7.1)\n",
            "Requirement already satisfied: nvidia-nccl-cu12==2.27.3 in /usr/local/lib/python3.12/dist-packages (from torch>=2.0.1->neurobench) (2.27.3)\n",
            "Requirement already satisfied: nvidia-nvtx-cu12==12.6.77 in /usr/local/lib/python3.12/dist-packages (from torch>=2.0.1->neurobench) (12.6.77)\n",
            "Requirement already satisfied: nvidia-nvjitlink-cu12==12.6.85 in /usr/local/lib/python3.12/dist-packages (from torch>=2.0.1->neurobench) (12.6.85)\n",
            "Requirement already satisfied: nvidia-cufile-cu12==1.11.1.6 in /usr/local/lib/python3.12/dist-packages (from torch>=2.0.1->neurobench) (1.11.1.6)\n",
            "Requirement already satisfied: triton==3.4.0 in /usr/local/lib/python3.12/dist-packages (from torch>=2.0.1->neurobench) (3.4.0)\n",
            "Requirement already satisfied: mpmath<1.4,>=1.1.0 in /usr/local/lib/python3.12/dist-packages (from sympy>=1.13.3->torch>=2.0.1->neurobench) (1.3.0)\n",
            "Requirement already satisfied: MarkupSafe>=2.0 in /usr/local/lib/python3.12/dist-packages (from jinja2->torch>=2.0.1->neurobench) (3.0.2)\n",
            "Requirement already satisfied: audioread>=2.1.9 in /usr/local/lib/python3.12/dist-packages (from librosa->tonic<2.0.0,>=1.4.0->neurobench) (3.0.1)\n",
            "Requirement already satisfied: scikit-learn>=1.1.0 in /usr/local/lib/python3.12/dist-packages (from librosa->tonic<2.0.0,>=1.4.0->neurobench) (1.6.1)\n",
            "Requirement already satisfied: joblib>=1.0 in /usr/local/lib/python3.12/dist-packages (from librosa->tonic<2.0.0,>=1.4.0->neurobench) (1.5.2)\n",
            "Requirement already satisfied: decorator>=4.3.0 in /usr/local/lib/python3.12/dist-packages (from librosa->tonic<2.0.0,>=1.4.0->neurobench) (4.4.2)\n",
            "Requirement already satisfied: soundfile>=0.12.1 in /usr/local/lib/python3.12/dist-packages (from librosa->tonic<2.0.0,>=1.4.0->neurobench) (0.13.1)\n",
            "Requirement already satisfied: pooch>=1.1 in /usr/local/lib/python3.12/dist-packages (from librosa->tonic<2.0.0,>=1.4.0->neurobench) (1.8.2)\n",
            "Requirement already satisfied: soxr>=0.3.2 in /usr/local/lib/python3.12/dist-packages (from librosa->tonic<2.0.0,>=1.4.0->neurobench) (0.5.0.post1)\n",
            "Requirement already satisfied: lazy_loader>=0.1 in /usr/local/lib/python3.12/dist-packages (from librosa->tonic<2.0.0,>=1.4.0->neurobench) (0.4)\n",
            "Requirement already satisfied: msgpack>=1.0 in /usr/local/lib/python3.12/dist-packages (from librosa->tonic<2.0.0,>=1.4.0->neurobench) (1.1.1)\n",
            "Requirement already satisfied: packaging in /usr/local/lib/python3.12/dist-packages (from lazy_loader>=0.1->librosa->tonic<2.0.0,>=1.4.0->neurobench) (25.0)\n",
            "Requirement already satisfied: platformdirs>=2.5.0 in /usr/local/lib/python3.12/dist-packages (from pooch>=1.1->librosa->tonic<2.0.0,>=1.4.0->neurobench) (4.4.0)\n",
            "Requirement already satisfied: requests>=2.19.0 in /usr/local/lib/python3.12/dist-packages (from pooch>=1.1->librosa->tonic<2.0.0,>=1.4.0->neurobench) (2.32.4)\n",
            "Requirement already satisfied: threadpoolctl>=3.1.0 in /usr/local/lib/python3.12/dist-packages (from scikit-learn>=1.1.0->librosa->tonic<2.0.0,>=1.4.0->neurobench) (3.6.0)\n",
            "Requirement already satisfied: cffi>=1.0 in /usr/local/lib/python3.12/dist-packages (from soundfile>=0.12.1->librosa->tonic<2.0.0,>=1.4.0->neurobench) (1.17.1)\n",
            "Requirement already satisfied: pycparser in /usr/local/lib/python3.12/dist-packages (from cffi>=1.0->soundfile>=0.12.1->librosa->tonic<2.0.0,>=1.4.0->neurobench) (2.22)\n",
            "Requirement already satisfied: charset_normalizer<4,>=2 in /usr/local/lib/python3.12/dist-packages (from requests>=2.19.0->pooch>=1.1->librosa->tonic<2.0.0,>=1.4.0->neurobench) (3.4.3)\n",
            "Requirement already satisfied: idna<4,>=2.5 in /usr/local/lib/python3.12/dist-packages (from requests>=2.19.0->pooch>=1.1->librosa->tonic<2.0.0,>=1.4.0->neurobench) (3.10)\n",
            "Requirement already satisfied: urllib3<3,>=1.21.1 in /usr/local/lib/python3.12/dist-packages (from requests>=2.19.0->pooch>=1.1->librosa->tonic<2.0.0,>=1.4.0->neurobench) (2.5.0)\n",
            "Requirement already satisfied: certifi>=2017.4.17 in /usr/local/lib/python3.12/dist-packages (from requests>=2.19.0->pooch>=1.1->librosa->tonic<2.0.0,>=1.4.0->neurobench) (2025.8.3)\n",
            "Downloading neurobench-2.1.0-py3-none-any.whl (72 kB)\n",
            "\u001b[2K   \u001b[90m━━━━━━━━━━━━━━━━━━━━━━━━━━━━━━━━━━━━━━━━\u001b[0m \u001b[32m73.0/73.0 kB\u001b[0m \u001b[31m7.6 MB/s\u001b[0m eta \u001b[36m0:00:00\u001b[0m\n",
            "\u001b[?25hDownloading snntorch-0.9.4-py2.py3-none-any.whl (125 kB)\n",
            "\u001b[2K   \u001b[90m━━━━━━━━━━━━━━━━━━━━━━━━━━━━━━━━━━━━━━━━\u001b[0m \u001b[32m125.6/125.6 kB\u001b[0m \u001b[31m12.7 MB/s\u001b[0m eta \u001b[36m0:00:00\u001b[0m\n",
            "\u001b[?25hInstalling collected packages: snntorch, neurobench\n",
            "Successfully installed neurobench-2.1.0 snntorch-0.9.4\n",
            "Requirement already satisfied: snntorch in /usr/local/lib/python3.12/dist-packages (0.9.4)\n",
            "Requirement already satisfied: pandas in /usr/local/lib/python3.12/dist-packages (2.2.2)\n",
            "Requirement already satisfied: numpy>=1.26.0 in /usr/local/lib/python3.12/dist-packages (from pandas) (1.26.4)\n",
            "Requirement already satisfied: python-dateutil>=2.8.2 in /usr/local/lib/python3.12/dist-packages (from pandas) (2.9.0.post0)\n",
            "Requirement already satisfied: pytz>=2020.1 in /usr/local/lib/python3.12/dist-packages (from pandas) (2025.2)\n",
            "Requirement already satisfied: tzdata>=2022.7 in /usr/local/lib/python3.12/dist-packages (from pandas) (2025.2)\n",
            "Requirement already satisfied: six>=1.5 in /usr/local/lib/python3.12/dist-packages (from python-dateutil>=2.8.2->pandas) (1.17.0)\n",
            "Requirement already satisfied: numpy in /usr/local/lib/python3.12/dist-packages (1.26.4)\n",
            "Collecting numpy\n",
            "  Downloading numpy-2.3.2-cp312-cp312-manylinux_2_27_x86_64.manylinux_2_28_x86_64.whl.metadata (62 kB)\n",
            "\u001b[2K     \u001b[90m━━━━━━━━━━━━━━━━━━━━━━━━━━━━━━━━━━━━━━━━\u001b[0m \u001b[32m62.1/62.1 kB\u001b[0m \u001b[31m5.3 MB/s\u001b[0m eta \u001b[36m0:00:00\u001b[0m\n",
            "\u001b[?25hDownloading numpy-2.3.2-cp312-cp312-manylinux_2_27_x86_64.manylinux_2_28_x86_64.whl (16.6 MB)\n",
            "\u001b[2K   \u001b[90m━━━━━━━━━━━━━━━━━━━━━━━━━━━━━━━━━━━━━━━━\u001b[0m \u001b[32m16.6/16.6 MB\u001b[0m \u001b[31m118.6 MB/s\u001b[0m eta \u001b[36m0:00:00\u001b[0m\n",
            "\u001b[?25hInstalling collected packages: numpy\n",
            "  Attempting uninstall: numpy\n",
            "    Found existing installation: numpy 1.26.4\n",
            "    Uninstalling numpy-1.26.4:\n",
            "      Successfully uninstalled numpy-1.26.4\n",
            "\u001b[31mERROR: pip's dependency resolver does not currently take into account all the packages that are installed. This behaviour is the source of the following dependency conflicts.\n",
            "tonic 1.6.0 requires numpy<2.0.0, but you have numpy 2.3.2 which is incompatible.\n",
            "tensorflow 2.19.0 requires numpy<2.2.0,>=1.26.0, but you have numpy 2.3.2 which is incompatible.\n",
            "numba 0.60.0 requires numpy<2.1,>=1.22, but you have numpy 2.3.2 which is incompatible.\n",
            "opencv-python-headless 4.12.0.88 requires numpy<2.3.0,>=2; python_version >= \"3.9\", but you have numpy 2.3.2 which is incompatible.\n",
            "cupy-cuda12x 13.3.0 requires numpy<2.3,>=1.22, but you have numpy 2.3.2 which is incompatible.\n",
            "opencv-contrib-python 4.12.0.88 requires numpy<2.3.0,>=2; python_version >= \"3.9\", but you have numpy 2.3.2 which is incompatible.\n",
            "opencv-python 4.12.0.88 requires numpy<2.3.0,>=2; python_version >= \"3.9\", but you have numpy 2.3.2 which is incompatible.\u001b[0m\u001b[31m\n",
            "\u001b[0mSuccessfully installed numpy-2.3.2\n"
          ]
        },
        {
          "data": {
            "application/vnd.colab-display-data+json": {
              "id": "ebe106fa5ede46549bd97fa961578cf7",
              "pip_warning": {
                "packages": [
                  "numpy"
                ]
              }
            }
          },
          "metadata": {},
          "output_type": "display_data"
        }
      ],
      "source": [
        "!pip install tonic\n",
        "!pip install sinabs\n",
        "!pip install torchmetrics\n",
        "!pip install neurobench\n",
        "!pip install snntorch\n",
        "!pip install pandas\n",
        "!pip install numpy --upgrade # make sure you have the last version of numpy, this could require to restart the session on Google Colab\n"
      ]
    },
    {
      "cell_type": "markdown",
      "id": "d1cb8fa3",
      "metadata": {
        "id": "d1cb8fa3"
      },
      "source": [
        "# Import packages"
      ]
    },
    {
      "cell_type": "code",
      "execution_count": 1,
      "id": "TkiuutyRP1ip",
      "metadata": {
        "id": "TkiuutyRP1ip"
      },
      "outputs": [],
      "source": [
        "import numpy as np\n",
        "import torch\n",
        "import torch.nn as nn\n",
        "import torchmetrics\n",
        "import os\n",
        "import sinabs\n",
        "import sinabs.layers as sl\n",
        "from tqdm import tqdm\n",
        "\n",
        "from sinabs.hooks import register_synops_hooks"
      ]
    },
    {
      "cell_type": "markdown",
      "id": "a22efef5",
      "metadata": {
        "id": "a22efef5"
      },
      "source": [
        "# Device setting\n",
        "\n",
        "Set the availble device to train the model"
      ]
    },
    {
      "cell_type": "code",
      "execution_count": 2,
      "id": "mGg8pEeXL48l",
      "metadata": {
        "colab": {
          "base_uri": "https://localhost:8080/"
        },
        "id": "mGg8pEeXL48l",
        "outputId": "60231c2c-6de7-4239-b370-92293e08fe5a"
      },
      "outputs": [
        {
          "name": "stdout",
          "output_type": "stream",
          "text": [
            "Using CUDA GPU\n"
          ]
        }
      ],
      "source": [
        "if torch.backends.mps.is_available():\n",
        "    device = torch.device(\"mps\")\n",
        "    print(\"Using MPS (Apple Silicon GPU)\")\n",
        "elif torch.cuda.is_available():\n",
        "    device = torch.device(\"cuda\")\n",
        "    print(\"Using CUDA GPU\")\n",
        "    torch.backends.cudnn.benchmark = True\n",
        "else:\n",
        "    device = torch.device(\"cpu\")\n",
        "    print(\"Using CPU\")"
      ]
    },
    {
      "cell_type": "markdown",
      "id": "EYf13Gtx1OCj",
      "metadata": {
        "id": "EYf13Gtx1OCj"
      },
      "source": [
        "# Dataset Definition"
      ]
    },
    {
      "cell_type": "markdown",
      "id": "bfbfb5c7",
      "metadata": {
        "id": "bfbfb5c7"
      },
      "source": [
        "We will use a simple dataset, the **neuromorphic N-MNIST** for demonstration purposes.\n",
        "\n",
        "From https://www.garrickorchard.com/datasets/n-mnist:\n",
        "\n",
        "> The Neuromorphic-MNIST (N-MNIST) dataset is a spiking version of the original frame-based MNIST dataset. It consists of the same 60 000 training and 10 000 testing samples as the original MNIST dataset, and is captured at the same visual scale as the original MNIST dataset (28x28 pixels). The N-MNIST dataset was captured by mounting the ATIS sensor on a motorized pan-tilt unit and having the sensor move while it views MNIST examples on an LCD monitor\n",
        "\n",
        "We will get the data using the **tonic** library, which automatically handles the download ands extraction in case it does not exists.\n",
        "\n",
        "From https://tonic.readthedocs.io/en/latest/index.html:\n",
        "\n",
        "> Tonic provides publicly available event-based vision and audio datasets and event transformations. The package is fully compatible with PyTorch Vision / Audio to give you the flexibility that you need.\n",
        "\n",
        "![mnistgif](images/nmnist.gif)"
      ]
    },
    {
      "cell_type": "code",
      "execution_count": 19,
      "id": "ZU72n-SQVb4Q",
      "metadata": {
        "id": "ZU72n-SQVb4Q"
      },
      "outputs": [],
      "source": [
        "from tonic import datasets, transforms\n",
        "\n",
        "def get_data_loaders(batch_size):\n",
        "\n",
        "    transform = transforms.Compose([\n",
        "        transforms.ToFrame(sensor_size=(34, 34, 2), n_time_bins=30, include_incomplete=True),  # Go from list of events to sparse frames\n",
        "        lambda x: torch.from_numpy(x.astype(np.float32)),  # just to go from int to float, for compatibility with pytorch\n",
        "    ])\n",
        "\n",
        "    trainset = datasets.NMNIST('./data', train=True, transform=transform)\n",
        "    testset = datasets.NMNIST('./data', train=False, transform=transform)\n",
        "\n",
        "    trainloader = torch.utils.data.DataLoader(\n",
        "        trainset, batch_size=batch_size, shuffle=True, num_workers=0,\n",
        "        drop_last=True, pin_memory=True\n",
        "    )\n",
        "    testloader = torch.utils.data.DataLoader(\n",
        "        testset, batch_size=batch_size, num_workers=0,\n",
        "        drop_last=True, pin_memory=True\n",
        "    )\n",
        "\n",
        "    return trainloader, testloader"
      ]
    },
    {
      "cell_type": "markdown",
      "id": "52de0646",
      "metadata": {
        "id": "52de0646"
      },
      "source": [
        "# Examine data\n",
        "\n",
        "Lets get one single data point and plot the first frame (which will not show much), and the addition of 10 frames"
      ]
    },
    {
      "cell_type": "code",
      "execution_count": 4,
      "id": "cef735a4",
      "metadata": {
        "colab": {
          "base_uri": "https://localhost:8080/",
          "height": 1000,
          "referenced_widgets": [
            "6806d9007eab4297a5ca0f5db09b5857",
            "288cbd699d1749e6b6788a73338fce0d",
            "85332e0467084737a304b968f353ac08",
            "2d212e6a2be94b0aa0fcbb756c691681",
            "2ec3e8cdfb9c4cbeaf3a99f0f94e4372",
            "5c4da0d4b1ab49f4bb649124cbd45bc8",
            "b88365df2bdc4a3ea5ea562c1f26fe15",
            "f6fdcbb4a1954fb987262cb799812af6",
            "6f00c841b52a494d89aa7a96a6339cb1",
            "f9027c8f75b9421aac5241fdaa91fe8c",
            "6f385af352794589a7e262d56d7501a5",
            "4de212ba387b485caa8a4a0abcba2426",
            "abe2dd38d4a54da8a004525dc1547867",
            "4befd905ff774f9787f52e635d2f830c",
            "a702013751f64a689b54ea6fd888d385",
            "60ba4439459341c0b87e0601bd7c2c63",
            "50729feb71e74830b74158c60d6807c0",
            "46b337477a20433dab2d44994d674387",
            "ab1e2bd3bbb748b59cf9fab5f6785057",
            "aff57636cbc544c18cded3661fe676b2",
            "775f829d922b4fb28787099a11b999c0",
            "cffddda8b76048be9174e204ba9ed799"
          ]
        },
        "id": "cef735a4",
        "outputId": "cc407028-6cf8-4444-98a7-19003fec13dd"
      },
      "outputs": [
        {
          "name": "stdout",
          "output_type": "stream",
          "text": [
            "Downloading https://prod-dcd-datasets-public-files-eu-west-1.s3.eu-west-1.amazonaws.com/1afc103f-8799-464a-a214-81bb9b1f9337 to ./data/NMNIST/train.zip\n"
          ]
        },
        {
          "data": {
            "application/vnd.jupyter.widget-view+json": {
              "model_id": "6806d9007eab4297a5ca0f5db09b5857",
              "version_major": 2,
              "version_minor": 0
            },
            "text/plain": [
              "  0%|          | 0/1011893601 [00:00<?, ?it/s]"
            ]
          },
          "metadata": {},
          "output_type": "display_data"
        },
        {
          "name": "stdout",
          "output_type": "stream",
          "text": [
            "Extracting ./data/NMNIST/train.zip to ./data/NMNIST\n",
            "Downloading https://prod-dcd-datasets-public-files-eu-west-1.s3.eu-west-1.amazonaws.com/a99d0fee-a95b-4231-ad22-988fdb0a2411 to ./data/NMNIST/test.zip\n"
          ]
        },
        {
          "data": {
            "application/vnd.jupyter.widget-view+json": {
              "model_id": "4de212ba387b485caa8a4a0abcba2426",
              "version_major": 2,
              "version_minor": 0
            },
            "text/plain": [
              "  0%|          | 0/169674850 [00:00<?, ?it/s]"
            ]
          },
          "metadata": {},
          "output_type": "display_data"
        },
        {
          "name": "stdout",
          "output_type": "stream",
          "text": [
            "Extracting ./data/NMNIST/test.zip to ./data/NMNIST\n",
            "torch.Size([1, 30, 2, 34, 34])\n"
          ]
        },
        {
          "data": {
            "text/plain": [
              "<matplotlib.image.AxesImage at 0x7c3b14716ba0>"
            ]
          },
          "execution_count": 4,
          "metadata": {},
          "output_type": "execute_result"
        },
        {
          "data": {
            "image/png": "[encoded data removed]",
            "text/plain": [
              "<Figure size 640x480 with 1 Axes>"
            ]
          },
          "metadata": {},
          "output_type": "display_data"
        },
        {
          "data": {
            "image/png": "[encoded data removed]",
            "text/plain": [
              "<Figure size 640x480 with 1 Axes>"
            ]
          },
          "metadata": {},
          "output_type": "display_data"
        }
      ],
      "source": [
        "import matplotlib.pyplot as plt\n",
        "tl, _ = get_data_loaders(1)\n",
        "data, _ = next(iter(tl))\n",
        "print(data.shape)\n",
        "data = data[0] # remove batch dimension\n",
        "plt.imshow(data[0, 0])  # one single frame, that can be used for SNN (as it has state)\n",
        "plt.figure()\n",
        "plt.imshow(data[:10, 0].sum(0)) # fist 10 frames added, for instance for a stateless ANN (normal convs)"
      ]
    },
    {
      "cell_type": "markdown",
      "id": "150d99af",
      "metadata": {
        "id": "150d99af"
      },
      "source": [
        "# Model definition\n",
        "\n",
        "Define a SNN model made of convolutional layers and **LIF** neurons.\n",
        "As the task is relatively simple, and we want to keep training times reasonable for demonstration purposes, the model is simple as well.\n",
        "\n",
        "Some considerations (this is very specific to Speck and probably not worth spending too much time on it):\n",
        " - **biases** are set to False to avoid running at fixed frequency on the chip: https://sinabs.readthedocs.io/v3.0.3/speck/notebooks/leak_neuron.html\n",
        " - The dimensions of our data are 5: **[batch, time, channels, height, width]**. Due to how speck works, the time needs to be flattened. This is because all the time steps are feed all at once instead of one by one. This means the first two dimensions (batch_size and time) are flattened together. In other words, the time dimension is treated as part of the batch size. This is done with the **FlattenTime()** class. The conv layers do not care about time, but the **IAF** layers do. That is why we use the **IAFSqueeze** version, that internally **unflattens** the time dimension and runs it one by one."
      ]
    },
    {
      "cell_type": "code",
      "execution_count": 5,
      "id": "WL487gZW1Agy",
      "metadata": {
        "id": "WL487gZW1Agy"
      },
      "outputs": [],
      "source": [
        "def create_model(batch_size):\n",
        "\n",
        "    backend = sl\n",
        "    min_v_mem = -1.  # cap the mem potential. Helpful when running on chip, to avoid quantization issues.\n",
        "\n",
        "    model = nn.Sequential(\n",
        "        sl.FlattenTime(),  # required by speck. Make the 5D input 4D, by treating the time as part of the batch size\n",
        "\n",
        "        nn.Conv2d(2, 8, kernel_size=3, stride=2, padding=1, bias=False),\n",
        "        backend.IAFSqueeze(batch_size=batch_size, min_v_mem=min_v_mem), # Actual spiking layer.\n",
        "\n",
        "        nn.Conv2d(8, 16, kernel_size=3, stride=2, padding=1, bias=False),\n",
        "        backend.IAFSqueeze(batch_size=batch_size, min_v_mem=min_v_mem),\n",
        "\n",
        "        nn.Conv2d(16, 32, kernel_size=3, stride=2, padding=1, bias=False),\n",
        "        backend.IAFSqueeze(batch_size=batch_size, min_v_mem=min_v_mem),\n",
        "\n",
        "        nn.Conv2d(32, 64, kernel_size=3, stride=2, padding=1, bias=False),\n",
        "        backend.IAFSqueeze(batch_size=batch_size, min_v_mem=min_v_mem),\n",
        "\n",
        "        nn.Conv2d(64, 10, kernel_size=3, stride=1, padding=0, bias=False),\n",
        "        backend.IAFSqueeze(batch_size=batch_size, min_v_mem=min_v_mem),\n",
        "\n",
        "        nn.Flatten(),\n",
        "        sl.UnflattenTime(batch_size=batch_size),\n",
        "    )\n",
        "    return model\n"
      ]
    },
    {
      "cell_type": "markdown",
      "id": "f628d666",
      "metadata": {},
      "source": [
        "# ML workflow\n",
        "\n",
        "![mlworkflow](images/ML-workflow.png)"
      ]
    },
    {
      "cell_type": "markdown",
      "id": "ac146dba",
      "metadata": {
        "id": "ac146dba"
      },
      "source": [
        "# Evaluation\n",
        "\n",
        "The following helper function just evaluates the model on a test set, using **cross entropy** between the prediction and the target"
      ]
    },
    {
      "cell_type": "code",
      "execution_count": 6,
      "id": "E6gC5ivtVm_E",
      "metadata": {
        "id": "E6gC5ivtVm_E"
      },
      "outputs": [],
      "source": [
        "def evaluate_model(model, testloader, device):\n",
        "\n",
        "    acc = torchmetrics.Accuracy('multiclass', num_classes=10).to(device)\n",
        "    model.eval()\n",
        "\n",
        "    total_loss = 0\n",
        "    num_batches = 0\n",
        "\n",
        "    with torch.no_grad():\n",
        "        for data, targets in tqdm(testloader, desc=\"Evaluating\"):\n",
        "            data, targets = data.to(device, non_blocking=True), targets.to(device, non_blocking=True)\n",
        "            sinabs.reset_states(model)\n",
        "\n",
        "            y_hat = model(data)\n",
        "            pred = y_hat.sum(1)\n",
        "            loss = nn.functional.cross_entropy(pred, targets)\n",
        "\n",
        "            acc(pred, targets)\n",
        "            total_loss += loss.item()\n",
        "            num_batches += 1\n",
        "\n",
        "    accuracy = acc.compute().item()\n",
        "    avg_loss = total_loss / num_batches\n",
        "\n",
        "    return accuracy, avg_loss"
      ]
    },
    {
      "cell_type": "markdown",
      "id": "d8af55d1",
      "metadata": {
        "id": "d8af55d1"
      },
      "source": [
        "# Training Process with target synaptic operations\n",
        "\n",
        "One of the main drivers of model performance (accuracy and speed), is the activation sparsity.\n",
        "\n",
        "We control this with the **target_synops** parameter. This parameter is used together with the cross entropy between target and prediction, to calculate a loss that takes into account both accuracy and activity."
      ]
    },
    {
      "cell_type": "code",
      "execution_count": 7,
      "id": "3GdglZjK04cb",
      "metadata": {
        "id": "3GdglZjK04cb"
      },
      "outputs": [],
      "source": [
        "def train_and_evaluate(lr, batch_size, epochs, name, target_synops=False, max_iters=10000):\n",
        "\n",
        "    learning_rate = lr\n",
        "    batch_size = batch_size\n",
        "    n_epochs = epochs\n",
        "\n",
        "    acc = torchmetrics.Accuracy('multiclass', num_classes=10).to(device)\n",
        "\n",
        "    # Create model and move to device\n",
        "    model = create_model(batch_size)\n",
        "    model = model.to(device)\n",
        "\n",
        "    if target_synops:\n",
        "        # Register synops hooks\n",
        "        register_synops_hooks(model)\n",
        "\n",
        "    # Create data loaders\n",
        "    trainloader, testloader = get_data_loaders(batch_size)\n",
        "\n",
        "    # Create optimizer\n",
        "    optimizer = torch.optim.Adam(model.parameters(), lr=learning_rate)\n",
        "\n",
        "    best_loss = float('inf')  # Track best loss\n",
        "    best_acc = 0\n",
        "\n",
        "    for epoch in range(n_epochs):\n",
        "        model.train()\n",
        "\n",
        "        pbar = tqdm(trainloader, desc=f'Epoch {epoch+1}/{n_epochs}')\n",
        "\n",
        "        sinabs.reset_states(model)\n",
        "        sinabs.zero_grad(model)\n",
        "        optimizer.zero_grad()\n",
        "\n",
        "        iters = 0\n",
        "        for data, targets in pbar:\n",
        "\n",
        "            sinabs.reset_states(model)\n",
        "            optimizer.zero_grad()\n",
        "\n",
        "            data, targets = data.to(device, non_blocking=True), targets.to(device, non_blocking=True)\n",
        "            output = model(data).sum(1)\n",
        "\n",
        "            target_loss = nn.functional.cross_entropy(output, targets)\n",
        "            if target_synops:\n",
        "                synops = model.hook_data['total_synops_per_timestep']\n",
        "                synops_loss = ((synops - target_synops) / target_synops) ** 2\n",
        "                loss = 0.8 * target_loss + 0.2 * synops_loss\n",
        "            else:\n",
        "                loss = target_loss\n",
        "\n",
        "            accuracy = acc(output, targets)\n",
        "            loss.backward()\n",
        "            optimizer.step()\n",
        "\n",
        "            current_loss = loss.item()\n",
        "\n",
        "            # Update progress bar\n",
        "            pbar.set_postfix({\n",
        "                'train_loss': f'{current_loss:.4f}',\n",
        "                'train_acc': f'{accuracy.item():.2%}',\n",
        "            })\n",
        "            iters +=1\n",
        "            if iters > max_iters:\n",
        "                break\n",
        "\n",
        "        # Evaluate on test set\n",
        "        test_acc, test_loss = evaluate_model(model, testloader, device)\n",
        "\n",
        "        pbar.set_postfix({\n",
        "            'train_loss': f'{current_loss:.4f}',\n",
        "            'train_acc': f'{accuracy:.2%}',\n",
        "            'test_loss': f'{test_loss:.4f}',\n",
        "            'test_acc': f'{test_acc:.4f}',\n",
        "        })\n",
        "\n",
        "        # Save best model\n",
        "        if test_loss < best_loss:\n",
        "            best_loss = test_loss\n",
        "            best_acc = test_acc\n",
        "            os.makedirs('saved_models', exist_ok=True)\n",
        "            torch.save(model.cpu(), f'saved_models/{name}.pth')\n",
        "            print(f\"New best model saved with loss {best_loss:.4f} and {best_acc=}\")\n",
        "            model.to(device)\n",
        "\n",
        "    print(\"\\nTraining complete.\")\n",
        "    print(f\"Final accuracy: {best_acc:.2%}\")\n",
        "    print(f\"Final loss: {best_loss:.4f}\")\n",
        "\n",
        "    return {\"accuracy\": best_acc,\n",
        "            \"loss\": best_loss}"
      ]
    },
    {
      "cell_type": "markdown",
      "id": "17805d37",
      "metadata": {
        "id": "17805d37"
      },
      "source": [
        "### Train with no synops regulation\n",
        "\n",
        "Lets first train without any synops regulation, to get an idea of the number of synaptic operations in the model when it is unconstrained.\n",
        "\n",
        "**NOTE:** We are using only one epoch just for demo purposes. As the task is simple and the model is oversized for the task, one epoch is enough to get decent accuracy."
      ]
    },
    {
      "cell_type": "code",
      "execution_count": 8,
      "id": "8ipqtuRsgCmJ",
      "metadata": {
        "colab": {
          "base_uri": "https://localhost:8080/"
        },
        "id": "8ipqtuRsgCmJ",
        "outputId": "de1e56ce-449a-4582-b526-204732d40b87"
      },
      "outputs": [
        {
          "name": "stderr",
          "output_type": "stream",
          "text": [
            "Epoch 1/1: 100%|██████████| 1875/1875 [04:20<00:00,  7.20it/s, train_loss=0.2294, train_acc=96.88%]\n",
            "Evaluating: 100%|██████████| 312/312 [00:21<00:00, 14.20it/s]"
          ]
        },
        {
          "name": "stdout",
          "output_type": "stream",
          "text": [
            "New best model saved with loss 0.1074 and best_acc=0.9690504670143127\n",
            "\n",
            "Training complete.\n",
            "Final accuracy: 96.91%\n",
            "Final loss: 0.1074\n"
          ]
        },
        {
          "name": "stderr",
          "output_type": "stream",
          "text": [
            "\n"
          ]
        }
      ],
      "source": [
        "all_results: dict[dict] = {}\n",
        "\n",
        "lr = 1e-3\n",
        "batch_size = 32\n",
        "epochs = 1\n",
        "\n",
        "all_results['100'] = train_and_evaluate(lr, batch_size, epochs, '100', target_synops=False)\n"
      ]
    },
    {
      "cell_type": "markdown",
      "id": "e6e3db66",
      "metadata": {
        "id": "e6e3db66"
      },
      "source": [
        "# Model statistics on Simulation\n",
        "\n",
        "We can use sinabs **hooks** in order to collect data the synaptic operations performed when simulating. We define the following helper functions:"
      ]
    },
    {
      "cell_type": "code",
      "execution_count": 9,
      "id": "ZVWT8kCue6oQ",
      "metadata": {
        "id": "ZVWT8kCue6oQ"
      },
      "outputs": [],
      "source": [
        "import sinabs.layers as sl\n",
        "\n",
        "from sinabs.hooks import register_synops_hooks, firing_rate_hook, get_hook_data_dict\n",
        "\n",
        "def record_output_hook(module, input, output):\n",
        "    data = get_hook_data_dict(module)\n",
        "    data[\"output\"] = output\n",
        "\n",
        "def register_hooks(model):\n",
        "    register_synops_hooks(model)\n",
        "    for layer in model:\n",
        "        if isinstance(layer, sl.StatefulLayer) and layer.does_spike:\n",
        "            layer.register_forward_hook(firing_rate_hook)\n",
        "            layer.register_forward_hook(record_output_hook)\n",
        "\n",
        "def sinabs_total_syn_ops(model):\n",
        "\n",
        "    return model.hook_data['total_synops_per_timestep'].item()\n",
        "\n",
        "def sinabs_syn_ops_by_layer(model):\n",
        "\n",
        "    counts = [x.item() for x in model.hook_data['synops_per_timestep'].values()]\n",
        "    return counts\n",
        "\n",
        "def sinabs_firing_rate_by_layer(model):\n",
        "\n",
        "    rates = []\n",
        "    for layer in model:\n",
        "        if isinstance(layer, sl.StatefulLayer) and layer.does_spike:\n",
        "            rates.append(layer.hook_data['firing_rate'].item())\n",
        "\n",
        "    return rates\n",
        "\n",
        "def activation_sparsity(model):\n",
        "    total_spike_num = 0  # Count of non-zero activations\n",
        "    total_neuro_num = 0  # Count of all activations\n",
        "\n",
        "    sparsity_by_layer = []\n",
        "\n",
        "    for layer in model:\n",
        "            if isinstance(layer, sl.StatefulLayer) and layer.does_spike:\n",
        "                total_spike_num += layer.hook_data['output'].gt(0).sum().item()\n",
        "                total_neuro_num += layer.hook_data['output'].numel()\n",
        "\n",
        "                sparsity_by_layer.append((layer.hook_data['output'].numel() - layer.hook_data['output'].gt(0).sum().item())/layer.hook_data['output'].numel())\n",
        "\n",
        "    sparsity = (total_neuro_num - total_spike_num) / total_neuro_num\n",
        "    return sparsity, sparsity_by_layer\n",
        "\n",
        "def run_and_get_statistics(model_path):\n",
        "\n",
        "    _, testloader = get_data_loaders(32)\n",
        "     # Load model\n",
        "    model = torch.load(model_path, weights_only=False)\n",
        "    model = model.to(device)\n",
        "    register_hooks(model)\n",
        "\n",
        "    # Initialize accumulators\n",
        "    total_syn_ops = 0\n",
        "    total_samples = 0\n",
        "    synops_by_layer_accum = None\n",
        "    firing_rate_by_layer_accum = None\n",
        "    total_act_sparsity = 0\n",
        "    act_sparsity_by_layer_accum = None\n",
        "\n",
        "    # Loop through entire dataset\n",
        "    for batch, _ in testloader:\n",
        "        batch = batch.to(device)  # Send to device\n",
        "        sinabs.reset_states(model)\n",
        "\n",
        "        # Forward pass\n",
        "        model(batch)\n",
        "\n",
        "        # Collect metrics\n",
        "        synops = sinabs_total_syn_ops(model)\n",
        "        synops_by_layer = sinabs_syn_ops_by_layer(model)\n",
        "        firing_rate_by_layer = sinabs_firing_rate_by_layer(model)\n",
        "        act_sparsity, act_sparsity_by_layer = activation_sparsity(model)\n",
        "\n",
        "        # Aggregate metrics\n",
        "        batch_size = batch.size(0)\n",
        "        total_syn_ops += synops * batch_size\n",
        "        total_act_sparsity += act_sparsity * batch_size\n",
        "        total_samples += batch_size\n",
        "\n",
        "        if synops_by_layer_accum is None:\n",
        "            synops_by_layer_accum = [v * batch_size for v in synops_by_layer]\n",
        "            firing_rate_by_layer_accum = [v * batch_size for v in firing_rate_by_layer]\n",
        "            act_sparsity_by_layer_accum = [v * batch_size for v in act_sparsity_by_layer]\n",
        "        else:\n",
        "            for i in range(len(synops_by_layer_accum)):\n",
        "                synops_by_layer_accum[i] += synops_by_layer[i] * batch_size\n",
        "                firing_rate_by_layer_accum[i] += firing_rate_by_layer[i] * batch_size\n",
        "                act_sparsity_by_layer_accum[i] += act_sparsity_by_layer[i] * batch_size\n",
        "\n",
        "    # Compute averages\n",
        "    synops_by_layer_avg = [v / total_samples for v in synops_by_layer_accum]\n",
        "    firing_rate_by_layer_avg = [v / total_samples for v in firing_rate_by_layer_accum]\n",
        "    act_sparsity_by_layer_avg = [v / total_samples for v in act_sparsity_by_layer_accum]\n",
        "    total_act_sparsity_avg = total_act_sparsity / total_samples\n",
        "    total_syn_ops_avg = total_syn_ops / total_samples\n",
        "\n",
        "    return {\n",
        "        \"total_synops\": total_syn_ops_avg,\n",
        "        \"synops_per_layer\": synops_by_layer_avg,\n",
        "        \"fire_rate_per_layer\": firing_rate_by_layer_avg,\n",
        "        \"total_act_sparsity\": total_act_sparsity_avg,\n",
        "        \"act_sparsity_per_layer\": act_sparsity_by_layer_avg\n",
        "        }\n"
      ]
    },
    {
      "cell_type": "code",
      "execution_count": 10,
      "id": "ca159cd4",
      "metadata": {
        "id": "ca159cd4"
      },
      "outputs": [],
      "source": [
        "all_results['100'].update(run_and_get_statistics(\"./saved_models/100.pth\"))\n"
      ]
    },
    {
      "cell_type": "markdown",
      "id": "116c5179",
      "metadata": {
        "id": "116c5179"
      },
      "source": [
        "# Train models with target synaptic operations\n",
        "\n",
        "Now that we know what are the \"maximum\" synaptic operations, lets define other models with lower synops target"
      ]
    },
    {
      "cell_type": "code",
      "execution_count": 11,
      "id": "980169e8",
      "metadata": {
        "colab": {
          "base_uri": "https://localhost:8080/"
        },
        "id": "980169e8",
        "outputId": "162f4dc0-b106-4c51-9a41-5cb56a45158b"
      },
      "outputs": [
        {
          "name": "stdout",
          "output_type": "stream",
          "text": [
            "36806.962311573516\n"
          ]
        }
      ],
      "source": [
        "max_synops = all_results['100']['total_synops']\n",
        "print(max_synops)"
      ]
    },
    {
      "cell_type": "code",
      "execution_count": 12,
      "id": "76b64fec",
      "metadata": {
        "colab": {
          "base_uri": "https://localhost:8080/"
        },
        "id": "76b64fec",
        "outputId": "dffc2b69-ebb0-48a0-cad1-dd9f87aa1a77"
      },
      "outputs": [
        {
          "name": "stderr",
          "output_type": "stream",
          "text": [
            "Epoch 1/1: 100%|██████████| 1875/1875 [04:22<00:00,  7.15it/s, train_loss=0.1388, train_acc=96.88%]\n",
            "Evaluating: 100%|██████████| 312/312 [00:21<00:00, 14.29it/s]"
          ]
        },
        {
          "name": "stdout",
          "output_type": "stream",
          "text": [
            "New best model saved with loss 0.0904 and best_acc=0.9694511294364929\n",
            "\n",
            "Training complete.\n",
            "Final accuracy: 96.95%\n",
            "Final loss: 0.0904\n"
          ]
        },
        {
          "name": "stderr",
          "output_type": "stream",
          "text": [
            "\n"
          ]
        }
      ],
      "source": [
        "syn_to_keep = 0.7\n",
        "target_synops = int(max_synops*syn_to_keep)\n",
        "name = str(int(syn_to_keep*100))\n",
        "all_results[name] = train_and_evaluate(lr, batch_size, epochs, name, target_synops=target_synops)\n"
      ]
    },
    {
      "cell_type": "code",
      "execution_count": 13,
      "id": "ff778ef4",
      "metadata": {
        "colab": {
          "base_uri": "https://localhost:8080/"
        },
        "id": "ff778ef4",
        "outputId": "2d954850-382c-426a-842a-5162e5a9a040"
      },
      "outputs": [
        {
          "name": "stderr",
          "output_type": "stream",
          "text": [
            "Epoch 1/1: 100%|██████████| 1875/1875 [04:18<00:00,  7.26it/s, train_loss=0.0260, train_acc=100.00%]\n",
            "Evaluating: 100%|██████████| 312/312 [00:21<00:00, 14.82it/s]"
          ]
        },
        {
          "name": "stdout",
          "output_type": "stream",
          "text": [
            "New best model saved with loss 0.1188 and best_acc=0.9594351053237915\n",
            "\n",
            "Training complete.\n",
            "Final accuracy: 95.94%\n",
            "Final loss: 0.1188\n"
          ]
        },
        {
          "name": "stderr",
          "output_type": "stream",
          "text": [
            "\n"
          ]
        }
      ],
      "source": [
        "syn_to_keep = 0.5\n",
        "target_synops = int(max_synops*syn_to_keep)\n",
        "name = str(int(syn_to_keep*100))\n",
        "all_results[name] = train_and_evaluate(lr, batch_size, epochs, name, target_synops=target_synops)"
      ]
    },
    {
      "cell_type": "code",
      "execution_count": 14,
      "id": "9346fde9",
      "metadata": {
        "colab": {
          "base_uri": "https://localhost:8080/"
        },
        "id": "9346fde9",
        "outputId": "90d7c08d-ac03-4ab7-b319-31697924c1fb"
      },
      "outputs": [
        {
          "name": "stderr",
          "output_type": "stream",
          "text": [
            "Epoch 1/1: 100%|██████████| 1875/1875 [04:18<00:00,  7.26it/s, train_loss=0.2028, train_acc=96.88%]\n",
            "Evaluating: 100%|██████████| 312/312 [00:23<00:00, 13.18it/s]"
          ]
        },
        {
          "name": "stdout",
          "output_type": "stream",
          "text": [
            "New best model saved with loss 0.1200 and best_acc=0.9609375\n",
            "\n",
            "Training complete.\n",
            "Final accuracy: 96.09%\n",
            "Final loss: 0.1200\n"
          ]
        },
        {
          "name": "stderr",
          "output_type": "stream",
          "text": [
            "\n"
          ]
        }
      ],
      "source": [
        "syn_to_keep = 0.1\n",
        "target_synops = int(max_synops*syn_to_keep)\n",
        "name = str(int(syn_to_keep*100))\n",
        "all_results[name] = train_and_evaluate(lr, batch_size, epochs, name, target_synops=target_synops)"
      ]
    },
    {
      "cell_type": "code",
      "execution_count": 15,
      "id": "BZWXyHSqItbm",
      "metadata": {
        "colab": {
          "base_uri": "https://localhost:8080/"
        },
        "id": "BZWXyHSqItbm",
        "outputId": "c7b405a3-d1d1-4203-bcd2-59aa2c3c7adb"
      },
      "outputs": [
        {
          "name": "stderr",
          "output_type": "stream",
          "text": [
            "Epoch 1/1: 100%|██████████| 1875/1875 [04:17<00:00,  7.28it/s, train_loss=1.8508, train_acc=84.38%]\n",
            "Evaluating: 100%|██████████| 312/312 [00:21<00:00, 14.38it/s]"
          ]
        },
        {
          "name": "stdout",
          "output_type": "stream",
          "text": [
            "New best model saved with loss 0.5429 and best_acc=0.8186097741127014\n",
            "\n",
            "Training complete.\n",
            "Final accuracy: 81.86%\n",
            "Final loss: 0.5429\n"
          ]
        },
        {
          "name": "stderr",
          "output_type": "stream",
          "text": [
            "\n"
          ]
        }
      ],
      "source": [
        "syn_to_keep = 0.05\n",
        "target_synops = int(max_synops*syn_to_keep)\n",
        "name = str(int(syn_to_keep*100))\n",
        "all_results[name] = train_and_evaluate(lr, batch_size, epochs, name, target_synops=target_synops)"
      ]
    },
    {
      "cell_type": "code",
      "execution_count": 43,
      "id": "qYuZMmKiUicP",
      "metadata": {
        "colab": {
          "base_uri": "https://localhost:8080/"
        },
        "id": "qYuZMmKiUicP",
        "outputId": "c974c074-47c5-44f9-9cc3-9466eac91bc6"
      },
      "outputs": [
        {
          "name": "stderr",
          "output_type": "stream",
          "text": [
            "Epoch 1/1: 100%|██████████| 1875/1875 [04:20<00:00,  7.21it/s, train_loss=1.9102, train_acc=84.38%]\n",
            "Evaluating: 100%|██████████| 312/312 [00:22<00:00, 14.13it/s]\n"
          ]
        },
        {
          "name": "stdout",
          "output_type": "stream",
          "text": [
            "New best model saved with loss 0.3605 and best_acc=0.8771033883094788\n",
            "\n",
            "Training complete.\n",
            "Final accuracy: 87.71%\n",
            "Final loss: 0.3605\n"
          ]
        }
      ],
      "source": [
        "syn_to_keep = 0.049\n",
        "target_synops = int(max_synops*syn_to_keep)\n",
        "name = str(int(syn_to_keep*100))\n",
        "all_results[name] = train_and_evaluate(lr, batch_size, epochs, name, target_synops=target_synops)"
      ]
    },
    {
      "cell_type": "code",
      "execution_count": 16,
      "id": "IaiY9RbCIzwu",
      "metadata": {
        "colab": {
          "base_uri": "https://localhost:8080/"
        },
        "id": "IaiY9RbCIzwu",
        "outputId": "70f9b53e-ecfa-4d46-9a7b-3650a75e72a1"
      },
      "outputs": [
        {
          "name": "stderr",
          "output_type": "stream",
          "text": [
            "Epoch 1/1: 100%|██████████| 1875/1875 [04:16<00:00,  7.31it/s, train_loss=5.7142, train_acc=18.75%]\n",
            "Evaluating: 100%|██████████| 312/312 [00:21<00:00, 14.38it/s]"
          ]
        },
        {
          "name": "stdout",
          "output_type": "stream",
          "text": [
            "New best model saved with loss 2.3026 and best_acc=0.09815704822540283\n",
            "\n",
            "Training complete.\n",
            "Final accuracy: 9.82%\n",
            "Final loss: 2.3026\n"
          ]
        },
        {
          "name": "stderr",
          "output_type": "stream",
          "text": [
            "\n"
          ]
        }
      ],
      "source": [
        "syn_to_keep = 0.03\n",
        "target_synops = int(max_synops*syn_to_keep)\n",
        "name = str(int(syn_to_keep*100))\n",
        "all_results[name] = train_and_evaluate(lr, batch_size, epochs, name, target_synops=target_synops)"
      ]
    },
    {
      "cell_type": "code",
      "execution_count": 17,
      "id": "Y_aUdhjMI1kB",
      "metadata": {
        "colab": {
          "base_uri": "https://localhost:8080/"
        },
        "id": "Y_aUdhjMI1kB",
        "outputId": "27572f61-ccea-4af7-9f8a-001218876cbf"
      },
      "outputs": [
        {
          "name": "stderr",
          "output_type": "stream",
          "text": [
            "Epoch 1/1: 100%|██████████| 1875/1875 [04:19<00:00,  7.22it/s, train_loss=39.9465, train_acc=18.75%]\n",
            "Evaluating: 100%|██████████| 312/312 [00:21<00:00, 14.56it/s]\n"
          ]
        },
        {
          "name": "stdout",
          "output_type": "stream",
          "text": [
            "New best model saved with loss 2.3026 and best_acc=0.09815704822540283\n",
            "\n",
            "Training complete.\n",
            "Final accuracy: 9.82%\n",
            "Final loss: 2.3026\n"
          ]
        }
      ],
      "source": [
        "syn_to_keep = 0.01\n",
        "target_synops = int(max_synops*syn_to_keep)\n",
        "name = str(int(syn_to_keep*100))\n",
        "all_results[name] = train_and_evaluate(lr, batch_size, epochs, name, target_synops=target_synops)"
      ]
    },
    {
      "cell_type": "markdown",
      "id": "c651c5f8",
      "metadata": {
        "id": "c651c5f8"
      },
      "source": [
        "# Compare all models\n",
        "\n",
        "Lets now compare all models in terms of accuracy, synops and sparsity"
      ]
    },
    {
      "cell_type": "code",
      "execution_count": 44,
      "id": "fec3378c",
      "metadata": {
        "id": "fec3378c"
      },
      "outputs": [],
      "source": [
        "import os\n",
        "\n",
        "for path in os.listdir(\"./saved_models/\"):\n",
        "    if not path.endswith(\".pth\"):\n",
        "        continue\n",
        "    if '100' in path:\n",
        "        continue\n",
        "\n",
        "    all_results[path.removesuffix(\".pth\")].update(run_and_get_statistics(f\"./saved_models/{path}\"))"
      ]
    },
    {
      "cell_type": "markdown",
      "id": "eMc7oUM0SFhK",
      "metadata": {
        "id": "eMc7oUM0SFhK"
      },
      "source": [
        "Save and load results to avoid re-running training and statistics"
      ]
    },
    {
      "cell_type": "code",
      "execution_count": 45,
      "id": "wMj3PVd9R3G4",
      "metadata": {
        "id": "wMj3PVd9R3G4"
      },
      "outputs": [],
      "source": [
        "import json\n",
        "import os\n",
        "\n",
        "os.makedirs('saved_models', exist_ok=True)\n",
        "with open('saved_models/all_results.json', 'w') as f:\n",
        "    json.dump(all_results, f, indent=4)"
      ]
    },
    {
      "cell_type": "code",
      "execution_count": 20,
      "id": "ia62av-GSgBo",
      "metadata": {
        "id": "ia62av-GSgBo"
      },
      "outputs": [],
      "source": [
        "import json\n",
        "\n",
        "with open('saved_models/all_results.json', 'r') as f:\n",
        "    all_results = json.load(f)"
      ]
    },
    {
      "cell_type": "code",
      "execution_count": 21,
      "id": "42e3889a",
      "metadata": {
        "colab": {
          "base_uri": "https://localhost:8080/",
          "height": 439
        },
        "id": "42e3889a",
        "outputId": "e66b5d8e-8da9-4e01-c7ca-4188d2cd7e9f"
      },
      "outputs": [
        {
          "data": {
            "text/html": [
              "<div>\n",
              "<style scoped>\n",
              "    .dataframe tbody tr th:only-of-type {\n",
              "        vertical-align: middle;\n",
              "    }\n",
              "\n",
              "    .dataframe tbody tr th {\n",
              "        vertical-align: top;\n",
              "    }\n",
              "\n",
              "    .dataframe thead th {\n",
              "        text-align: right;\n",
              "    }\n",
              "</style>\n",
              "<table border=\"1\" class=\"dataframe\">\n",
              "  <thead>\n",
              "    <tr style=\"text-align: right;\">\n",
              "      <th></th>\n",
              "      <th>model</th>\n",
              "      <th>accuracy</th>\n",
              "      <th>loss</th>\n",
              "      <th>total_synops</th>\n",
              "      <th>synops_per_layer</th>\n",
              "      <th>fire_rate_per_layer</th>\n",
              "      <th>total_act_sparsity</th>\n",
              "      <th>act_sparsity_per_layer</th>\n",
              "    </tr>\n",
              "  </thead>\n",
              "  <tbody>\n",
              "    <tr>\n",
              "      <th>6</th>\n",
              "      <td>1</td>\n",
              "      <td>0.098157</td>\n",
              "      <td>2.302585</td>\n",
              "      <td>4961.694532</td>\n",
              "      <td>[2522.347073286008, 865.2683181762695, 1574.07...</td>\n",
              "      <td>[0.01027015646179326, 0.016468121076169878, 0....</td>\n",
              "      <td>0.994218</td>\n",
              "      <td>[0.9924733437398342, 0.9911450141213587, 1.0, ...</td>\n",
              "    </tr>\n",
              "    <tr>\n",
              "      <th>5</th>\n",
              "      <td>3</td>\n",
              "      <td>0.098157</td>\n",
              "      <td>2.302585</td>\n",
              "      <td>5881.479243</td>\n",
              "      <td>[2522.347073286008, 1171.9148600651667, 2187.2...</td>\n",
              "      <td>[0.013970506147672541, 0.023510559205300152, 0...</td>\n",
              "      <td>0.993596</td>\n",
              "      <td>[0.9914175079204005, 0.9906319633017767, 1.0, ...</td>\n",
              "    </tr>\n",
              "    <tr>\n",
              "      <th>7</th>\n",
              "      <td>4</td>\n",
              "      <td>0.877103</td>\n",
              "      <td>0.360542</td>\n",
              "      <td>7083.64198</td>\n",
              "      <td>[2522.347073286008, 2303.487991724259, 1758.21...</td>\n",
              "      <td>[0.027590441189180963, 0.018810652581473384, 0...</td>\n",
              "      <td>0.988996</td>\n",
              "      <td>[0.9853491610221108, 0.9900751593496093, 0.996...</td>\n",
              "    </tr>\n",
              "    <tr>\n",
              "      <th>4</th>\n",
              "      <td>5</td>\n",
              "      <td>0.81861</td>\n",
              "      <td>0.542907</td>\n",
              "      <td>6916.333153</td>\n",
              "      <td>[2522.347073286008, 2405.1207400590947, 1523.2...</td>\n",
              "      <td>[0.028837264607994795, 0.016188816168906692, 0...</td>\n",
              "      <td>0.986726</td>\n",
              "      <td>[0.9809995156032815, 0.9904344044091951, 0.997...</td>\n",
              "    </tr>\n",
              "    <tr>\n",
              "      <th>3</th>\n",
              "      <td>10</td>\n",
              "      <td>0.960938</td>\n",
              "      <td>0.120013</td>\n",
              "      <td>6371.237338</td>\n",
              "      <td>[2522.347073286008, 1515.0562231601814, 1362.9...</td>\n",
              "      <td>[0.018187863871646233, 0.01468609028066007, 0....</td>\n",
              "      <td>0.987801</td>\n",
              "      <td>[0.9865657904434866, 0.9881905982699893, 0.993...</td>\n",
              "    </tr>\n",
              "    <tr>\n",
              "      <th>2</th>\n",
              "      <td>50</td>\n",
              "      <td>0.959435</td>\n",
              "      <td>0.118798</td>\n",
              "      <td>20410.376024</td>\n",
              "      <td>[2522.347073286008, 5944.649029071515, 6799.48...</td>\n",
              "      <td>[0.07125570721781024, 0.07310174384082739, 0.0...</td>\n",
              "      <td>0.959524</td>\n",
              "      <td>[0.9529439649575414, 0.9568221319749458, 0.969...</td>\n",
              "    </tr>\n",
              "    <tr>\n",
              "      <th>1</th>\n",
              "      <td>70</td>\n",
              "      <td>0.969451</td>\n",
              "      <td>0.090397</td>\n",
              "      <td>26825.867391</td>\n",
              "      <td>[2522.347073286008, 7831.907237517528, 10085.6...</td>\n",
              "      <td>[0.09402579005855398, 0.10795394264352627, 0.0...</td>\n",
              "      <td>0.94689</td>\n",
              "      <td>[0.9372388974030877, 0.9385662507542938, 0.966...</td>\n",
              "    </tr>\n",
              "    <tr>\n",
              "      <th>0</th>\n",
              "      <td>100</td>\n",
              "      <td>0.96905</td>\n",
              "      <td>0.107447</td>\n",
              "      <td>36806.962312</td>\n",
              "      <td>[2522.347073286008, 9544.976960011018, 14626.1...</td>\n",
              "      <td>[0.11456179411078875, 0.15714161902761611, 0.0...</td>\n",
              "      <td>0.941571</td>\n",
              "      <td>[0.9362075933373438, 0.9292758768968619, 0.953...</td>\n",
              "    </tr>\n",
              "  </tbody>\n",
              "</table>\n",
              "</div>"
            ],
            "text/plain": [
              "   model  accuracy      loss  total_synops  \\\n",
              "6      1  0.098157  2.302585   4961.694532   \n",
              "5      3  0.098157  2.302585   5881.479243   \n",
              "7      4  0.877103  0.360542    7083.64198   \n",
              "4      5   0.81861  0.542907   6916.333153   \n",
              "3     10  0.960938  0.120013   6371.237338   \n",
              "2     50  0.959435  0.118798  20410.376024   \n",
              "1     70  0.969451  0.090397  26825.867391   \n",
              "0    100   0.96905  0.107447  36806.962312   \n",
              "\n",
              "                                    synops_per_layer  \\\n",
              "6  [2522.347073286008, 865.2683181762695, 1574.07...   \n",
              "5  [2522.347073286008, 1171.9148600651667, 2187.2...   \n",
              "7  [2522.347073286008, 2303.487991724259, 1758.21...   \n",
              "4  [2522.347073286008, 2405.1207400590947, 1523.2...   \n",
              "3  [2522.347073286008, 1515.0562231601814, 1362.9...   \n",
              "2  [2522.347073286008, 5944.649029071515, 6799.48...   \n",
              "1  [2522.347073286008, 7831.907237517528, 10085.6...   \n",
              "0  [2522.347073286008, 9544.976960011018, 14626.1...   \n",
              "\n",
              "                                 fire_rate_per_layer total_act_sparsity  \\\n",
              "6  [0.01027015646179326, 0.016468121076169878, 0....           0.994218   \n",
              "5  [0.013970506147672541, 0.023510559205300152, 0...           0.993596   \n",
              "7  [0.027590441189180963, 0.018810652581473384, 0...           0.988996   \n",
              "4  [0.028837264607994795, 0.016188816168906692, 0...           0.986726   \n",
              "3  [0.018187863871646233, 0.01468609028066007, 0....           0.987801   \n",
              "2  [0.07125570721781024, 0.07310174384082739, 0.0...           0.959524   \n",
              "1  [0.09402579005855398, 0.10795394264352627, 0.0...            0.94689   \n",
              "0  [0.11456179411078875, 0.15714161902761611, 0.0...           0.941571   \n",
              "\n",
              "                              act_sparsity_per_layer  \n",
              "6  [0.9924733437398342, 0.9911450141213587, 1.0, ...  \n",
              "5  [0.9914175079204005, 0.9906319633017767, 1.0, ...  \n",
              "7  [0.9853491610221108, 0.9900751593496093, 0.996...  \n",
              "4  [0.9809995156032815, 0.9904344044091951, 0.997...  \n",
              "3  [0.9865657904434866, 0.9881905982699893, 0.993...  \n",
              "2  [0.9529439649575414, 0.9568221319749458, 0.969...  \n",
              "1  [0.9372388974030877, 0.9385662507542938, 0.966...  \n",
              "0  [0.9362075933373438, 0.9292758768968619, 0.953...  "
            ]
          },
          "metadata": {},
          "output_type": "display_data"
        }
      ],
      "source": [
        "import numpy as np\n",
        "import pandas as pd\n",
        "import matplotlib.pyplot as plt\n",
        "\n",
        "# Convert to DataFrame\n",
        "df = pd.DataFrame(all_results)\n",
        "df = df.T.reset_index().rename(columns={'index': 'model'})\n",
        "df['model'] = df['model'].apply(int)\n",
        "df.sort_values(\"model\", inplace=True)\n",
        "\n",
        "display(df)"
      ]
    },
    {
      "cell_type": "code",
      "execution_count": 52,
      "id": "637ed06b",
      "metadata": {
        "colab": {
          "base_uri": "https://localhost:8080/",
          "height": 860
        },
        "id": "637ed06b",
        "outputId": "85de3f92-918f-4f10-99b7-d773b253f032"
      },
      "outputs": [
        {
          "data": {
            "image/png": "[encoded data removed]",
            "text/plain": [
              "<Figure size 1800x500 with 3 Axes>"
            ]
          },
          "metadata": {},
          "output_type": "display_data"
        },
        {
          "data": {
            "image/png": "[encoded data removed]",
            "text/plain": [
              "<Figure size 1800x500 with 3 Axes>"
            ]
          },
          "metadata": {},
          "output_type": "display_data"
        }
      ],
      "source": [
        "\n",
        "# Plot\n",
        "fig, axs = plt.subplots(1, 3, figsize=(18, 5))\n",
        "fig.suptitle(\"Model Metrics across Saved Models\", fontsize=14)\n",
        "\n",
        "x_positions = np.arange(len(df[\"model\"]))  # numeric positions for scatter\n",
        "x_labels = df[\"model\"]\n",
        "\n",
        "# Scatter SynOps by Layer\n",
        "for i, layer in enumerate(np.stack(df['synops_per_layer'].to_numpy()).T):\n",
        "    axs[0].scatter(x_positions, layer, label=f\"Layer {i}\")\n",
        "axs[0].set_title(\"SynOps by Layer\")\n",
        "axs[0].set_xticks(x_positions)\n",
        "axs[0].set_xticklabels(x_labels, rotation=45, ha='right')\n",
        "axs[0].legend()\n",
        "\n",
        "# Scatter Firing Rate by Layer\n",
        "for i, layer in enumerate(np.stack(df['fire_rate_per_layer'].to_numpy()).T):\n",
        "    axs[1].scatter(x_positions, layer, label=f\"Layer {i}\")\n",
        "axs[1].set_title(\"Firing Rates by Layer\")\n",
        "axs[1].set_xticks(x_positions)\n",
        "axs[1].set_xticklabels(x_labels, rotation=45, ha='right')\n",
        "axs[1].legend()\n",
        "\n",
        "# Scatter Activation Sparsity by Layer\n",
        "for i, layer in enumerate(np.stack(df['act_sparsity_per_layer'].to_numpy()).T):\n",
        "    axs[2].scatter(x_positions, layer, label=f\"Layer {i}\")\n",
        "axs[2].set_title(\"Activation Sparsity by Layer\")\n",
        "axs[2].set_xticks(x_positions)\n",
        "axs[2].set_xticklabels(x_labels, rotation=45, ha='right')\n",
        "axs[2].legend()\n",
        "\n",
        "\n",
        "fig, axs = plt.subplots(1, 3, figsize=(18, 5))\n",
        "\n",
        "x_positions = np.arange(len(df[\"model\"]))  # numeric positions for scatter\n",
        "x_labels = df[\"model\"]\n",
        "\n",
        "# Scatter Global Activation Sparsity\n",
        "axs[0].scatter(x_positions, df['total_act_sparsity'], color='tab:red')\n",
        "axs[0].set_title(\"Global Activation Sparsity\")\n",
        "axs[0].set_xticks(x_positions)\n",
        "axs[0].set_xticklabels(x_labels, rotation=45, ha='right')\n",
        "\n",
        "# Scatter total SynOps\n",
        "axs[1].scatter(x_positions, df['total_synops'], color='tab:blue')\n",
        "axs[1].set_title(\"Total SynOps\")\n",
        "axs[1].set_xticks(x_positions)\n",
        "axs[1].set_xticklabels(x_labels, rotation=45, ha='right')\n",
        "\n",
        "# Scatter accuracy\n",
        "axs[2].scatter(x_positions, df['accuracy'], color='tab:blue', )\n",
        "axs[2].set_title(\"Accuracy\")\n",
        "axs[2].set_xticks(x_positions)\n",
        "axs[2].set_xticklabels(x_labels, rotation=45, ha='right')\n",
        "plt.tight_layout()\n",
        "plt.show()"
      ]
    },
    {
      "cell_type": "markdown",
      "id": "338f6252",
      "metadata": {
        "id": "338f6252"
      },
      "source": [
        "# Model deployment on Speck\n",
        "\n",
        "Deployment on Speck is performed using the samna package, and the sinabs backend specific to our target, in our case the **DynapcnnNetwork** that is at the core of Speck.\n",
        "\n",
        "Notice that because the model was trained with floating point arithmetic, we need to quantize it (discretize it). This can affect heavily the performance of the model, and it is done by sinabs automagically. Another (usually better) option is to use quantized aware training.\n",
        "\n",
        "In this demo we are not focusing on quantization and its effects on accuracy, but rather on inference speed.\n",
        "\n",
        "![quant](images/quantization.png)"
      ]
    },
    {
      "cell_type": "code",
      "execution_count": null,
      "id": "921c0c1e",
      "metadata": {
        "id": "921c0c1e",
        "outputId": "cfcc9852-d628-4726-d8c7-e46fd6fe43a4"
      },
      "outputs": [],
      "source": [
        "import time\n",
        "import torch\n",
        "import numpy as np\n",
        "import pandas as pd\n",
        "from collections import defaultdict\n",
        "\n",
        "import samna\n",
        "from sinabs.backend.dynapcnn import DynapcnnNetwork\n",
        "from sinabs.backend.dynapcnn.chip_factory import ChipFactory\n",
        "from sinabs.backend.dynapcnn.dynapcnn_visualizer import DynapcnnVisualizer\n",
        "from tonic import datasets, transforms\n",
        "import os\n",
        "import pandas as pd\n",
        "\n",
        "\n",
        "transform = transforms.Compose([\n",
        "        transforms.ToFrame(sensor_size=(34, 34, 2), n_time_bins=30, include_incomplete=True),\n",
        "        lambda x: torch.from_numpy(x.astype(np.float32)),\n",
        "    ])\n",
        "\n",
        "def run_hw(model_path, monitor_layers='all'):\n",
        "\n",
        "    testset = datasets.NMNIST('./data', train=False, transform=transform)\n",
        "    class_samples = {i: [] for i in range(10)}  # Dictionary to store samples for each class\n",
        "\n",
        "    for data, label in testset:\n",
        "        if len(class_samples[label]) < 10:\n",
        "            class_samples[label].append(data)\n",
        "        if all(len(samples) == 10 for samples in class_samples.values()):\n",
        "            break\n",
        "\n",
        "    data = torch.stack([torch.stack(samples) for samples in class_samples.values()]).numpy()\n",
        "    data = data.reshape(-1, 30, 2, 34, 34)  # Reshape to [batch_size, time_bins, channels, height, width]\n",
        "\n",
        "\n",
        "    devices = samna.device.get_unopened_devices()\n",
        "    speck = samna.device.open_device(devices[0])\n",
        "    device_id = 'speck2fdevkit'\n",
        "\n",
        "    try:\n",
        "\n",
        "        cnn = torch.load(model_path, weights_only=False, map_location='cpu')\n",
        "\n",
        "        print(\"Initialized SpeckModel.\")\n",
        "\n",
        "        data_shape = [100] + [30,2,34,34]\n",
        "\n",
        "        print(f\"Data prepared with shape: {data_shape}\")\n",
        "\n",
        "\n",
        "        # Notice the discretize option. As the model was trained in floating point, we need to convert it to a fixed range representation\n",
        "        dynapcnn_model = DynapcnnNetwork(cnn[0:-1], input_shape=[2, 34, 34], dvs_input=False, discretize=True)\n",
        "        print(\"Initialized DynapcnnNetwork.\")\n",
        "        dynapcnn_model.to(device_id, chip_layers_ordering=\"auto\", monitor_layers='all', slow_clk_frequency=None)\n",
        "        print(\"Model transferred to device.\")\n",
        "        layer_in = dynapcnn_model.chip_layers_ordering[0]\n",
        "\n",
        "\n",
        "        chip_factory = ChipFactory(device_id)\n",
        "        data = [chip_factory.raster_to_events(torch.from_numpy(x), layer=layer_in, dt=1/(data_shape[1]-1)) for x in data]\n",
        "        print(\"Data converted to events.\")\n",
        "\n",
        "        pwr_mon = speck.get_power_monitor()\n",
        "        source = pwr_mon.get_source_node()\n",
        "        sink = samna.graph.sink_from(source)\n",
        "        pwr_mon.start_auto_power_measurement(100.0)\n",
        "\n",
        "\n",
        "        total_spike_num = 0\n",
        "        total_neuro_num = 0\n",
        "        layer_neuro_num = defaultdict(int)\n",
        "        layer_spike_num = defaultdict(int)\n",
        "        layer_sparsity = defaultdict(float)\n",
        "        layer_outputs = defaultdict(list)\n",
        "\n",
        "        start_ts = time.time()\n",
        "        for sample in data:\n",
        "            output_events = dynapcnn_model(sample)\n",
        "\n",
        "            if monitor_layers is None:\n",
        "                continue\n",
        "\n",
        "            for id, layer in enumerate(dynapcnn_model.chip_layers_ordering):\n",
        "\n",
        "                output_events_layer = [each for each in output_events if each.layer == layer]\n",
        "\n",
        "                if len(output_events_layer) == 0:\n",
        "                    layer_neuro_num[id] += 0\n",
        "                    layer_spike_num[id] += 0\n",
        "                    continue\n",
        "                layer_outputs[id].append(output_events_layer)\n",
        "\n",
        "        end_ts = time.time()\n",
        "        print(f\"Processed all data samples in {end_ts - start_ts} seconds.\")\n",
        "\n",
        "        pwr_mon.stop_auto_power_measurement()\n",
        "        powers = pd.DataFrame([(x.channel, x.value) for x in sink.get_events()], columns=[\"ch\", \"pwr\"])\n",
        "\n",
        "    finally:\n",
        "\n",
        "        samna.device.close_device(speck)\n",
        "        print(\"Closed device.\")\n",
        "\n",
        "        powers = powers.groupby('ch').mean()['pwr'].to_list()\n",
        "        fps = len(data) / (end_ts - start_ts)\n",
        "        print(f\"FPS: {fps}\")\n",
        "\n",
        "        dt= 1 / (data_shape[1] - 1)\n",
        "\n",
        "        for layer in layer_outputs.keys():\n",
        "            for i in range(len(layer_outputs[layer])):\n",
        "                layer_n_spks = chip_factory.events_to_raster(layer_outputs[layer][i], dt=dt)\n",
        "\n",
        "                tot_neurons = layer_n_spks.numel()\n",
        "                tot_spikes = layer_n_spks.gt(0.0).sum().item()\n",
        "\n",
        "                layer_neuro_num[layer] += tot_neurons\n",
        "                layer_spike_num[layer] += tot_spikes\n",
        "\n",
        "                total_spike_num += tot_spikes\n",
        "                total_neuro_num += tot_neurons\n",
        "\n",
        "\n",
        "        for key in layer_neuro_num:\n",
        "                sparsity = (\n",
        "                    (layer_neuro_num[key] - layer_spike_num[key])\n",
        "                    / layer_neuro_num[key]\n",
        "                    if layer_neuro_num[key] != 0\n",
        "                    else 0.0\n",
        "                )\n",
        "                layer_sparsity[key] = sparsity\n",
        "\n",
        "        activation_sparsity = ((total_neuro_num - total_spike_num) / total_neuro_num) if total_neuro_num != 0 else 0.0\n",
        "\n",
        "        print(f\"Total spikes: {total_spike_num}\")\n",
        "        print(f\"Total neurons: {total_neuro_num}\")\n",
        "        print(f\"Tot. Dynamic Power: {(powers[1]+ powers[2])*1e3} mW\")\n",
        "\n",
        "        print(f\"Activation sparsity: {activation_sparsity}\")\n",
        "\n",
        "        return {\n",
        "            'powers': powers,\n",
        "            'fps': fps,\n",
        "            'act_sparsity': activation_sparsity,\n",
        "            'act_sp_by_layer': dict(layer_sparsity),\n",
        "            'tot_spikes': total_spike_num\n",
        "        }\n"
      ]
    },
    {
      "cell_type": "code",
      "execution_count": 23,
      "id": "e1eee0ca",
      "metadata": {
        "id": "e1eee0ca"
      },
      "outputs": [
        {
          "name": "stdout",
          "output_type": "stream",
          "text": [
            "Starting main execution.\n",
            "Model name: 70.pth\n",
            "Initialized SpeckModel.\n",
            "Data prepared with shape: [100, 30, 2, 34, 34]\n",
            "Initialized DynapcnnNetwork.\n",
            "Network is valid\n",
            "Model transferred to device.\n",
            "Data converted to events.\n",
            "Processed all data samples in 122.62232184410095 seconds.\n",
            "Closed device.\n",
            "FPS: 0.8155122044348302\n",
            "Total spikes: 850981\n",
            "Total neurons: 14313563\n",
            "Tot. Dynamic Power: 0.6023538906220873 mW\n",
            "Activation sparsity: 0.9405472278285987\n",
            "Results completed for model 70.pth\n",
            "Initialized SpeckModel.\n",
            "Data prepared with shape: [100, 30, 2, 34, 34]\n",
            "Initialized DynapcnnNetwork.\n",
            "Network is valid\n",
            "Model transferred to device.\n",
            "Data converted to events.\n",
            "Processed all data samples in 122.63432121276855 seconds.\n",
            "Closed device.\n",
            "FPS: 0.815432409223366\n",
            "Total spikes: 851211\n",
            "Total neurons: 14304937\n",
            "Tot. Dynamic Power: 0.6150761433429611 mW\n",
            "Activation sparsity: 0.9404952989307118\n",
            "Starting main execution.\n",
            "Model name: 3.pth\n",
            "Initialized SpeckModel.\n",
            "Data prepared with shape: [100, 30, 2, 34, 34]\n",
            "Initialized DynapcnnNetwork.\n",
            "Network is valid\n",
            "Model transferred to device.\n",
            "Data converted to events.\n",
            "Processed all data samples in 120.87967705726624 seconds.\n",
            "Closed device.\n",
            "FPS: 0.8272689209173303\n",
            "Total spikes: 159607\n",
            "Total neurons: 6824860\n",
            "Tot. Dynamic Power: 0.4719960756751275 mW\n",
            "Activation sparsity: 0.9766138792590617\n",
            "Results completed for model 3.pth\n",
            "Initialized SpeckModel.\n",
            "Data prepared with shape: [100, 30, 2, 34, 34]\n",
            "Initialized DynapcnnNetwork.\n",
            "Network is valid\n",
            "Model transferred to device.\n",
            "Data converted to events.\n",
            "Processed all data samples in 120.82690358161926 seconds.\n",
            "Closed device.\n",
            "FPS: 0.8276302465406591\n",
            "Total spikes: 159607\n",
            "Total neurons: 6824860\n",
            "Tot. Dynamic Power: 0.47574656271338556 mW\n",
            "Activation sparsity: 0.9766138792590617\n",
            "Starting main execution.\n",
            "Model name: 10.pth\n",
            "Initialized SpeckModel.\n",
            "Data prepared with shape: [100, 30, 2, 34, 34]\n",
            "Initialized DynapcnnNetwork.\n",
            "Network is valid\n",
            "Model transferred to device.\n",
            "Data converted to events.\n",
            "Processed all data samples in 120.58610939979553 seconds.\n",
            "Closed device.\n",
            "FPS: 0.8292829124161921\n",
            "Total spikes: 191154\n",
            "Total neurons: 13533463\n",
            "Tot. Dynamic Power: 0.45837974944822113 mW\n",
            "Activation sparsity: 0.9858754555282709\n",
            "Results completed for model 10.pth\n",
            "Initialized SpeckModel.\n",
            "Data prepared with shape: [100, 30, 2, 34, 34]\n",
            "Initialized DynapcnnNetwork.\n",
            "Network is valid\n",
            "Model transferred to device.\n",
            "Data converted to events.\n",
            "Processed all data samples in 120.58129119873047 seconds.\n",
            "Closed device.\n",
            "FPS: 0.8293160489979298\n",
            "Total spikes: 191154\n",
            "Total neurons: 13533463\n",
            "Tot. Dynamic Power: 0.46280964780717604 mW\n",
            "Activation sparsity: 0.9858754555282709\n",
            "Starting main execution.\n",
            "Model name: 1.pth\n",
            "Initialized SpeckModel.\n",
            "Data prepared with shape: [100, 30, 2, 34, 34]\n",
            "Initialized DynapcnnNetwork.\n",
            "Network is valid\n",
            "Model transferred to device.\n",
            "Data converted to events.\n",
            "Processed all data samples in 121.05480337142944 seconds.\n",
            "Closed device.\n",
            "FPS: 0.8260721360487654\n",
            "Total spikes: 184970\n",
            "Total neurons: 9973970\n",
            "Tot. Dynamic Power: 0.5031262014709461 mW\n",
            "Activation sparsity: 0.981454726653479\n",
            "Results completed for model 1.pth\n",
            "Initialized SpeckModel.\n",
            "Data prepared with shape: [100, 30, 2, 34, 34]\n",
            "Initialized DynapcnnNetwork.\n",
            "Network is valid\n",
            "Model transferred to device.\n",
            "Data converted to events.\n",
            "Processed all data samples in 121.06802654266357 seconds.\n",
            "Closed device.\n",
            "FPS: 0.8259819116218985\n",
            "Total spikes: 184967\n",
            "Total neurons: 9973970\n",
            "Tot. Dynamic Power: 0.504916338660707 mW\n",
            "Activation sparsity: 0.981455027436417\n",
            "Starting main execution.\n",
            "Model name: 100.pth\n",
            "Initialized SpeckModel.\n",
            "Data prepared with shape: [100, 30, 2, 34, 34]\n",
            "Initialized DynapcnnNetwork.\n",
            "Network is valid\n",
            "Model transferred to device.\n",
            "Data converted to events.\n",
            "Processed all data samples in 123.50712537765503 seconds.\n",
            "Closed device.\n",
            "FPS: 0.8096698849902311\n",
            "Total spikes: 927012\n",
            "Total neurons: 14303514\n",
            "Tot. Dynamic Power: 0.7429667166714863 mW\n",
            "Activation sparsity: 0.9351899120733549\n",
            "Results completed for model 100.pth\n",
            "Initialized SpeckModel.\n",
            "Data prepared with shape: [100, 30, 2, 34, 34]\n",
            "Initialized DynapcnnNetwork.\n",
            "Network is valid\n",
            "Model transferred to device.\n",
            "Data converted to events.\n",
            "Processed all data samples in 123.4675030708313 seconds.\n",
            "Closed device.\n",
            "FPS: 0.8099297184509484\n",
            "Total spikes: 926923\n",
            "Total neurons: 14296694\n",
            "Tot. Dynamic Power: 0.7376673488916735 mW\n",
            "Activation sparsity: 0.9351652207146631\n",
            "Starting main execution.\n",
            "Model name: 4.pth\n",
            "Initialized SpeckModel.\n",
            "Data prepared with shape: [100, 30, 2, 34, 34]\n",
            "Initialized DynapcnnNetwork.\n",
            "Network is valid\n",
            "Model transferred to device.\n",
            "Data converted to events.\n",
            "Processed all data samples in 120.81235337257385 seconds.\n",
            "Closed device.\n",
            "FPS: 0.8277299233763742\n",
            "Total spikes: 195933\n",
            "Total neurons: 12084020\n",
            "Tot. Dynamic Power: 0.4763070656300995 mW\n",
            "Activation sparsity: 0.9837857765875926\n",
            "Results completed for model 4.pth\n",
            "Initialized SpeckModel.\n",
            "Data prepared with shape: [100, 30, 2, 34, 34]\n",
            "Initialized DynapcnnNetwork.\n",
            "Network is valid\n",
            "Model transferred to device.\n",
            "Data converted to events.\n",
            "Processed all data samples in 120.77831697463989 seconds.\n",
            "Closed device.\n",
            "FPS: 0.8279631849895477\n",
            "Total spikes: 195933\n",
            "Total neurons: 12084020\n",
            "Tot. Dynamic Power: 0.47635570287825724 mW\n",
            "Activation sparsity: 0.9837857765875926\n",
            "Starting main execution.\n",
            "Model name: 50.pth\n",
            "Initialized SpeckModel.\n",
            "Data prepared with shape: [100, 30, 2, 34, 34]\n",
            "Initialized DynapcnnNetwork.\n",
            "Network is valid\n",
            "Model transferred to device.\n",
            "Data converted to events.\n",
            "Processed all data samples in 121.99678158760071 seconds.\n",
            "Closed device.\n",
            "FPS: 0.8196937550208588\n",
            "Total spikes: 647004\n",
            "Total neurons: 14180222\n",
            "Tot. Dynamic Power: 0.5957803329395047 mW\n",
            "Activation sparsity: 0.9543727876756796\n",
            "Results completed for model 50.pth\n",
            "Initialized SpeckModel.\n",
            "Data prepared with shape: [100, 30, 2, 34, 34]\n",
            "Initialized DynapcnnNetwork.\n",
            "Network is valid\n",
            "Model transferred to device.\n",
            "Data converted to events.\n",
            "Processed all data samples in 121.98417687416077 seconds.\n",
            "Closed device.\n",
            "FPS: 0.8197784545708768\n",
            "Total spikes: 647328\n",
            "Total neurons: 14181049\n",
            "Tot. Dynamic Power: 0.5965600229737685 mW\n",
            "Activation sparsity: 0.9543526011369117\n",
            "Starting main execution.\n",
            "Model name: 5.pth\n",
            "Initialized SpeckModel.\n",
            "Data prepared with shape: [100, 30, 2, 34, 34]\n",
            "Initialized DynapcnnNetwork.\n",
            "Network is valid\n",
            "Model transferred to device.\n",
            "Data converted to events.\n",
            "Processed all data samples in 120.79526972770691 seconds.\n",
            "Closed device.\n",
            "FPS: 0.8278469862720371\n",
            "Total spikes: 241921\n",
            "Total neurons: 10111529\n",
            "Tot. Dynamic Power: 0.4787442370419663 mW\n",
            "Activation sparsity: 0.9760747360760178\n",
            "Results completed for model 5.pth\n",
            "Initialized SpeckModel.\n",
            "Data prepared with shape: [100, 30, 2, 34, 34]\n",
            "Initialized DynapcnnNetwork.\n",
            "Network is valid\n",
            "Model transferred to device.\n",
            "Data converted to events.\n",
            "Processed all data samples in 120.8007128238678 seconds.\n",
            "Closed device.\n",
            "FPS: 0.8278096847475059\n",
            "Total spikes: 241921\n",
            "Total neurons: 10111529\n",
            "Tot. Dynamic Power: 0.48110397241596986 mW\n",
            "Activation sparsity: 0.9760747360760178\n"
          ]
        }
      ],
      "source": [
        "model_files = [f for f in os.listdir(\"./saved_models/\") if f.endswith('.pth')]\n",
        "for model_file in model_files:\n",
        "    model_path = os.path.join(\"./saved_models\", model_file)\n",
        "\n",
        "    print(\"Starting main execution.\")\n",
        "    print(f\"Model name: {model_file}\")\n",
        "    power, fps, act_sparsity, act_sp_by_layer, tot_spikes = run_hw(model_path)\n",
        "    print(f\"Results completed for model {model_file}\")\n",
        "\n",
        "    all_results[model_file.removesuffix(\".pth\")].update(run_hw(model_path))"
      ]
    },
    {
      "cell_type": "code",
      "execution_count": 29,
      "id": "9f5ed155",
      "metadata": {},
      "outputs": [],
      "source": [
        "import json\n",
        "import os\n",
        "\n",
        "os.makedirs('saved_models', exist_ok=True)\n",
        "with open('saved_models/all_results.json', 'w') as f:\n",
        "    json.dump(all_results, f, indent=4)"
      ]
    },
    {
      "cell_type": "code",
      "execution_count": null,
      "id": "bf890571",
      "metadata": {},
      "outputs": [],
      "source": [
        "import json\n",
        "\n",
        "with open('saved_models/all_results.json', 'r') as f:\n",
        "    all_results = json.load(f)"
      ]
    },
    {
      "cell_type": "code",
      "execution_count": 27,
      "id": "c1c3aee0",
      "metadata": {},
      "outputs": [
        {
          "data": {
            "text/html": [
              "<div>\n",
              "<style scoped>\n",
              "    .dataframe tbody tr th:only-of-type {\n",
              "        vertical-align: middle;\n",
              "    }\n",
              "\n",
              "    .dataframe tbody tr th {\n",
              "        vertical-align: top;\n",
              "    }\n",
              "\n",
              "    .dataframe thead th {\n",
              "        text-align: right;\n",
              "    }\n",
              "</style>\n",
              "<table border=\"1\" class=\"dataframe\">\n",
              "  <thead>\n",
              "    <tr style=\"text-align: right;\">\n",
              "      <th></th>\n",
              "      <th>model</th>\n",
              "      <th>accuracy</th>\n",
              "      <th>loss</th>\n",
              "      <th>total_synops</th>\n",
              "      <th>synops_per_layer</th>\n",
              "      <th>fire_rate_per_layer</th>\n",
              "      <th>total_act_sparsity</th>\n",
              "      <th>act_sparsity_per_layer</th>\n",
              "      <th>powers</th>\n",
              "      <th>fps</th>\n",
              "      <th>act_sparsity</th>\n",
              "      <th>act_sp_by_layer</th>\n",
              "      <th>tot_spikes</th>\n",
              "    </tr>\n",
              "  </thead>\n",
              "  <tbody>\n",
              "    <tr>\n",
              "      <th>6</th>\n",
              "      <td>1</td>\n",
              "      <td>0.098157</td>\n",
              "      <td>2.302585</td>\n",
              "      <td>4961.694532</td>\n",
              "      <td>[2522.347073286008, 865.2683181762695, 1574.07...</td>\n",
              "      <td>[0.01027015646179326, 0.016468121076169878, 0....</td>\n",
              "      <td>0.994218</td>\n",
              "      <td>[0.9924733437398342, 0.9911450141213587, 1.0, ...</td>\n",
              "      <td>[4.821981264793224e-05, 0.00010015116616881171...</td>\n",
              "      <td>0.825982</td>\n",
              "      <td>0.981455</td>\n",
              "      <td>{2: 0.0, 3: 0.0, 4: 0.0, 0: 0.9808480280531211...</td>\n",
              "      <td>184967</td>\n",
              "    </tr>\n",
              "    <tr>\n",
              "      <th>5</th>\n",
              "      <td>3</td>\n",
              "      <td>0.098157</td>\n",
              "      <td>2.302585</td>\n",
              "      <td>5881.479243</td>\n",
              "      <td>[2522.347073286008, 1171.9148600651667, 2187.2...</td>\n",
              "      <td>[0.013970506147672541, 0.023510559205300152, 0...</td>\n",
              "      <td>0.993596</td>\n",
              "      <td>[0.9914175079204005, 0.9906319633017767, 1.0, ...</td>\n",
              "      <td>[4.7693268665906666e-05, 9.461079964919775e-05...</td>\n",
              "      <td>0.82763</td>\n",
              "      <td>0.976614</td>\n",
              "      <td>{2: 0.0, 3: 0.0, 4: 0.0, 0: 0.9748265830755254...</td>\n",
              "      <td>159607</td>\n",
              "    </tr>\n",
              "    <tr>\n",
              "      <th>7</th>\n",
              "      <td>4</td>\n",
              "      <td>0.877103</td>\n",
              "      <td>0.360542</td>\n",
              "      <td>7083.64198</td>\n",
              "      <td>[2522.347073286008, 2303.487991724259, 1758.21...</td>\n",
              "      <td>[0.027590441189180963, 0.018810652581473384, 0...</td>\n",
              "      <td>0.988996</td>\n",
              "      <td>[0.9853491610221108, 0.9900751593496093, 0.996...</td>\n",
              "      <td>[4.680929383744346e-05, 8.95118228301065e-05, ...</td>\n",
              "      <td>0.827963</td>\n",
              "      <td>0.983786</td>\n",
              "      <td>{0: 0.979414648764343, 1: 0.9841044930292863, ...</td>\n",
              "      <td>195933</td>\n",
              "    </tr>\n",
              "    <tr>\n",
              "      <th>4</th>\n",
              "      <td>5</td>\n",
              "      <td>0.81861</td>\n",
              "      <td>0.542907</td>\n",
              "      <td>6916.333153</td>\n",
              "      <td>[2522.347073286008, 2405.1207400590947, 1523.2...</td>\n",
              "      <td>[0.028837264607994795, 0.016188816168906692, 0...</td>\n",
              "      <td>0.986726</td>\n",
              "      <td>[0.9809995156032815, 0.9904344044091951, 0.997...</td>\n",
              "      <td>[4.7096167803698885e-05, 8.971853961051057e-05...</td>\n",
              "      <td>0.82781</td>\n",
              "      <td>0.976075</td>\n",
              "      <td>{0: 0.9710628753170377, 1: 0.9833597975807805,...</td>\n",
              "      <td>241921</td>\n",
              "    </tr>\n",
              "    <tr>\n",
              "      <th>3</th>\n",
              "      <td>10</td>\n",
              "      <td>0.960938</td>\n",
              "      <td>0.120013</td>\n",
              "      <td>6371.237338</td>\n",
              "      <td>[2522.347073286008, 1515.0562231601814, 1362.9...</td>\n",
              "      <td>[0.018187863871646233, 0.01468609028066007, 0....</td>\n",
              "      <td>0.987801</td>\n",
              "      <td>[0.9865657904434866, 0.9881905982699893, 0.993...</td>\n",
              "      <td>[4.663982192049138e-05, 8.616985965249063e-05,...</td>\n",
              "      <td>0.829316</td>\n",
              "      <td>0.985875</td>\n",
              "      <td>{0: 0.9851409026365514, 1: 0.9862346759267743,...</td>\n",
              "      <td>191154</td>\n",
              "    </tr>\n",
              "    <tr>\n",
              "      <th>2</th>\n",
              "      <td>50</td>\n",
              "      <td>0.959435</td>\n",
              "      <td>0.118798</td>\n",
              "      <td>20410.376024</td>\n",
              "      <td>[2522.347073286008, 5944.649029071515, 6799.48...</td>\n",
              "      <td>[0.07125570721781024, 0.07310174384082739, 0.0...</td>\n",
              "      <td>0.959524</td>\n",
              "      <td>[0.9529439649575414, 0.9568221319749458, 0.969...</td>\n",
              "      <td>[5.0507712000646554e-05, 0.0001353992309098534...</td>\n",
              "      <td>0.819778</td>\n",
              "      <td>0.954353</td>\n",
              "      <td>{0: 0.948097694156572, 1: 0.9499360693017618, ...</td>\n",
              "      <td>647328</td>\n",
              "    </tr>\n",
              "    <tr>\n",
              "      <th>1</th>\n",
              "      <td>70</td>\n",
              "      <td>0.969451</td>\n",
              "      <td>0.090397</td>\n",
              "      <td>26825.867391</td>\n",
              "      <td>[2522.347073286008, 7831.907237517528, 10085.6...</td>\n",
              "      <td>[0.09402579005855398, 0.10795394264352627, 0.0...</td>\n",
              "      <td>0.94689</td>\n",
              "      <td>[0.9372388974030877, 0.9385662507542938, 0.966...</td>\n",
              "      <td>[5.3239145024627876e-05, 0.0001605499705214436...</td>\n",
              "      <td>0.815432</td>\n",
              "      <td>0.940495</td>\n",
              "      <td>{0: 0.931526913985885, 1: 0.9288738926162862, ...</td>\n",
              "      <td>851211</td>\n",
              "    </tr>\n",
              "    <tr>\n",
              "      <th>0</th>\n",
              "      <td>100</td>\n",
              "      <td>0.96905</td>\n",
              "      <td>0.107447</td>\n",
              "      <td>36806.962312</td>\n",
              "      <td>[2522.347073286008, 9544.976960011018, 14626.1...</td>\n",
              "      <td>[0.11456179411078875, 0.15714161902761611, 0.0...</td>\n",
              "      <td>0.941571</td>\n",
              "      <td>[0.9362075933373438, 0.9292758768968619, 0.953...</td>\n",
              "      <td>[5.472155205101062e-05, 0.00018688909902293352...</td>\n",
              "      <td>0.80993</td>\n",
              "      <td>0.935165</td>\n",
              "      <td>{0: 0.9308963921928002, 1: 0.9191738406209415,...</td>\n",
              "      <td>926923</td>\n",
              "    </tr>\n",
              "  </tbody>\n",
              "</table>\n",
              "</div>"
            ],
            "text/plain": [
              "   model  accuracy      loss  total_synops  \\\n",
              "6      1  0.098157  2.302585   4961.694532   \n",
              "5      3  0.098157  2.302585   5881.479243   \n",
              "7      4  0.877103  0.360542    7083.64198   \n",
              "4      5   0.81861  0.542907   6916.333153   \n",
              "3     10  0.960938  0.120013   6371.237338   \n",
              "2     50  0.959435  0.118798  20410.376024   \n",
              "1     70  0.969451  0.090397  26825.867391   \n",
              "0    100   0.96905  0.107447  36806.962312   \n",
              "\n",
              "                                    synops_per_layer  \\\n",
              "6  [2522.347073286008, 865.2683181762695, 1574.07...   \n",
              "5  [2522.347073286008, 1171.9148600651667, 2187.2...   \n",
              "7  [2522.347073286008, 2303.487991724259, 1758.21...   \n",
              "4  [2522.347073286008, 2405.1207400590947, 1523.2...   \n",
              "3  [2522.347073286008, 1515.0562231601814, 1362.9...   \n",
              "2  [2522.347073286008, 5944.649029071515, 6799.48...   \n",
              "1  [2522.347073286008, 7831.907237517528, 10085.6...   \n",
              "0  [2522.347073286008, 9544.976960011018, 14626.1...   \n",
              "\n",
              "                                 fire_rate_per_layer total_act_sparsity  \\\n",
              "6  [0.01027015646179326, 0.016468121076169878, 0....           0.994218   \n",
              "5  [0.013970506147672541, 0.023510559205300152, 0...           0.993596   \n",
              "7  [0.027590441189180963, 0.018810652581473384, 0...           0.988996   \n",
              "4  [0.028837264607994795, 0.016188816168906692, 0...           0.986726   \n",
              "3  [0.018187863871646233, 0.01468609028066007, 0....           0.987801   \n",
              "2  [0.07125570721781024, 0.07310174384082739, 0.0...           0.959524   \n",
              "1  [0.09402579005855398, 0.10795394264352627, 0.0...            0.94689   \n",
              "0  [0.11456179411078875, 0.15714161902761611, 0.0...           0.941571   \n",
              "\n",
              "                              act_sparsity_per_layer  \\\n",
              "6  [0.9924733437398342, 0.9911450141213587, 1.0, ...   \n",
              "5  [0.9914175079204005, 0.9906319633017767, 1.0, ...   \n",
              "7  [0.9853491610221108, 0.9900751593496093, 0.996...   \n",
              "4  [0.9809995156032815, 0.9904344044091951, 0.997...   \n",
              "3  [0.9865657904434866, 0.9881905982699893, 0.993...   \n",
              "2  [0.9529439649575414, 0.9568221319749458, 0.969...   \n",
              "1  [0.9372388974030877, 0.9385662507542938, 0.966...   \n",
              "0  [0.9362075933373438, 0.9292758768968619, 0.953...   \n",
              "\n",
              "                                              powers       fps act_sparsity  \\\n",
              "6  [4.821981264793224e-05, 0.00010015116616881171...  0.825982     0.981455   \n",
              "5  [4.7693268665906666e-05, 9.461079964919775e-05...   0.82763     0.976614   \n",
              "7  [4.680929383744346e-05, 8.95118228301065e-05, ...  0.827963     0.983786   \n",
              "4  [4.7096167803698885e-05, 8.971853961051057e-05...   0.82781     0.976075   \n",
              "3  [4.663982192049138e-05, 8.616985965249063e-05,...  0.829316     0.985875   \n",
              "2  [5.0507712000646554e-05, 0.0001353992309098534...  0.819778     0.954353   \n",
              "1  [5.3239145024627876e-05, 0.0001605499705214436...  0.815432     0.940495   \n",
              "0  [5.472155205101062e-05, 0.00018688909902293352...   0.80993     0.935165   \n",
              "\n",
              "                                     act_sp_by_layer tot_spikes  \n",
              "6  {2: 0.0, 3: 0.0, 4: 0.0, 0: 0.9808480280531211...     184967  \n",
              "5  {2: 0.0, 3: 0.0, 4: 0.0, 0: 0.9748265830755254...     159607  \n",
              "7  {0: 0.979414648764343, 1: 0.9841044930292863, ...     195933  \n",
              "4  {0: 0.9710628753170377, 1: 0.9833597975807805,...     241921  \n",
              "3  {0: 0.9851409026365514, 1: 0.9862346759267743,...     191154  \n",
              "2  {0: 0.948097694156572, 1: 0.9499360693017618, ...     647328  \n",
              "1  {0: 0.931526913985885, 1: 0.9288738926162862, ...     851211  \n",
              "0  {0: 0.9308963921928002, 1: 0.9191738406209415,...     926923  "
            ]
          },
          "metadata": {},
          "output_type": "display_data"
        }
      ],
      "source": [
        "# Convert to DataFrame\n",
        "df = pd.DataFrame(all_results)\n",
        "df = df.T.reset_index().rename(columns={'index': 'model'})\n",
        "df['model'] = df['model'].apply(int)\n",
        "df.sort_values(\"model\", inplace=True)\n",
        "\n",
        "display(df)"
      ]
    },
    {
      "cell_type": "markdown",
      "id": "004e3432",
      "metadata": {
        "id": "004e3432"
      },
      "source": [
        "# Model statistics on Hardware"
      ]
    },
    {
      "cell_type": "code",
      "execution_count": 28,
      "id": "de5a3175",
      "metadata": {
        "id": "de5a3175",
        "outputId": "9b6d635b-b2f3-4c7d-93b5-1fe4af45eeac"
      },
      "outputs": [
        {
          "data": {
            "image/png": "[encoded data removed]",
            "text/plain": [
              "<Figure size 1800x500 with 5 Axes>"
            ]
          },
          "metadata": {},
          "output_type": "display_data"
        }
      ],
      "source": [
        "import numpy as np\n",
        "import pandas as pd\n",
        "import matplotlib.pyplot as plt\n",
        "\n",
        "pwr_chan_label = [\"io\", \"ram\", \"logic\", \"vddd\", \"vdda\"]\n",
        "\n",
        "# Sort by model name (optional)\n",
        "df.sort_values(\"model\", inplace=True)\n",
        "\n",
        "# Create x-axis positions\n",
        "x_positions = np.arange(len(df[\"model\"]))\n",
        "x_labels = df[\"model\"]\n",
        "\n",
        "# Create subplots\n",
        "fig, axs = plt.subplots(1, 5, figsize=(18, 5))\n",
        "fig.suptitle(\"Model Metrics on Hardware\", fontsize=14)\n",
        "\n",
        "\n",
        "for i, ch in enumerate(np.stack(df['powers'].to_numpy()).T):\n",
        "    axs[0].scatter(x_positions, ch, label=f\"{pwr_chan_label[i]}\")\n",
        "axs[0].set_title(\"Power Consumption\")\n",
        "axs[0].set_ylabel(\"Power (µW)\")\n",
        "axs[0].set_xticks(x_positions)\n",
        "axs[0].set_xticklabels(x_labels, rotation=45, ha=\"right\")\n",
        "axs[0].legend()\n",
        "\n",
        "axs[1].scatter(x_positions, df['fps'])\n",
        "axs[1].set_title(\"FPS\")\n",
        "axs[1].set_xticks(x_positions)\n",
        "axs[1].set_xticklabels(x_labels, rotation=45, ha=\"right\")\n",
        "\n",
        "axs[2].scatter(x_positions, df['act_sparsity'])\n",
        "axs[2].set_title(\"Activation Sparsity\")\n",
        "axs[2].set_xticks(x_positions)\n",
        "axs[2].set_xticklabels(x_labels, rotation=45, ha=\"right\")\n",
        "\n",
        "layer_sparsities = np.stack(df['act_sp_by_layer'].to_numpy()).T\n",
        "sparsity_vectors = np.array([list(d.values()) for d in layer_sparsities])\n",
        "\n",
        "for i in range(sparsity_vectors.shape[1]):\n",
        "    axs[3].scatter(x_positions, sparsity_vectors[:, i], label=f\"Layer {i}\")\n",
        "axs[3].set_title(\"Act. Sparsity by Layer\")\n",
        "axs[3].set_xticks(x_positions)\n",
        "axs[3].set_xticklabels(x_labels, rotation=45, ha=\"right\")\n",
        "axs[3].legend()\n",
        "\n",
        "axs[4].scatter(x_positions, df['tot_spikes'])\n",
        "axs[4].set_title(\"Total Spikes\")\n",
        "axs[4].set_xticks(x_positions)\n",
        "axs[4].set_xticklabels(x_labels, rotation=45, ha=\"right\")\n",
        "\n",
        "plt.tight_layout()\n",
        "plt.show()"
      ]
    },
    {
      "cell_type": "markdown",
      "id": "veOjkkOqVQV7",
      "metadata": {
        "id": "veOjkkOqVQV7"
      },
      "source": [
        "# How to choose the correct sparsity inducing approach?\n",
        "\n",
        "Choosing the correct sparsity inducing approach is not easy, as we need to keep in mind some considerations:\n",
        "\n",
        " - In neuromorphic hardware have different computational units (\"neuron cores\") that run in parallel, and each of them executes a subset of your network (for example a single layer)\n",
        " - These neuron cores communicate with each other using efficient event based communication\n",
        " - The hardware is able to exploit unstructured sparsity: Just pruning a few values in the synaptic weight matrix, or reducing the amount of events coming out from one of the layers will reduce computational time\n",
        " - Although neuron cores  run in parallel they still need to synchronize, therefore the **slowest neuron core** in the network will slow down everything\n",
        " - Each hardware has different characteristics and limitations regarding the support for sparsity, for example Loihi 2 does not support well weight sparsity for convolutional layers\n",
        "  - Each hardware is different and the bottleneck can vary. It could be memory access, spike transmission, neuron model computation, etc.\n",
        "  - An oversized network with high sparsity can perform better than a small network with low sparsity:\n",
        "\n",
        "Therefore\n",
        " - You need to choose the sparsity levels so that you are actually getting runtime (and therefore energy) improvements. For example, tunning sparsity layer-by-layer, to speed up the slowest core."
      ]
    },
    {
      "cell_type": "markdown",
      "id": "0463b285",
      "metadata": {
        "id": "0463b285"
      },
      "source": [
        "# NIR\n",
        "\n",
        "Finally we export the model using the Neuromorphic Intermediate Representation package"
      ]
    },
    {
      "cell_type": "code",
      "execution_count": 30,
      "id": "333ff622",
      "metadata": {
        "id": "333ff622",
        "outputId": "e2fdb987-a356-4e17-8f44-bfdf6aabe556"
      },
      "outputs": [
        {
          "name": "stdout",
          "output_type": "stream",
          "text": [
            "[warning] 1.input_type undefined, set to input.output_type\n",
            "[warning] 3.input_type undefined, set to 2.output_type\n",
            "[warning] 5.input_type undefined, set to 4.output_type\n",
            "[warning] 7.input_type undefined, set to 6.output_type\n",
            "[warning] 9.input_type undefined, set to 8.output_type\n",
            "[warning] 11.input_type undefined, set to 10.output_type\n",
            "updateing flatten output\n",
            "[warning] 1.input_type undefined, set to input.output_type\n",
            "[warning] 3.input_type undefined, set to 2.output_type\n",
            "[warning] 5.input_type undefined, set to 4.output_type\n",
            "[warning] 7.input_type undefined, set to 6.output_type\n",
            "[warning] 9.input_type undefined, set to 8.output_type\n",
            "[warning] 11.input_type undefined, set to 10.output_type\n",
            "updateing flatten output\n",
            "[warning] 1.input_type undefined, set to input.output_type\n",
            "[warning] 3.input_type undefined, set to 2.output_type\n",
            "[warning] 5.input_type undefined, set to 4.output_type\n",
            "[warning] 7.input_type undefined, set to 6.output_type\n",
            "[warning] 9.input_type undefined, set to 8.output_type\n",
            "[warning] 11.input_type undefined, set to 10.output_type\n",
            "updateing flatten output\n",
            "[warning] 1.input_type undefined, set to input.output_type\n",
            "[warning] 3.input_type undefined, set to 2.output_type\n",
            "[warning] 5.input_type undefined, set to 4.output_type\n",
            "[warning] 7.input_type undefined, set to 6.output_type\n",
            "[warning] 9.input_type undefined, set to 8.output_type\n",
            "[warning] 11.input_type undefined, set to 10.output_type\n",
            "updateing flatten output\n",
            "[warning] 1.input_type undefined, set to input.output_type\n",
            "[warning] 3.input_type undefined, set to 2.output_type\n",
            "[warning] 5.input_type undefined, set to 4.output_type\n",
            "[warning] 7.input_type undefined, set to 6.output_type\n",
            "[warning] 9.input_type undefined, set to 8.output_type\n",
            "[warning] 11.input_type undefined, set to 10.output_type\n",
            "updateing flatten output\n",
            "[warning] 1.input_type undefined, set to input.output_type\n",
            "[warning] 3.input_type undefined, set to 2.output_type\n",
            "[warning] 5.input_type undefined, set to 4.output_type\n",
            "[warning] 7.input_type undefined, set to 6.output_type\n",
            "[warning] 9.input_type undefined, set to 8.output_type\n",
            "[warning] 11.input_type undefined, set to 10.output_type\n",
            "updateing flatten output\n",
            "[warning] 1.input_type undefined, set to input.output_type\n",
            "[warning] 3.input_type undefined, set to 2.output_type\n",
            "[warning] 5.input_type undefined, set to 4.output_type\n",
            "[warning] 7.input_type undefined, set to 6.output_type\n",
            "[warning] 9.input_type undefined, set to 8.output_type\n",
            "[warning] 11.input_type undefined, set to 10.output_type\n",
            "updateing flatten output\n",
            "[warning] 1.input_type undefined, set to input.output_type\n",
            "[warning] 3.input_type undefined, set to 2.output_type\n",
            "[warning] 5.input_type undefined, set to 4.output_type\n",
            "[warning] 7.input_type undefined, set to 6.output_type\n",
            "[warning] 9.input_type undefined, set to 8.output_type\n",
            "[warning] 11.input_type undefined, set to 10.output_type\n",
            "updateing flatten output\n"
          ]
        }
      ],
      "source": [
        "from sinabs.nir import to_nir\n",
        "import nir\n",
        "\n",
        "model = create_model(batch_size=1)\n",
        "model = model[1:-1]  # We dont need the flatten/unflatten layers as they are specific to speck\n",
        "\n",
        "os.makedirs('exported_models', exist_ok=True)\n",
        "\n",
        "model_files = [f for f in os.listdir(\"./saved_models/\") if f.endswith('.pth')]\n",
        "for model_file in model_files:\n",
        "    model_path = os.path.join(\"./saved_models\", model_file)\n",
        "\n",
        "    checkpoint = torch.load(model_path, weights_only=False, map_location='cpu')\n",
        "    filtered_state_dict = {\n",
        "        k: v for k, v in checkpoint.state_dict().items() if \"v_mem\" not in k\n",
        "    }\n",
        "\n",
        "    model.load_state_dict(filtered_state_dict, strict=False)\n",
        "\n",
        "    nir_graph = to_nir(model, sample_data=torch.rand((1, 2, 34, 34)))\n",
        "    nir_graph.infer_types()\n",
        "    nir_model_name = model_file.replace('.pth', '.nir')\n",
        "    nir.write(f\"exported_models/{nir_model_name}\", nir_graph)"
      ]
    }
  ],
  "metadata": {
    "accelerator": "GPU",
    "colab": {
      "gpuType": "T4",
      "provenance": []
    },
    "kernelspec": {
      "display_name": "speck",
      "language": "python",
      "name": "python3"
    },
    "language_info": {
      "codemirror_mode": {
        "name": "ipython",
        "version": 3
      },
      "file_extension": ".py",
      "mimetype": "text/x-python",
      "name": "python",
      "nbconvert_exporter": "python",
      "pygments_lexer": "ipython3",
      "version": "3.13.0"
    },
    "widgets": {
      "application/vnd.jupyter.widget-state+json": {
        "288cbd699d1749e6b6788a73338fce0d": {
          "model_module": "@jupyter-widgets/controls",
          "model_module_version": "1.5.0",
          "model_name": "HTMLModel",
          "state": {
            "_dom_classes": [],
            "_model_module": "@jupyter-widgets/controls",
            "_model_module_version": "1.5.0",
            "_model_name": "HTMLModel",
            "_view_count": null,
            "_view_module": "@jupyter-widgets/controls",
            "_view_module_version": "1.5.0",
            "_view_name": "HTMLView",
            "description": "",
            "description_tooltip": null,
            "layout": "IPY_MODEL_5c4da0d4b1ab49f4bb649124cbd45bc8",
            "placeholder": "​",
            "style": "IPY_MODEL_b88365df2bdc4a3ea5ea562c1f26fe15",
            "value": ""
          }
        },
        "2d212e6a2be94b0aa0fcbb756c691681": {
          "model_module": "@jupyter-widgets/controls",
          "model_module_version": "1.5.0",
          "model_name": "HTMLModel",
          "state": {
            "_dom_classes": [],
            "_model_module": "@jupyter-widgets/controls",
            "_model_module_version": "1.5.0",
            "_model_name": "HTMLModel",
            "_view_count": null,
            "_view_module": "@jupyter-widgets/controls",
            "_view_module_version": "1.5.0",
            "_view_name": "HTMLView",
            "description": "",
            "description_tooltip": null,
            "layout": "IPY_MODEL_f9027c8f75b9421aac5241fdaa91fe8c",
            "placeholder": "​",
            "style": "IPY_MODEL_6f385af352794589a7e262d56d7501a5",
            "value": " 1011894272/? [03:41&lt;00:00, 1645135.32it/s]"
          }
        },
        "2ec3e8cdfb9c4cbeaf3a99f0f94e4372": {
          "model_module": "@jupyter-widgets/base",
          "model_module_version": "1.2.0",
          "model_name": "LayoutModel",
          "state": {
            "_model_module": "@jupyter-widgets/base",
            "_model_module_version": "1.2.0",
            "_model_name": "LayoutModel",
            "_view_count": null,
            "_view_module": "@jupyter-widgets/base",
            "_view_module_version": "1.2.0",
            "_view_name": "LayoutView",
            "align_content": null,
            "align_items": null,
            "align_self": null,
            "border": null,
            "bottom": null,
            "display": null,
            "flex": null,
            "flex_flow": null,
            "grid_area": null,
            "grid_auto_columns": null,
            "grid_auto_flow": null,
            "grid_auto_rows": null,
            "grid_column": null,
            "grid_gap": null,
            "grid_row": null,
            "grid_template_areas": null,
            "grid_template_columns": null,
            "grid_template_rows": null,
            "height": null,
            "justify_content": null,
            "justify_items": null,
            "left": null,
            "margin": null,
            "max_height": null,
            "max_width": null,
            "min_height": null,
            "min_width": null,
            "object_fit": null,
            "object_position": null,
            "order": null,
            "overflow": null,
            "overflow_x": null,
            "overflow_y": null,
            "padding": null,
            "right": null,
            "top": null,
            "visibility": null,
            "width": null
          }
        },
        "46b337477a20433dab2d44994d674387": {
          "model_module": "@jupyter-widgets/controls",
          "model_module_version": "1.5.0",
          "model_name": "DescriptionStyleModel",
          "state": {
            "_model_module": "@jupyter-widgets/controls",
            "_model_module_version": "1.5.0",
            "_model_name": "DescriptionStyleModel",
            "_view_count": null,
            "_view_module": "@jupyter-widgets/base",
            "_view_module_version": "1.2.0",
            "_view_name": "StyleView",
            "description_width": ""
          }
        },
        "4befd905ff774f9787f52e635d2f830c": {
          "model_module": "@jupyter-widgets/controls",
          "model_module_version": "1.5.0",
          "model_name": "FloatProgressModel",
          "state": {
            "_dom_classes": [],
            "_model_module": "@jupyter-widgets/controls",
            "_model_module_version": "1.5.0",
            "_model_name": "FloatProgressModel",
            "_view_count": null,
            "_view_module": "@jupyter-widgets/controls",
            "_view_module_version": "1.5.0",
            "_view_name": "ProgressView",
            "bar_style": "success",
            "description": "",
            "description_tooltip": null,
            "layout": "IPY_MODEL_ab1e2bd3bbb748b59cf9fab5f6785057",
            "max": 169674850,
            "min": 0,
            "orientation": "horizontal",
            "style": "IPY_MODEL_aff57636cbc544c18cded3661fe676b2",
            "value": 169674850
          }
        },
        "4de212ba387b485caa8a4a0abcba2426": {
          "model_module": "@jupyter-widgets/controls",
          "model_module_version": "1.5.0",
          "model_name": "HBoxModel",
          "state": {
            "_dom_classes": [],
            "_model_module": "@jupyter-widgets/controls",
            "_model_module_version": "1.5.0",
            "_model_name": "HBoxModel",
            "_view_count": null,
            "_view_module": "@jupyter-widgets/controls",
            "_view_module_version": "1.5.0",
            "_view_name": "HBoxView",
            "box_style": "",
            "children": [
              "IPY_MODEL_abe2dd38d4a54da8a004525dc1547867",
              "IPY_MODEL_4befd905ff774f9787f52e635d2f830c",
              "IPY_MODEL_a702013751f64a689b54ea6fd888d385"
            ],
            "layout": "IPY_MODEL_60ba4439459341c0b87e0601bd7c2c63"
          }
        },
        "50729feb71e74830b74158c60d6807c0": {
          "model_module": "@jupyter-widgets/base",
          "model_module_version": "1.2.0",
          "model_name": "LayoutModel",
          "state": {
            "_model_module": "@jupyter-widgets/base",
            "_model_module_version": "1.2.0",
            "_model_name": "LayoutModel",
            "_view_count": null,
            "_view_module": "@jupyter-widgets/base",
            "_view_module_version": "1.2.0",
            "_view_name": "LayoutView",
            "align_content": null,
            "align_items": null,
            "align_self": null,
            "border": null,
            "bottom": null,
            "display": null,
            "flex": null,
            "flex_flow": null,
            "grid_area": null,
            "grid_auto_columns": null,
            "grid_auto_flow": null,
            "grid_auto_rows": null,
            "grid_column": null,
            "grid_gap": null,
            "grid_row": null,
            "grid_template_areas": null,
            "grid_template_columns": null,
            "grid_template_rows": null,
            "height": null,
            "justify_content": null,
            "justify_items": null,
            "left": null,
            "margin": null,
            "max_height": null,
            "max_width": null,
            "min_height": null,
            "min_width": null,
            "object_fit": null,
            "object_position": null,
            "order": null,
            "overflow": null,
            "overflow_x": null,
            "overflow_y": null,
            "padding": null,
            "right": null,
            "top": null,
            "visibility": null,
            "width": null
          }
        },
        "5c4da0d4b1ab49f4bb649124cbd45bc8": {
          "model_module": "@jupyter-widgets/base",
          "model_module_version": "1.2.0",
          "model_name": "LayoutModel",
          "state": {
            "_model_module": "@jupyter-widgets/base",
            "_model_module_version": "1.2.0",
            "_model_name": "LayoutModel",
            "_view_count": null,
            "_view_module": "@jupyter-widgets/base",
            "_view_module_version": "1.2.0",
            "_view_name": "LayoutView",
            "align_content": null,
            "align_items": null,
            "align_self": null,
            "border": null,
            "bottom": null,
            "display": null,
            "flex": null,
            "flex_flow": null,
            "grid_area": null,
            "grid_auto_columns": null,
            "grid_auto_flow": null,
            "grid_auto_rows": null,
            "grid_column": null,
            "grid_gap": null,
            "grid_row": null,
            "grid_template_areas": null,
            "grid_template_columns": null,
            "grid_template_rows": null,
            "height": null,
            "justify_content": null,
            "justify_items": null,
            "left": null,
            "margin": null,
            "max_height": null,
            "max_width": null,
            "min_height": null,
            "min_width": null,
            "object_fit": null,
            "object_position": null,
            "order": null,
            "overflow": null,
            "overflow_x": null,
            "overflow_y": null,
            "padding": null,
            "right": null,
            "top": null,
            "visibility": null,
            "width": null
          }
        },
        "60ba4439459341c0b87e0601bd7c2c63": {
          "model_module": "@jupyter-widgets/base",
          "model_module_version": "1.2.0",
          "model_name": "LayoutModel",
          "state": {
            "_model_module": "@jupyter-widgets/base",
            "_model_module_version": "1.2.0",
            "_model_name": "LayoutModel",
            "_view_count": null,
            "_view_module": "@jupyter-widgets/base",
            "_view_module_version": "1.2.0",
            "_view_name": "LayoutView",
            "align_content": null,
            "align_items": null,
            "align_self": null,
            "border": null,
            "bottom": null,
            "display": null,
            "flex": null,
            "flex_flow": null,
            "grid_area": null,
            "grid_auto_columns": null,
            "grid_auto_flow": null,
            "grid_auto_rows": null,
            "grid_column": null,
            "grid_gap": null,
            "grid_row": null,
            "grid_template_areas": null,
            "grid_template_columns": null,
            "grid_template_rows": null,
            "height": null,
            "justify_content": null,
            "justify_items": null,
            "left": null,
            "margin": null,
            "max_height": null,
            "max_width": null,
            "min_height": null,
            "min_width": null,
            "object_fit": null,
            "object_position": null,
            "order": null,
            "overflow": null,
            "overflow_x": null,
            "overflow_y": null,
            "padding": null,
            "right": null,
            "top": null,
            "visibility": null,
            "width": null
          }
        },
        "6806d9007eab4297a5ca0f5db09b5857": {
          "model_module": "@jupyter-widgets/controls",
          "model_module_version": "1.5.0",
          "model_name": "HBoxModel",
          "state": {
            "_dom_classes": [],
            "_model_module": "@jupyter-widgets/controls",
            "_model_module_version": "1.5.0",
            "_model_name": "HBoxModel",
            "_view_count": null,
            "_view_module": "@jupyter-widgets/controls",
            "_view_module_version": "1.5.0",
            "_view_name": "HBoxView",
            "box_style": "",
            "children": [
              "IPY_MODEL_288cbd699d1749e6b6788a73338fce0d",
              "IPY_MODEL_85332e0467084737a304b968f353ac08",
              "IPY_MODEL_2d212e6a2be94b0aa0fcbb756c691681"
            ],
            "layout": "IPY_MODEL_2ec3e8cdfb9c4cbeaf3a99f0f94e4372"
          }
        },
        "6f00c841b52a494d89aa7a96a6339cb1": {
          "model_module": "@jupyter-widgets/controls",
          "model_module_version": "1.5.0",
          "model_name": "ProgressStyleModel",
          "state": {
            "_model_module": "@jupyter-widgets/controls",
            "_model_module_version": "1.5.0",
            "_model_name": "ProgressStyleModel",
            "_view_count": null,
            "_view_module": "@jupyter-widgets/base",
            "_view_module_version": "1.2.0",
            "_view_name": "StyleView",
            "bar_color": null,
            "description_width": ""
          }
        },
        "6f385af352794589a7e262d56d7501a5": {
          "model_module": "@jupyter-widgets/controls",
          "model_module_version": "1.5.0",
          "model_name": "DescriptionStyleModel",
          "state": {
            "_model_module": "@jupyter-widgets/controls",
            "_model_module_version": "1.5.0",
            "_model_name": "DescriptionStyleModel",
            "_view_count": null,
            "_view_module": "@jupyter-widgets/base",
            "_view_module_version": "1.2.0",
            "_view_name": "StyleView",
            "description_width": ""
          }
        },
        "775f829d922b4fb28787099a11b999c0": {
          "model_module": "@jupyter-widgets/base",
          "model_module_version": "1.2.0",
          "model_name": "LayoutModel",
          "state": {
            "_model_module": "@jupyter-widgets/base",
            "_model_module_version": "1.2.0",
            "_model_name": "LayoutModel",
            "_view_count": null,
            "_view_module": "@jupyter-widgets/base",
            "_view_module_version": "1.2.0",
            "_view_name": "LayoutView",
            "align_content": null,
            "align_items": null,
            "align_self": null,
            "border": null,
            "bottom": null,
            "display": null,
            "flex": null,
            "flex_flow": null,
            "grid_area": null,
            "grid_auto_columns": null,
            "grid_auto_flow": null,
            "grid_auto_rows": null,
            "grid_column": null,
            "grid_gap": null,
            "grid_row": null,
            "grid_template_areas": null,
            "grid_template_columns": null,
            "grid_template_rows": null,
            "height": null,
            "justify_content": null,
            "justify_items": null,
            "left": null,
            "margin": null,
            "max_height": null,
            "max_width": null,
            "min_height": null,
            "min_width": null,
            "object_fit": null,
            "object_position": null,
            "order": null,
            "overflow": null,
            "overflow_x": null,
            "overflow_y": null,
            "padding": null,
            "right": null,
            "top": null,
            "visibility": null,
            "width": null
          }
        },
        "85332e0467084737a304b968f353ac08": {
          "model_module": "@jupyter-widgets/controls",
          "model_module_version": "1.5.0",
          "model_name": "FloatProgressModel",
          "state": {
            "_dom_classes": [],
            "_model_module": "@jupyter-widgets/controls",
            "_model_module_version": "1.5.0",
            "_model_name": "FloatProgressModel",
            "_view_count": null,
            "_view_module": "@jupyter-widgets/controls",
            "_view_module_version": "1.5.0",
            "_view_name": "ProgressView",
            "bar_style": "success",
            "description": "",
            "description_tooltip": null,
            "layout": "IPY_MODEL_f6fdcbb4a1954fb987262cb799812af6",
            "max": 1011893601,
            "min": 0,
            "orientation": "horizontal",
            "style": "IPY_MODEL_6f00c841b52a494d89aa7a96a6339cb1",
            "value": 1011893601
          }
        },
        "a702013751f64a689b54ea6fd888d385": {
          "model_module": "@jupyter-widgets/controls",
          "model_module_version": "1.5.0",
          "model_name": "HTMLModel",
          "state": {
            "_dom_classes": [],
            "_model_module": "@jupyter-widgets/controls",
            "_model_module_version": "1.5.0",
            "_model_name": "HTMLModel",
            "_view_count": null,
            "_view_module": "@jupyter-widgets/controls",
            "_view_module_version": "1.5.0",
            "_view_name": "HTMLView",
            "description": "",
            "description_tooltip": null,
            "layout": "IPY_MODEL_775f829d922b4fb28787099a11b999c0",
            "placeholder": "​",
            "style": "IPY_MODEL_cffddda8b76048be9174e204ba9ed799",
            "value": " 169675776/? [00:09&lt;00:00, 20945052.15it/s]"
          }
        },
        "ab1e2bd3bbb748b59cf9fab5f6785057": {
          "model_module": "@jupyter-widgets/base",
          "model_module_version": "1.2.0",
          "model_name": "LayoutModel",
          "state": {
            "_model_module": "@jupyter-widgets/base",
            "_model_module_version": "1.2.0",
            "_model_name": "LayoutModel",
            "_view_count": null,
            "_view_module": "@jupyter-widgets/base",
            "_view_module_version": "1.2.0",
            "_view_name": "LayoutView",
            "align_content": null,
            "align_items": null,
            "align_self": null,
            "border": null,
            "bottom": null,
            "display": null,
            "flex": null,
            "flex_flow": null,
            "grid_area": null,
            "grid_auto_columns": null,
            "grid_auto_flow": null,
            "grid_auto_rows": null,
            "grid_column": null,
            "grid_gap": null,
            "grid_row": null,
            "grid_template_areas": null,
            "grid_template_columns": null,
            "grid_template_rows": null,
            "height": null,
            "justify_content": null,
            "justify_items": null,
            "left": null,
            "margin": null,
            "max_height": null,
            "max_width": null,
            "min_height": null,
            "min_width": null,
            "object_fit": null,
            "object_position": null,
            "order": null,
            "overflow": null,
            "overflow_x": null,
            "overflow_y": null,
            "padding": null,
            "right": null,
            "top": null,
            "visibility": null,
            "width": null
          }
        },
        "abe2dd38d4a54da8a004525dc1547867": {
          "model_module": "@jupyter-widgets/controls",
          "model_module_version": "1.5.0",
          "model_name": "HTMLModel",
          "state": {
            "_dom_classes": [],
            "_model_module": "@jupyter-widgets/controls",
            "_model_module_version": "1.5.0",
            "_model_name": "HTMLModel",
            "_view_count": null,
            "_view_module": "@jupyter-widgets/controls",
            "_view_module_version": "1.5.0",
            "_view_name": "HTMLView",
            "description": "",
            "description_tooltip": null,
            "layout": "IPY_MODEL_50729feb71e74830b74158c60d6807c0",
            "placeholder": "​",
            "style": "IPY_MODEL_46b337477a20433dab2d44994d674387",
            "value": ""
          }
        },
        "aff57636cbc544c18cded3661fe676b2": {
          "model_module": "@jupyter-widgets/controls",
          "model_module_version": "1.5.0",
          "model_name": "ProgressStyleModel",
          "state": {
            "_model_module": "@jupyter-widgets/controls",
            "_model_module_version": "1.5.0",
            "_model_name": "ProgressStyleModel",
            "_view_count": null,
            "_view_module": "@jupyter-widgets/base",
            "_view_module_version": "1.2.0",
            "_view_name": "StyleView",
            "bar_color": null,
            "description_width": ""
          }
        },
        "b88365df2bdc4a3ea5ea562c1f26fe15": {
          "model_module": "@jupyter-widgets/controls",
          "model_module_version": "1.5.0",
          "model_name": "DescriptionStyleModel",
          "state": {
            "_model_module": "@jupyter-widgets/controls",
            "_model_module_version": "1.5.0",
            "_model_name": "DescriptionStyleModel",
            "_view_count": null,
            "_view_module": "@jupyter-widgets/base",
            "_view_module_version": "1.2.0",
            "_view_name": "StyleView",
            "description_width": ""
          }
        },
        "cffddda8b76048be9174e204ba9ed799": {
          "model_module": "@jupyter-widgets/controls",
          "model_module_version": "1.5.0",
          "model_name": "DescriptionStyleModel",
          "state": {
            "_model_module": "@jupyter-widgets/controls",
            "_model_module_version": "1.5.0",
            "_model_name": "DescriptionStyleModel",
            "_view_count": null,
            "_view_module": "@jupyter-widgets/base",
            "_view_module_version": "1.2.0",
            "_view_name": "StyleView",
            "description_width": ""
          }
        },
        "f6fdcbb4a1954fb987262cb799812af6": {
          "model_module": "@jupyter-widgets/base",
          "model_module_version": "1.2.0",
          "model_name": "LayoutModel",
          "state": {
            "_model_module": "@jupyter-widgets/base",
            "_model_module_version": "1.2.0",
            "_model_name": "LayoutModel",
            "_view_count": null,
            "_view_module": "@jupyter-widgets/base",
            "_view_module_version": "1.2.0",
            "_view_name": "LayoutView",
            "align_content": null,
            "align_items": null,
            "align_self": null,
            "border": null,
            "bottom": null,
            "display": null,
            "flex": null,
            "flex_flow": null,
            "grid_area": null,
            "grid_auto_columns": null,
            "grid_auto_flow": null,
            "grid_auto_rows": null,
            "grid_column": null,
            "grid_gap": null,
            "grid_row": null,
            "grid_template_areas": null,
            "grid_template_columns": null,
            "grid_template_rows": null,
            "height": null,
            "justify_content": null,
            "justify_items": null,
            "left": null,
            "margin": null,
            "max_height": null,
            "max_width": null,
            "min_height": null,
            "min_width": null,
            "object_fit": null,
            "object_position": null,
            "order": null,
            "overflow": null,
            "overflow_x": null,
            "overflow_y": null,
            "padding": null,
            "right": null,
            "top": null,
            "visibility": null,
            "width": null
          }
        },
        "f9027c8f75b9421aac5241fdaa91fe8c": {
          "model_module": "@jupyter-widgets/base",
          "model_module_version": "1.2.0",
          "model_name": "LayoutModel",
          "state": {
            "_model_module": "@jupyter-widgets/base",
            "_model_module_version": "1.2.0",
            "_model_name": "LayoutModel",
            "_view_count": null,
            "_view_module": "@jupyter-widgets/base",
            "_view_module_version": "1.2.0",
            "_view_name": "LayoutView",
            "align_content": null,
            "align_items": null,
            "align_self": null,
            "border": null,
            "bottom": null,
            "display": null,
            "flex": null,
            "flex_flow": null,
            "grid_area": null,
            "grid_auto_columns": null,
            "grid_auto_flow": null,
            "grid_auto_rows": null,
            "grid_column": null,
            "grid_gap": null,
            "grid_row": null,
            "grid_template_areas": null,
            "grid_template_columns": null,
            "grid_template_rows": null,
            "height": null,
            "justify_content": null,
            "justify_items": null,
            "left": null,
            "margin": null,
            "max_height": null,
            "max_width": null,
            "min_height": null,
            "min_width": null,
            "object_fit": null,
            "object_position": null,
            "order": null,
            "overflow": null,
            "overflow_x": null,
            "overflow_y": null,
            "padding": null,
            "right": null,
            "top": null,
            "visibility": null,
            "width": null
          }
        }
      }
    }
  },
  "nbformat": 4,
  "nbformat_minor": 5
}
